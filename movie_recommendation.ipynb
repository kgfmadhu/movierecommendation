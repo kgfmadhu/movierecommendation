{
  "cells": [
    {
      "cell_type": "code",
      "execution_count": 4,
      "metadata": {
        "id": "vthwOG9RfZOs"
      },
      "outputs": [],
      "source": [
        "import numpy as np\n",
        "import pandas as pd\n"
      ]
    },
    {
      "cell_type": "code",
      "execution_count": 5,
      "metadata": {
        "id": "AxKhmBoZfnx9"
      },
      "outputs": [],
      "source": [
        "movies=pd.read_csv('tmdb_5000_movies.csv')\n",
        "credits = pd.read_csv('tmdb_5000_credits.csv', on_bad_lines='skip', engine='python')\n"
      ]
    },
    {
      "cell_type": "code",
      "execution_count": 5,
      "metadata": {
        "id": "7JIjf3STry6v"
      },
      "outputs": [],
      "source": []
    },
    {
      "cell_type": "code",
      "execution_count": 6,
      "metadata": {
        "colab": {
          "base_uri": "https://localhost:8080/",
          "height": 187
        },
        "id": "qnVjmDnegWGT",
        "outputId": "5169662d-1bff-42c5-dbf9-eec476eac201"
      },
      "outputs": [
        {
          "output_type": "execute_result",
          "data": {
            "text/plain": [
              "      budget                                             genres  \\\n",
              "0  237000000  [{\"id\": 28, \"name\": \"Action\"}, {\"id\": 12, \"nam...   \n",
              "\n",
              "                      homepage     id  \\\n",
              "0  http://www.avatarmovie.com/  19995   \n",
              "\n",
              "                                            keywords original_language  \\\n",
              "0  [{\"id\": 1463, \"name\": \"culture clash\"}, {\"id\":...                en   \n",
              "\n",
              "  original_title                                           overview  \\\n",
              "0         Avatar  In the 22nd century, a paraplegic Marine is di...   \n",
              "\n",
              "   popularity                               production_companies  \\\n",
              "0  150.437577  [{\"name\": \"Ingenious Film Partners\", \"id\": 289...   \n",
              "\n",
              "                                production_countries release_date     revenue  \\\n",
              "0  [{\"iso_3166_1\": \"US\", \"name\": \"United States o...   2009-12-10  2787965087   \n",
              "\n",
              "   runtime                                   spoken_languages    status  \\\n",
              "0    162.0  [{\"iso_639_1\": \"en\", \"name\": \"English\"}, {\"iso...  Released   \n",
              "\n",
              "                       tagline   title  vote_average  vote_count  \n",
              "0  Enter the World of Pandora.  Avatar           7.2       11800  "
            ],
            "text/html": [
              "\n",
              "  <div id=\"df-982bef2e-051c-434e-9933-e2dbccc8798c\" class=\"colab-df-container\">\n",
              "    <div>\n",
              "<style scoped>\n",
              "    .dataframe tbody tr th:only-of-type {\n",
              "        vertical-align: middle;\n",
              "    }\n",
              "\n",
              "    .dataframe tbody tr th {\n",
              "        vertical-align: top;\n",
              "    }\n",
              "\n",
              "    .dataframe thead th {\n",
              "        text-align: right;\n",
              "    }\n",
              "</style>\n",
              "<table border=\"1\" class=\"dataframe\">\n",
              "  <thead>\n",
              "    <tr style=\"text-align: right;\">\n",
              "      <th></th>\n",
              "      <th>budget</th>\n",
              "      <th>genres</th>\n",
              "      <th>homepage</th>\n",
              "      <th>id</th>\n",
              "      <th>keywords</th>\n",
              "      <th>original_language</th>\n",
              "      <th>original_title</th>\n",
              "      <th>overview</th>\n",
              "      <th>popularity</th>\n",
              "      <th>production_companies</th>\n",
              "      <th>production_countries</th>\n",
              "      <th>release_date</th>\n",
              "      <th>revenue</th>\n",
              "      <th>runtime</th>\n",
              "      <th>spoken_languages</th>\n",
              "      <th>status</th>\n",
              "      <th>tagline</th>\n",
              "      <th>title</th>\n",
              "      <th>vote_average</th>\n",
              "      <th>vote_count</th>\n",
              "    </tr>\n",
              "  </thead>\n",
              "  <tbody>\n",
              "    <tr>\n",
              "      <th>0</th>\n",
              "      <td>237000000</td>\n",
              "      <td>[{\"id\": 28, \"name\": \"Action\"}, {\"id\": 12, \"nam...</td>\n",
              "      <td>http://www.avatarmovie.com/</td>\n",
              "      <td>19995</td>\n",
              "      <td>[{\"id\": 1463, \"name\": \"culture clash\"}, {\"id\":...</td>\n",
              "      <td>en</td>\n",
              "      <td>Avatar</td>\n",
              "      <td>In the 22nd century, a paraplegic Marine is di...</td>\n",
              "      <td>150.437577</td>\n",
              "      <td>[{\"name\": \"Ingenious Film Partners\", \"id\": 289...</td>\n",
              "      <td>[{\"iso_3166_1\": \"US\", \"name\": \"United States o...</td>\n",
              "      <td>2009-12-10</td>\n",
              "      <td>2787965087</td>\n",
              "      <td>162.0</td>\n",
              "      <td>[{\"iso_639_1\": \"en\", \"name\": \"English\"}, {\"iso...</td>\n",
              "      <td>Released</td>\n",
              "      <td>Enter the World of Pandora.</td>\n",
              "      <td>Avatar</td>\n",
              "      <td>7.2</td>\n",
              "      <td>11800</td>\n",
              "    </tr>\n",
              "  </tbody>\n",
              "</table>\n",
              "</div>\n",
              "    <div class=\"colab-df-buttons\">\n",
              "\n",
              "  <div class=\"colab-df-container\">\n",
              "    <button class=\"colab-df-convert\" onclick=\"convertToInteractive('df-982bef2e-051c-434e-9933-e2dbccc8798c')\"\n",
              "            title=\"Convert this dataframe to an interactive table.\"\n",
              "            style=\"display:none;\">\n",
              "\n",
              "  <svg xmlns=\"http://www.w3.org/2000/svg\" height=\"24px\" viewBox=\"0 -960 960 960\">\n",
              "    <path d=\"M120-120v-720h720v720H120Zm60-500h600v-160H180v160Zm220 220h160v-160H400v160Zm0 220h160v-160H400v160ZM180-400h160v-160H180v160Zm440 0h160v-160H620v160ZM180-180h160v-160H180v160Zm440 0h160v-160H620v160Z\"/>\n",
              "  </svg>\n",
              "    </button>\n",
              "\n",
              "  <style>\n",
              "    .colab-df-container {\n",
              "      display:flex;\n",
              "      gap: 12px;\n",
              "    }\n",
              "\n",
              "    .colab-df-convert {\n",
              "      background-color: #E8F0FE;\n",
              "      border: none;\n",
              "      border-radius: 50%;\n",
              "      cursor: pointer;\n",
              "      display: none;\n",
              "      fill: #1967D2;\n",
              "      height: 32px;\n",
              "      padding: 0 0 0 0;\n",
              "      width: 32px;\n",
              "    }\n",
              "\n",
              "    .colab-df-convert:hover {\n",
              "      background-color: #E2EBFA;\n",
              "      box-shadow: 0px 1px 2px rgba(60, 64, 67, 0.3), 0px 1px 3px 1px rgba(60, 64, 67, 0.15);\n",
              "      fill: #174EA6;\n",
              "    }\n",
              "\n",
              "    .colab-df-buttons div {\n",
              "      margin-bottom: 4px;\n",
              "    }\n",
              "\n",
              "    [theme=dark] .colab-df-convert {\n",
              "      background-color: #3B4455;\n",
              "      fill: #D2E3FC;\n",
              "    }\n",
              "\n",
              "    [theme=dark] .colab-df-convert:hover {\n",
              "      background-color: #434B5C;\n",
              "      box-shadow: 0px 1px 3px 1px rgba(0, 0, 0, 0.15);\n",
              "      filter: drop-shadow(0px 1px 2px rgba(0, 0, 0, 0.3));\n",
              "      fill: #FFFFFF;\n",
              "    }\n",
              "  </style>\n",
              "\n",
              "    <script>\n",
              "      const buttonEl =\n",
              "        document.querySelector('#df-982bef2e-051c-434e-9933-e2dbccc8798c button.colab-df-convert');\n",
              "      buttonEl.style.display =\n",
              "        google.colab.kernel.accessAllowed ? 'block' : 'none';\n",
              "\n",
              "      async function convertToInteractive(key) {\n",
              "        const element = document.querySelector('#df-982bef2e-051c-434e-9933-e2dbccc8798c');\n",
              "        const dataTable =\n",
              "          await google.colab.kernel.invokeFunction('convertToInteractive',\n",
              "                                                    [key], {});\n",
              "        if (!dataTable) return;\n",
              "\n",
              "        const docLinkHtml = 'Like what you see? Visit the ' +\n",
              "          '<a target=\"_blank\" href=https://colab.research.google.com/notebooks/data_table.ipynb>data table notebook</a>'\n",
              "          + ' to learn more about interactive tables.';\n",
              "        element.innerHTML = '';\n",
              "        dataTable['output_type'] = 'display_data';\n",
              "        await google.colab.output.renderOutput(dataTable, element);\n",
              "        const docLink = document.createElement('div');\n",
              "        docLink.innerHTML = docLinkHtml;\n",
              "        element.appendChild(docLink);\n",
              "      }\n",
              "    </script>\n",
              "  </div>\n",
              "\n",
              "\n",
              "    </div>\n",
              "  </div>\n"
            ],
            "application/vnd.google.colaboratory.intrinsic+json": {
              "type": "dataframe",
              "variable_name": "movies",
              "summary": "{\n  \"name\": \"movies\",\n  \"rows\": 4803,\n  \"fields\": [\n    {\n      \"column\": \"budget\",\n      \"properties\": {\n        \"dtype\": \"number\",\n        \"std\": 40722391,\n        \"min\": 0,\n        \"max\": 380000000,\n        \"num_unique_values\": 436,\n        \"samples\": [\n          439000,\n          68000000,\n          700000\n        ],\n        \"semantic_type\": \"\",\n        \"description\": \"\"\n      }\n    },\n    {\n      \"column\": \"genres\",\n      \"properties\": {\n        \"dtype\": \"category\",\n        \"num_unique_values\": 1175,\n        \"samples\": [\n          \"[{\\\"id\\\": 14, \\\"name\\\": \\\"Fantasy\\\"}, {\\\"id\\\": 12, \\\"name\\\": \\\"Adventure\\\"}, {\\\"id\\\": 16, \\\"name\\\": \\\"Animation\\\"}]\",\n          \"[{\\\"id\\\": 28, \\\"name\\\": \\\"Action\\\"}, {\\\"id\\\": 35, \\\"name\\\": \\\"Comedy\\\"}, {\\\"id\\\": 80, \\\"name\\\": \\\"Crime\\\"}, {\\\"id\\\": 18, \\\"name\\\": \\\"Drama\\\"}]\",\n          \"[{\\\"id\\\": 12, \\\"name\\\": \\\"Adventure\\\"}, {\\\"id\\\": 16, \\\"name\\\": \\\"Animation\\\"}, {\\\"id\\\": 10751, \\\"name\\\": \\\"Family\\\"}, {\\\"id\\\": 14, \\\"name\\\": \\\"Fantasy\\\"}, {\\\"id\\\": 878, \\\"name\\\": \\\"Science Fiction\\\"}]\"\n        ],\n        \"semantic_type\": \"\",\n        \"description\": \"\"\n      }\n    },\n    {\n      \"column\": \"homepage\",\n      \"properties\": {\n        \"dtype\": \"category\",\n        \"num_unique_values\": 1691,\n        \"samples\": [\n          \"https://www.warnerbros.com/running-scared\",\n          \"http://www.51birchstreet.com/index.php\",\n          \"http://movies2.foxjapan.com/glee/\"\n        ],\n        \"semantic_type\": \"\",\n        \"description\": \"\"\n      }\n    },\n    {\n      \"column\": \"id\",\n      \"properties\": {\n        \"dtype\": \"number\",\n        \"std\": 88694,\n        \"min\": 5,\n        \"max\": 459488,\n        \"num_unique_values\": 4803,\n        \"samples\": [\n          8427,\n          13006,\n          18041\n        ],\n        \"semantic_type\": \"\",\n        \"description\": \"\"\n      }\n    },\n    {\n      \"column\": \"keywords\",\n      \"properties\": {\n        \"dtype\": \"string\",\n        \"num_unique_values\": 4222,\n        \"samples\": [\n          \"[{\\\"id\\\": 782, \\\"name\\\": \\\"assassin\\\"}, {\\\"id\\\": 1872, \\\"name\\\": \\\"loss of father\\\"}, {\\\"id\\\": 2908, \\\"name\\\": \\\"secret society\\\"}, {\\\"id\\\": 3045, \\\"name\\\": \\\"mission of murder\\\"}, {\\\"id\\\": 9748, \\\"name\\\": \\\"revenge\\\"}]\",\n          \"[{\\\"id\\\": 2987, \\\"name\\\": \\\"gang war\\\"}, {\\\"id\\\": 4942, \\\"name\\\": \\\"victim of murder\\\"}, {\\\"id\\\": 5332, \\\"name\\\": \\\"greed\\\"}, {\\\"id\\\": 6062, \\\"name\\\": \\\"hostility\\\"}, {\\\"id\\\": 156212, \\\"name\\\": \\\"spaghetti western\\\"}]\",\n          \"[{\\\"id\\\": 703, \\\"name\\\": \\\"detective\\\"}, {\\\"id\\\": 1299, \\\"name\\\": \\\"monster\\\"}, {\\\"id\\\": 6101, \\\"name\\\": \\\"engine\\\"}, {\\\"id\\\": 10988, \\\"name\\\": \\\"based on tv series\\\"}, {\\\"id\\\": 15162, \\\"name\\\": \\\"dog\\\"}]\"\n        ],\n        \"semantic_type\": \"\",\n        \"description\": \"\"\n      }\n    },\n    {\n      \"column\": \"original_language\",\n      \"properties\": {\n        \"dtype\": \"category\",\n        \"num_unique_values\": 37,\n        \"samples\": [\n          \"xx\",\n          \"ta\",\n          \"es\"\n        ],\n        \"semantic_type\": \"\",\n        \"description\": \"\"\n      }\n    },\n    {\n      \"column\": \"original_title\",\n      \"properties\": {\n        \"dtype\": \"string\",\n        \"num_unique_values\": 4801,\n        \"samples\": [\n          \"I Spy\",\n          \"Love Letters\",\n          \"Sleepover\"\n        ],\n        \"semantic_type\": \"\",\n        \"description\": \"\"\n      }\n    },\n    {\n      \"column\": \"overview\",\n      \"properties\": {\n        \"dtype\": \"string\",\n        \"num_unique_values\": 4800,\n        \"samples\": [\n          \"When the Switchblade, the most sophisticated prototype stealth fighter created yet, is stolen from the U.S. government, one of the United States' top spies, Alex Scott, is called to action. What he doesn't expect is to get teamed up with a cocky civilian, World Class Boxing Champion Kelly Robinson, on a dangerous top secret espionage mission. Their assignment: using equal parts skill and humor, catch Arnold Gundars, one of the world's most successful arms dealers.\",\n          \"When \\\"street smart\\\" rapper Christopher \\\"C-Note\\\" Hawkins (Big Boi) applies for a membership to all-white Carolina Pines Country Club, the establishment's proprietors are hardly ready to oblige him.\",\n          \"As their first year of high school looms ahead, best friends Julie, Hannah, Yancy and Farrah have one last summer sleepover. Little do they know they're about to embark on the adventure of a lifetime. Desperate to shed their nerdy status, they take part in a night-long scavenger hunt that pits them against their popular archrivals. Everything under the sun goes on -- from taking Yancy's father's car to sneaking into nightclubs!\"\n        ],\n        \"semantic_type\": \"\",\n        \"description\": \"\"\n      }\n    },\n    {\n      \"column\": \"popularity\",\n      \"properties\": {\n        \"dtype\": \"number\",\n        \"std\": 31.816649749537806,\n        \"min\": 0.0,\n        \"max\": 875.581305,\n        \"num_unique_values\": 4802,\n        \"samples\": [\n          13.267631,\n          0.010909,\n          5.842299\n        ],\n        \"semantic_type\": \"\",\n        \"description\": \"\"\n      }\n    },\n    {\n      \"column\": \"production_companies\",\n      \"properties\": {\n        \"dtype\": \"string\",\n        \"num_unique_values\": 3697,\n        \"samples\": [\n          \"[{\\\"name\\\": \\\"Paramount Pictures\\\", \\\"id\\\": 4}, {\\\"name\\\": \\\"Cherry Alley Productions\\\", \\\"id\\\": 2232}]\",\n          \"[{\\\"name\\\": \\\"Twentieth Century Fox Film Corporation\\\", \\\"id\\\": 306}, {\\\"name\\\": \\\"Dune Entertainment\\\", \\\"id\\\": 444}, {\\\"name\\\": \\\"Regency Enterprises\\\", \\\"id\\\": 508}, {\\\"name\\\": \\\"Guy Walks into a Bar Productions\\\", \\\"id\\\": 2645}, {\\\"name\\\": \\\"Deep River Productions\\\", \\\"id\\\": 2646}, {\\\"name\\\": \\\"Friendly Films (II)\\\", \\\"id\\\": 81136}]\",\n          \"[{\\\"name\\\": \\\"Twentieth Century Fox Film Corporation\\\", \\\"id\\\": 306}]\"\n        ],\n        \"semantic_type\": \"\",\n        \"description\": \"\"\n      }\n    },\n    {\n      \"column\": \"production_countries\",\n      \"properties\": {\n        \"dtype\": \"category\",\n        \"num_unique_values\": 469,\n        \"samples\": [\n          \"[{\\\"iso_3166_1\\\": \\\"ES\\\", \\\"name\\\": \\\"Spain\\\"}, {\\\"iso_3166_1\\\": \\\"GB\\\", \\\"name\\\": \\\"United Kingdom\\\"}, {\\\"iso_3166_1\\\": \\\"US\\\", \\\"name\\\": \\\"United States of America\\\"}, {\\\"iso_3166_1\\\": \\\"FR\\\", \\\"name\\\": \\\"France\\\"}]\",\n          \"[{\\\"iso_3166_1\\\": \\\"US\\\", \\\"name\\\": \\\"United States of America\\\"}, {\\\"iso_3166_1\\\": \\\"CA\\\", \\\"name\\\": \\\"Canada\\\"}, {\\\"iso_3166_1\\\": \\\"DE\\\", \\\"name\\\": \\\"Germany\\\"}]\",\n          \"[{\\\"iso_3166_1\\\": \\\"DE\\\", \\\"name\\\": \\\"Germany\\\"}, {\\\"iso_3166_1\\\": \\\"ES\\\", \\\"name\\\": \\\"Spain\\\"}, {\\\"iso_3166_1\\\": \\\"GB\\\", \\\"name\\\": \\\"United Kingdom\\\"}, {\\\"iso_3166_1\\\": \\\"US\\\", \\\"name\\\": \\\"United States of America\\\"}]\"\n        ],\n        \"semantic_type\": \"\",\n        \"description\": \"\"\n      }\n    },\n    {\n      \"column\": \"release_date\",\n      \"properties\": {\n        \"dtype\": \"object\",\n        \"num_unique_values\": 3280,\n        \"samples\": [\n          \"1966-10-16\",\n          \"1987-07-31\",\n          \"1993-09-23\"\n        ],\n        \"semantic_type\": \"\",\n        \"description\": \"\"\n      }\n    },\n    {\n      \"column\": \"revenue\",\n      \"properties\": {\n        \"dtype\": \"number\",\n        \"std\": 162857100,\n        \"min\": 0,\n        \"max\": 2787965087,\n        \"num_unique_values\": 3297,\n        \"samples\": [\n          11833696,\n          10462500,\n          17807569\n        ],\n        \"semantic_type\": \"\",\n        \"description\": \"\"\n      }\n    },\n    {\n      \"column\": \"runtime\",\n      \"properties\": {\n        \"dtype\": \"number\",\n        \"std\": 22.611934588844207,\n        \"min\": 0.0,\n        \"max\": 338.0,\n        \"num_unique_values\": 156,\n        \"samples\": [\n          74.0,\n          85.0,\n          170.0\n        ],\n        \"semantic_type\": \"\",\n        \"description\": \"\"\n      }\n    },\n    {\n      \"column\": \"spoken_languages\",\n      \"properties\": {\n        \"dtype\": \"category\",\n        \"num_unique_values\": 544,\n        \"samples\": [\n          \"[{\\\"iso_639_1\\\": \\\"es\\\", \\\"name\\\": \\\"Espa\\\\u00f1ol\\\"}, {\\\"iso_639_1\\\": \\\"en\\\", \\\"name\\\": \\\"English\\\"}, {\\\"iso_639_1\\\": \\\"fr\\\", \\\"name\\\": \\\"Fran\\\\u00e7ais\\\"}, {\\\"iso_639_1\\\": \\\"hu\\\", \\\"name\\\": \\\"Magyar\\\"}]\",\n          \"[{\\\"iso_639_1\\\": \\\"en\\\", \\\"name\\\": \\\"English\\\"}, {\\\"iso_639_1\\\": \\\"it\\\", \\\"name\\\": \\\"Italiano\\\"}, {\\\"iso_639_1\\\": \\\"pt\\\", \\\"name\\\": \\\"Portugu\\\\u00eas\\\"}]\",\n          \"[{\\\"iso_639_1\\\": \\\"de\\\", \\\"name\\\": \\\"Deutsch\\\"}, {\\\"iso_639_1\\\": \\\"it\\\", \\\"name\\\": \\\"Italiano\\\"}, {\\\"iso_639_1\\\": \\\"la\\\", \\\"name\\\": \\\"Latin\\\"}, {\\\"iso_639_1\\\": \\\"pl\\\", \\\"name\\\": \\\"Polski\\\"}]\"\n        ],\n        \"semantic_type\": \"\",\n        \"description\": \"\"\n      }\n    },\n    {\n      \"column\": \"status\",\n      \"properties\": {\n        \"dtype\": \"category\",\n        \"num_unique_values\": 3,\n        \"samples\": [\n          \"Released\",\n          \"Post Production\",\n          \"Rumored\"\n        ],\n        \"semantic_type\": \"\",\n        \"description\": \"\"\n      }\n    },\n    {\n      \"column\": \"tagline\",\n      \"properties\": {\n        \"dtype\": \"string\",\n        \"num_unique_values\": 3944,\n        \"samples\": [\n          \"When you're 17, every day is war.\",\n          \"An Unspeakable Horror. A Creative Genius. Captured For Eternity.\",\n          \"May the schwartz be with you\"\n        ],\n        \"semantic_type\": \"\",\n        \"description\": \"\"\n      }\n    },\n    {\n      \"column\": \"title\",\n      \"properties\": {\n        \"dtype\": \"string\",\n        \"num_unique_values\": 4800,\n        \"samples\": [\n          \"I Spy\",\n          \"Who's Your Caddy?\",\n          \"Sleepover\"\n        ],\n        \"semantic_type\": \"\",\n        \"description\": \"\"\n      }\n    },\n    {\n      \"column\": \"vote_average\",\n      \"properties\": {\n        \"dtype\": \"number\",\n        \"std\": 1.1946121628478925,\n        \"min\": 0.0,\n        \"max\": 10.0,\n        \"num_unique_values\": 71,\n        \"samples\": [\n          5.1,\n          7.2,\n          4.0\n        ],\n        \"semantic_type\": \"\",\n        \"description\": \"\"\n      }\n    },\n    {\n      \"column\": \"vote_count\",\n      \"properties\": {\n        \"dtype\": \"number\",\n        \"std\": 1234,\n        \"min\": 0,\n        \"max\": 13752,\n        \"num_unique_values\": 1609,\n        \"samples\": [\n          7604,\n          3428,\n          225\n        ],\n        \"semantic_type\": \"\",\n        \"description\": \"\"\n      }\n    }\n  ]\n}"
            }
          },
          "metadata": {},
          "execution_count": 6
        }
      ],
      "source": [
        "movies.head(1)"
      ]
    },
    {
      "cell_type": "code",
      "execution_count": 7,
      "metadata": {
        "colab": {
          "base_uri": "https://localhost:8080/",
          "height": 80
        },
        "id": "-w7ZsGycge1L",
        "outputId": "bef724d8-8ad4-443f-b82b-c535f618b99c"
      },
      "outputs": [
        {
          "output_type": "execute_result",
          "data": {
            "text/plain": [
              "   movie_id   title                                               cast  \\\n",
              "0     19995  Avatar  [{\"cast_id\": 242, \"character\": \"Jake Sully\", \"...   \n",
              "\n",
              "                                                crew  \n",
              "0  [{\"credit_id\": \"52fe48009251416c750aca23\", \"de...  "
            ],
            "text/html": [
              "\n",
              "  <div id=\"df-d2b74e71-a9e7-4e72-b690-00c369701593\" class=\"colab-df-container\">\n",
              "    <div>\n",
              "<style scoped>\n",
              "    .dataframe tbody tr th:only-of-type {\n",
              "        vertical-align: middle;\n",
              "    }\n",
              "\n",
              "    .dataframe tbody tr th {\n",
              "        vertical-align: top;\n",
              "    }\n",
              "\n",
              "    .dataframe thead th {\n",
              "        text-align: right;\n",
              "    }\n",
              "</style>\n",
              "<table border=\"1\" class=\"dataframe\">\n",
              "  <thead>\n",
              "    <tr style=\"text-align: right;\">\n",
              "      <th></th>\n",
              "      <th>movie_id</th>\n",
              "      <th>title</th>\n",
              "      <th>cast</th>\n",
              "      <th>crew</th>\n",
              "    </tr>\n",
              "  </thead>\n",
              "  <tbody>\n",
              "    <tr>\n",
              "      <th>0</th>\n",
              "      <td>19995</td>\n",
              "      <td>Avatar</td>\n",
              "      <td>[{\"cast_id\": 242, \"character\": \"Jake Sully\", \"...</td>\n",
              "      <td>[{\"credit_id\": \"52fe48009251416c750aca23\", \"de...</td>\n",
              "    </tr>\n",
              "  </tbody>\n",
              "</table>\n",
              "</div>\n",
              "    <div class=\"colab-df-buttons\">\n",
              "\n",
              "  <div class=\"colab-df-container\">\n",
              "    <button class=\"colab-df-convert\" onclick=\"convertToInteractive('df-d2b74e71-a9e7-4e72-b690-00c369701593')\"\n",
              "            title=\"Convert this dataframe to an interactive table.\"\n",
              "            style=\"display:none;\">\n",
              "\n",
              "  <svg xmlns=\"http://www.w3.org/2000/svg\" height=\"24px\" viewBox=\"0 -960 960 960\">\n",
              "    <path d=\"M120-120v-720h720v720H120Zm60-500h600v-160H180v160Zm220 220h160v-160H400v160Zm0 220h160v-160H400v160ZM180-400h160v-160H180v160Zm440 0h160v-160H620v160ZM180-180h160v-160H180v160Zm440 0h160v-160H620v160Z\"/>\n",
              "  </svg>\n",
              "    </button>\n",
              "\n",
              "  <style>\n",
              "    .colab-df-container {\n",
              "      display:flex;\n",
              "      gap: 12px;\n",
              "    }\n",
              "\n",
              "    .colab-df-convert {\n",
              "      background-color: #E8F0FE;\n",
              "      border: none;\n",
              "      border-radius: 50%;\n",
              "      cursor: pointer;\n",
              "      display: none;\n",
              "      fill: #1967D2;\n",
              "      height: 32px;\n",
              "      padding: 0 0 0 0;\n",
              "      width: 32px;\n",
              "    }\n",
              "\n",
              "    .colab-df-convert:hover {\n",
              "      background-color: #E2EBFA;\n",
              "      box-shadow: 0px 1px 2px rgba(60, 64, 67, 0.3), 0px 1px 3px 1px rgba(60, 64, 67, 0.15);\n",
              "      fill: #174EA6;\n",
              "    }\n",
              "\n",
              "    .colab-df-buttons div {\n",
              "      margin-bottom: 4px;\n",
              "    }\n",
              "\n",
              "    [theme=dark] .colab-df-convert {\n",
              "      background-color: #3B4455;\n",
              "      fill: #D2E3FC;\n",
              "    }\n",
              "\n",
              "    [theme=dark] .colab-df-convert:hover {\n",
              "      background-color: #434B5C;\n",
              "      box-shadow: 0px 1px 3px 1px rgba(0, 0, 0, 0.15);\n",
              "      filter: drop-shadow(0px 1px 2px rgba(0, 0, 0, 0.3));\n",
              "      fill: #FFFFFF;\n",
              "    }\n",
              "  </style>\n",
              "\n",
              "    <script>\n",
              "      const buttonEl =\n",
              "        document.querySelector('#df-d2b74e71-a9e7-4e72-b690-00c369701593 button.colab-df-convert');\n",
              "      buttonEl.style.display =\n",
              "        google.colab.kernel.accessAllowed ? 'block' : 'none';\n",
              "\n",
              "      async function convertToInteractive(key) {\n",
              "        const element = document.querySelector('#df-d2b74e71-a9e7-4e72-b690-00c369701593');\n",
              "        const dataTable =\n",
              "          await google.colab.kernel.invokeFunction('convertToInteractive',\n",
              "                                                    [key], {});\n",
              "        if (!dataTable) return;\n",
              "\n",
              "        const docLinkHtml = 'Like what you see? Visit the ' +\n",
              "          '<a target=\"_blank\" href=https://colab.research.google.com/notebooks/data_table.ipynb>data table notebook</a>'\n",
              "          + ' to learn more about interactive tables.';\n",
              "        element.innerHTML = '';\n",
              "        dataTable['output_type'] = 'display_data';\n",
              "        await google.colab.output.renderOutput(dataTable, element);\n",
              "        const docLink = document.createElement('div');\n",
              "        docLink.innerHTML = docLinkHtml;\n",
              "        element.appendChild(docLink);\n",
              "      }\n",
              "    </script>\n",
              "  </div>\n",
              "\n",
              "\n",
              "    </div>\n",
              "  </div>\n"
            ],
            "application/vnd.google.colaboratory.intrinsic+json": {
              "type": "dataframe",
              "variable_name": "credits",
              "summary": "{\n  \"name\": \"credits\",\n  \"rows\": 846,\n  \"fields\": [\n    {\n      \"column\": \"movie_id\",\n      \"properties\": {\n        \"dtype\": \"number\",\n        \"std\": 72055,\n        \"min\": 12,\n        \"max\": 417859,\n        \"num_unique_values\": 846,\n        \"samples\": [\n          20526,\n          2567,\n          29193\n        ],\n        \"semantic_type\": \"\",\n        \"description\": \"\"\n      }\n    },\n    {\n      \"column\": \"title\",\n      \"properties\": {\n        \"dtype\": \"string\",\n        \"num_unique_values\": 846,\n        \"samples\": [\n          \"TRON: Legacy\",\n          \"The Aviator\",\n          \"The Spanish Prisoner\"\n        ],\n        \"semantic_type\": \"\",\n        \"description\": \"\"\n      }\n    },\n    {\n      \"column\": \"cast\",\n      \"properties\": {\n        \"dtype\": \"string\",\n        \"num_unique_values\": 846,\n        \"samples\": [\n          \"[{\\\"cast_id\\\": 44, \\\"character\\\": \\\"Sam Flynn\\\", \\\"credit_id\\\": \\\"52fe43ebc3a368484e005d19\\\", \\\"gender\\\": 2, \\\"id\\\": 9828, \\\"name\\\": \\\"Garrett Hedlund\\\", \\\"order\\\": 0}, {\\\"cast_id\\\": 37, \\\"character\\\": \\\"Kevin Flynn / Clu\\\", \\\"credit_id\\\": \\\"52fe43ebc3a368484e005cfd\\\", \\\"gender\\\": 2, \\\"id\\\": 1229, \\\"name\\\": \\\"Jeff Bridges\\\", \\\"order\\\": 1}, {\\\"cast_id\\\": 3, \\\"character\\\": \\\"Quorra\\\", \\\"credit_id\\\": \\\"52fe43eac3a368484e005c81\\\", \\\"gender\\\": 1, \\\"id\\\": 59315, \\\"name\\\": \\\"Olivia Wilde\\\", \\\"order\\\": 2}, {\\\"cast_id\\\": 39, \\\"character\\\": \\\"Alan Bradley / Tron\\\", \\\"credit_id\\\": \\\"52fe43ebc3a368484e005d05\\\", \\\"gender\\\": 2, \\\"id\\\": 2547, \\\"name\\\": \\\"Bruce Boxleitner\\\", \\\"order\\\": 3}, {\\\"cast_id\\\": 25, \\\"character\\\": \\\"Siren\\\", \\\"credit_id\\\": \\\"52fe43eac3a368484e005cd9\\\", \\\"gender\\\": 1, \\\"id\\\": 60033, \\\"name\\\": \\\"Yaya DaCosta\\\", \\\"order\\\": 4}, {\\\"cast_id\\\": 28, \\\"character\\\": \\\"Siren\\\", \\\"credit_id\\\": \\\"52fe43eac3a368484e005cdd\\\", \\\"gender\\\": 1, \\\"id\\\": 86268, \\\"name\\\": \\\"Serinda Swan\\\", \\\"order\\\": 5}, {\\\"cast_id\\\": 30, \\\"character\\\": \\\"Gem\\\", \\\"credit_id\\\": \\\"52fe43eac3a368484e005ce5\\\", \\\"gender\\\": 1, \\\"id\\\": 20403, \\\"name\\\": \\\"Beau Garrett\\\", \\\"order\\\": 6}, {\\\"cast_id\\\": 36, \\\"character\\\": \\\"Siren\\\", \\\"credit_id\\\": \\\"52fe43ebc3a368484e005cf9\\\", \\\"gender\\\": 1, \\\"id\\\": 130108, \\\"name\\\": \\\"Elizabeth Mathis\\\", \\\"order\\\": 7}, {\\\"cast_id\\\": 29, \\\"character\\\": \\\"Jarvis\\\", \\\"credit_id\\\": \\\"52fe43eac3a368484e005ce1\\\", \\\"gender\\\": 2, \\\"id\\\": 22063, \\\"name\\\": \\\"James Frain\\\", \\\"order\\\": 8}, {\\\"cast_id\\\": 32, \\\"character\\\": \\\"Young Mrs. Flynn\\\", \\\"credit_id\\\": \\\"52fe43ebc3a368484e005ce9\\\", \\\"gender\\\": 0, \\\"id\\\": 86269, \\\"name\\\": \\\"Amy Esterle\\\", \\\"order\\\": 9}, {\\\"cast_id\\\": 33, \\\"character\\\": \\\"Sobel\\\", \\\"credit_id\\\": \\\"52fe43ebc3a368484e005ced\\\", \\\"gender\\\": 2, \\\"id\\\": 58371, \\\"name\\\": \\\"Brandon Jay McLaren\\\", \\\"order\\\": 10}, {\\\"cast_id\\\": 38, \\\"character\\\": \\\"Castor / Zuse\\\", \\\"credit_id\\\": \\\"52fe43ebc3a368484e005d01\\\", \\\"gender\\\": 2, \\\"id\\\": 3968, \\\"name\\\": \\\"Michael Sheen\\\", \\\"order\\\": 11}, {\\\"cast_id\\\": 34, \\\"character\\\": \\\"Young Sam\\\", \\\"credit_id\\\": \\\"52fe43ebc3a368484e005cf1\\\", \\\"gender\\\": 0, \\\"id\\\": 109205, \\\"name\\\": \\\"Owen Best\\\", \\\"order\\\": 12}, {\\\"cast_id\\\": 35, \\\"character\\\": \\\"Green Light Cycle Rider\\\", \\\"credit_id\\\": \\\"52fe43ebc3a368484e005cf5\\\", \\\"gender\\\": 2, \\\"id\\\": 37980, \\\"name\\\": \\\"Michael Teigen\\\", \\\"order\\\": 13}, {\\\"cast_id\\\": 40, \\\"character\\\": \\\"Masked DJ's\\\", \\\"credit_id\\\": \\\"52fe43ebc3a368484e005d09\\\", \\\"gender\\\": 0, \\\"id\\\": 67931, \\\"name\\\": \\\"Daft Punk\\\", \\\"order\\\": 14}, {\\\"cast_id\\\": 41, \\\"character\\\": \\\"Chattering Homeless Man\\\", \\\"credit_id\\\": \\\"52fe43ebc3a368484e005d0d\\\", \\\"gender\\\": 2, \\\"id\\\": 10874, \\\"name\\\": \\\"Ron Selmour\\\", \\\"order\\\": 15}, {\\\"cast_id\\\": 42, \\\"character\\\": \\\"Bartik\\\", \\\"credit_id\\\": \\\"52fe43ebc3a368484e005d11\\\", \\\"gender\\\": 2, \\\"id\\\": 43263, \\\"name\\\": \\\"Conrad Coates\\\", \\\"order\\\": 16}, {\\\"cast_id\\\": 43, \\\"character\\\": \\\"Half Faced Man\\\", \\\"credit_id\\\": \\\"52fe43ebc3a368484e005d15\\\", \\\"gender\\\": 2, \\\"id\\\": 145110, \\\"name\\\": \\\"Kis Yurij\\\", \\\"order\\\": 17}, {\\\"cast_id\\\": 57, \\\"character\\\": \\\"Edward Dillinger\\\", \\\"credit_id\\\": \\\"556fa52b9251414262000267\\\", \\\"gender\\\": 2, \\\"id\\\": 2037, \\\"name\\\": \\\"Cillian Murphy\\\", \\\"order\\\": 18}, {\\\"cast_id\\\": 60, \\\"character\\\": \\\"Black Guard\\\", \\\"credit_id\\\": \\\"56a00871c3a36858ce00b04e\\\", \\\"gender\\\": 2, \\\"id\\\": 1566267, \\\"name\\\": \\\"Aaron Toney\\\", \\\"order\\\": 19}, {\\\"cast_id\\\": 61, \\\"character\\\": \\\"Young Man on Recognizer\\\", \\\"credit_id\\\": \\\"56f997bc92514121fe000357\\\", \\\"gender\\\": 2, \\\"id\\\": 1459145, \\\"name\\\": \\\"Darren Dolynski\\\", \\\"order\\\": 20}, {\\\"cast_id\\\": 69, \\\"character\\\": \\\"Reporter #2\\\", \\\"credit_id\\\": \\\"57bbf3ed925141550c0030ff\\\", \\\"gender\\\": 1, \\\"id\\\": 77622, \\\"name\\\": \\\"Catherine Lough Haggquist\\\", \\\"order\\\": 21}, {\\\"cast_id\\\": 70, \\\"character\\\": \\\"Reporter #3\\\", \\\"credit_id\\\": \\\"57bbf40792514119c90063ad\\\", \\\"gender\\\": 2, \\\"id\\\": 186373, \\\"name\\\": \\\"Shaw Madson\\\", \\\"order\\\": 22}]\",\n          \"[{\\\"cast_id\\\": 1, \\\"character\\\": \\\"Howard Hughes\\\", \\\"credit_id\\\": \\\"52fe435dc3a36847f804ed4b\\\", \\\"gender\\\": 2, \\\"id\\\": 6193, \\\"name\\\": \\\"Leonardo DiCaprio\\\", \\\"order\\\": 0}, {\\\"cast_id\\\": 2, \\\"character\\\": \\\"Katharine Hepburn\\\", \\\"credit_id\\\": \\\"52fe435dc3a36847f804ed4f\\\", \\\"gender\\\": 1, \\\"id\\\": 112, \\\"name\\\": \\\"Cate Blanchett\\\", \\\"order\\\": 1}, {\\\"cast_id\\\": 4, \\\"character\\\": \\\"Ava Gardner\\\", \\\"credit_id\\\": \\\"52fe435dc3a36847f804ed57\\\", \\\"gender\\\": 1, \\\"id\\\": 3967, \\\"name\\\": \\\"Kate Beckinsale\\\", \\\"order\\\": 2}, {\\\"cast_id\\\": 3, \\\"character\\\": \\\"Noah Dietrich\\\", \\\"credit_id\\\": \\\"52fe435dc3a36847f804ed53\\\", \\\"gender\\\": 2, \\\"id\\\": 4764, \\\"name\\\": \\\"John C. Reilly\\\", \\\"order\\\": 3}, {\\\"cast_id\\\": 5, \\\"character\\\": \\\"Juan Trippe\\\", \\\"credit_id\\\": \\\"52fe435dc3a36847f804ed5b\\\", \\\"gender\\\": 2, \\\"id\\\": 7447, \\\"name\\\": \\\"Alec Baldwin\\\", \\\"order\\\": 4}, {\\\"cast_id\\\": 6, \\\"character\\\": \\\"Senator Ralph Owen Brewster\\\", \\\"credit_id\\\": \\\"52fe435dc3a36847f804ed5f\\\", \\\"gender\\\": 2, \\\"id\\\": 21278, \\\"name\\\": \\\"Alan Alda\\\", \\\"order\\\": 5}, {\\\"cast_id\\\": 7, \\\"character\\\": \\\"Professor Fitz\\\", \\\"credit_id\\\": \\\"52fe435dc3a36847f804ed63\\\", \\\"gender\\\": 2, \\\"id\\\": 65, \\\"name\\\": \\\"Ian Holm\\\", \\\"order\\\": 6}, {\\\"cast_id\\\": 8, \\\"character\\\": \\\"Errol Flynn\\\", \\\"credit_id\\\": \\\"52fe435dc3a36847f804ed67\\\", \\\"gender\\\": 2, \\\"id\\\": 9642, \\\"name\\\": \\\"Jude Law\\\", \\\"order\\\": 7}, {\\\"cast_id\\\": 9, \\\"character\\\": \\\"Faith Domergue\\\", \\\"credit_id\\\": \\\"52fe435dc3a36847f804ed6b\\\", \\\"gender\\\": 1, \\\"id\\\": 17442, \\\"name\\\": \\\"Kelli Garner\\\", \\\"order\\\": 8}, {\\\"cast_id\\\": 11, \\\"character\\\": \\\"Jack Frye\\\", \\\"credit_id\\\": \\\"52fe435dc3a36847f804ed6f\\\", \\\"gender\\\": 2, \\\"id\\\": 6413, \\\"name\\\": \\\"Danny Huston\\\", \\\"order\\\": 9}, {\\\"cast_id\\\": 24, \\\"character\\\": \\\"Robert Gross\\\", \\\"credit_id\\\": \\\"52fe435dc3a36847f804edbb\\\", \\\"gender\\\": 2, \\\"id\\\": 1213786, \\\"name\\\": \\\"Brent Spiner\\\", \\\"order\\\": 10}, {\\\"cast_id\\\": 25, \\\"character\\\": \\\"Roland Sweet\\\", \\\"credit_id\\\": \\\"537034510e0a2647d401365c\\\", \\\"gender\\\": 2, \\\"id\\\": 5293, \\\"name\\\": \\\"Willem Dafoe\\\", \\\"order\\\": 11}, {\\\"cast_id\\\": 33, \\\"character\\\": \\\"Jean Harlow\\\", \\\"credit_id\\\": \\\"539c53ffc3a36810da002304\\\", \\\"gender\\\": 1, \\\"id\\\": 77070, \\\"name\\\": \\\"Gwen Stefani\\\", \\\"order\\\": 12}, {\\\"cast_id\\\": 34, \\\"character\\\": \\\"Johnny Meyer\\\", \\\"credit_id\\\": \\\"539c5441c3a36810da002313\\\", \\\"gender\\\": 2, \\\"id\\\": 36801, \\\"name\\\": \\\"Adam Scott\\\", \\\"order\\\": 13}, {\\\"cast_id\\\": 35, \\\"character\\\": \\\"Glenn Odekirk\\\", \\\"credit_id\\\": \\\"539c549cc3a36810e3002169\\\", \\\"gender\\\": 2, \\\"id\\\": 11154, \\\"name\\\": \\\"Matt Ross\\\", \\\"order\\\": 14}, {\\\"cast_id\\\": 36, \\\"character\\\": \\\"Mrs. Hepburn\\\", \\\"credit_id\\\": \\\"539c54f2c3a36810ba002324\\\", \\\"gender\\\": 1, \\\"id\\\": 4432, \\\"name\\\": \\\"Frances Conroy\\\", \\\"order\\\": 15}, {\\\"cast_id\\\": 37, \\\"character\\\": \\\"Louis B. Mayer\\\", \\\"credit_id\\\": \\\"539c5561c3a36810b5002149\\\", \\\"gender\\\": 2, \\\"id\\\": 4171, \\\"name\\\": \\\"Stanley DeSantis\\\", \\\"order\\\": 16}, {\\\"cast_id\\\": 38, \\\"character\\\": \\\"Marine\\\", \\\"credit_id\\\": \\\"53b9570dc3a3685eba00560f\\\", \\\"gender\\\": 2, \\\"id\\\": 15318, \\\"name\\\": \\\"Keith Campbell\\\", \\\"order\\\": 17}, {\\\"cast_id\\\": 98, \\\"character\\\": \\\"Howard Hughes's Mother\\\", \\\"credit_id\\\": \\\"5496b2329251416e2b006084\\\", \\\"gender\\\": 1, \\\"id\\\": 99185, \\\"name\\\": \\\"Amy Sloan\\\", \\\"order\\\": 18}, {\\\"cast_id\\\": 99, \\\"character\\\": \\\"Spencer Tracy\\\", \\\"credit_id\\\": \\\"5496b288c3a3686ae100658b\\\", \\\"gender\\\": 2, \\\"id\\\": 1218282, \\\"name\\\": \\\"Kevin O'Rourke\\\", \\\"order\\\": 19}, {\\\"cast_id\\\": 119, \\\"character\\\": \\\"Secretary\\\", \\\"credit_id\\\": \\\"56c677f9925141245b00481c\\\", \\\"gender\\\": 1, \\\"id\\\": 177898, \\\"name\\\": \\\"Nellie Sciutto\\\", \\\"order\\\": 20}, {\\\"cast_id\\\": 123, \\\"character\\\": \\\"Joseph Breen\\\", \\\"credit_id\\\": \\\"57ca147cc3a3684ba2000ad3\\\", \\\"gender\\\": 2, \\\"id\\\": 52995, \\\"name\\\": \\\"Edward Herrmann\\\", \\\"order\\\": 21}, {\\\"cast_id\\\": 124, \\\"character\\\": \\\"Dr. Hepburn\\\", \\\"credit_id\\\": \\\"57ca14a99251412784000b8b\\\", \\\"gender\\\": 0, \\\"id\\\": 6074, \\\"name\\\": \\\"Kenneth Welsh\\\", \\\"order\\\": 22}, {\\\"cast_id\\\": 125, \\\"character\\\": \\\"Ludlow\\\", \\\"credit_id\\\": \\\"57ca14bdc3a3684b93000b94\\\", \\\"gender\\\": 2, \\\"id\\\": 63296, \\\"name\\\": \\\"J.C. MacKenzie\\\", \\\"order\\\": 23}, {\\\"cast_id\\\": 126, \\\"character\\\": \\\"Howard Hughes - 9 Years Old\\\", \\\"credit_id\\\": \\\"57ca14db925141278d000ba9\\\", \\\"gender\\\": 2, \\\"id\\\": 84518, \\\"name\\\": \\\"Jacob Davich\\\", \\\"order\\\": 24}, {\\\"cast_id\\\": 127, \\\"character\\\": \\\"Frank\\\", \\\"credit_id\\\": \\\"57ca1525c3a3684b9c000b3c\\\", \\\"gender\\\": 2, \\\"id\\\": 164630, \\\"name\\\": \\\"Sam Hennings\\\", \\\"order\\\": 25}, {\\\"cast_id\\\": 131, \\\"character\\\": \\\"Cocoanut Grove Band Member\\\", \\\"credit_id\\\": \\\"57ca16ddc3a3684b89000e10\\\", \\\"gender\\\": 2, \\\"id\\\": 28009, \\\"name\\\": \\\"Vince Giordano\\\", \\\"order\\\": 26}, {\\\"cast_id\\\": 139, \\\"character\\\": \\\"Cocoanut Grove Patron\\\", \\\"credit_id\\\": \\\"57cc5fe4c3a36830ae001df4\\\", \\\"gender\\\": 2, \\\"id\\\": 30617, \\\"name\\\": \\\"Jason Cavalier\\\", \\\"order\\\": 27}, {\\\"cast_id\\\": 129, \\\"character\\\": \\\"Cocoanut Grove Vocalist #1\\\", \\\"credit_id\\\": \\\"57ca15499251412792000c2a\\\", \\\"gender\\\": 2, \\\"id\\\": 146084, \\\"name\\\": \\\"Rufus Wainwright\\\", \\\"order\\\": 28}, {\\\"cast_id\\\": 138, \\\"character\\\": \\\"Cocoanut Grove Vocalist #2\\\", \\\"credit_id\\\": \\\"57cc5f4492514159cf0002cf\\\", \\\"gender\\\": 0, \\\"id\\\": 84848, \\\"name\\\": \\\"Loudon Wainwright III\\\", \\\"order\\\": 29}, {\\\"cast_id\\\": 144, \\\"character\\\": \\\"Cocoanut Grove Vocalist #3\\\", \\\"credit_id\\\": \\\"57cc62ecc3a36872eb00050f\\\", \\\"gender\\\": 1, \\\"id\\\": 218947, \\\"name\\\": \\\"Martha Wainwright\\\", \\\"order\\\": 30}, {\\\"cast_id\\\": 141, \\\"character\\\": \\\"Pan Am Executive #1\\\", \\\"credit_id\\\": \\\"57cc60dcc3a36830ae001e9f\\\", \\\"gender\\\": 2, \\\"id\\\": 1674587, \\\"name\\\": \\\"Al Dubois\\\", \\\"order\\\": 31}, {\\\"cast_id\\\": 153, \\\"character\\\": \\\"Pan Am Executive #2\\\", \\\"credit_id\\\": \\\"57cc71e7925141598c000db9\\\", \\\"gender\\\": 2, \\\"id\\\": 1229676, \\\"name\\\": \\\"John Koensgen\\\", \\\"order\\\": 32}, {\\\"cast_id\\\": 130, \\\"character\\\": \\\"Crony of Louis B. Mayer\\\", \\\"credit_id\\\": \\\"57ca1583c3a3684b8d000cc2\\\", \\\"gender\\\": 2, \\\"id\\\": 1240748, \\\"name\\\": \\\"Harry Standjofski\\\", \\\"order\\\": 33}, {\\\"cast_id\\\": 132, \\\"character\\\": \\\"Cigarette Girl\\\", \\\"credit_id\\\": \\\"57ca179e9251412792000de4\\\", \\\"gender\\\": 1, \\\"id\\\": 74651, \\\"name\\\": \\\"Josie Maran\\\", \\\"order\\\": 34}, {\\\"cast_id\\\": 128, \\\"character\\\": \\\"Hell's Angels Director of Photography\\\", \\\"credit_id\\\": \\\"57ca15379251412792000c1c\\\", \\\"gender\\\": 2, \\\"id\\\": 141762, \\\"name\\\": \\\"Joe Chrest\\\", \\\"order\\\": 35}, {\\\"cast_id\\\": 133, \\\"character\\\": \\\"Hell's Angels Pilot\\\", \\\"credit_id\\\": \\\"57ca19a59251412787000f9b\\\", \\\"gender\\\": 2, \\\"id\\\": 17417, \\\"name\\\": \\\"Justin Shilton\\\", \\\"order\\\": 36}, {\\\"cast_id\\\": 134, \\\"character\\\": \\\"Radio Announcer\\\", \\\"credit_id\\\": \\\"57ca1a32925141278f000ed1\\\", \\\"gender\\\": 0, \\\"id\\\": 115596, \\\"name\\\": \\\"Arthur Holden\\\", \\\"order\\\": 37}, {\\\"cast_id\\\": 135, \\\"character\\\": \\\"Aide to Howard\\\", \\\"credit_id\\\": \\\"57cc5b6cc3a36830ae001b66\\\", \\\"gender\\\": 2, \\\"id\\\": 7531, \\\"name\\\": \\\"Joseph P. Reidy\\\", \\\"order\\\": 38}, {\\\"cast_id\\\": 136, \\\"character\\\": \\\"Maitre d'\\\", \\\"credit_id\\\": \\\"57cc5f11c3a36872e80002c6\\\", \\\"gender\\\": 2, \\\"id\\\": 81430, \\\"name\\\": \\\"St\\\\u00e9phane Demers\\\", \\\"order\\\": 39}, {\\\"cast_id\\\": 137, \\\"character\\\": \\\"Waiter\\\", \\\"credit_id\\\": \\\"57cc5f25925141598900028b\\\", \\\"gender\\\": 2, \\\"id\\\": 38529, \\\"name\\\": \\\"Yves Jacques\\\", \\\"order\\\": 40}, {\\\"cast_id\\\": 140, \\\"character\\\": \\\"Engineer\\\", \\\"credit_id\\\": \\\"57cc6074c3a36872eb0003c0\\\", \\\"gender\\\": 2, \\\"id\\\": 154773, \\\"name\\\": \\\"Chris Ufland\\\", \\\"order\\\": 41}, {\\\"cast_id\\\": 143, \\\"character\\\": \\\"Timer\\\", \\\"credit_id\\\": \\\"57cc6257c3a368308d00227c\\\", \\\"gender\\\": 2, \\\"id\\\": 65729, \\\"name\\\": \\\"Sebastian Tillinger\\\", \\\"order\\\": 42}, {\\\"cast_id\\\": 150, \\\"character\\\": \\\"Uncle Willy\\\", \\\"credit_id\\\": \\\"57cc683ec3a368735e0007d6\\\", \\\"gender\\\": 2, \\\"id\\\": 29468, \\\"name\\\": \\\"James Bradford\\\", \\\"order\\\": 43}, {\\\"cast_id\\\": 149, \\\"character\\\": \\\"Little Girl\\\", \\\"credit_id\\\": \\\"57cc669bc3a36830a50024b4\\\", \\\"gender\\\": 1, \\\"id\\\": 1674603, \\\"name\\\": \\\"Francesca Scorsese\\\", \\\"order\\\": 44}, {\\\"cast_id\\\": 142, \\\"character\\\": \\\"Man on Crutches\\\", \\\"credit_id\\\": \\\"57cc61c89251412625001f83\\\", \\\"gender\\\": 2, \\\"id\\\": 159056, \\\"name\\\": \\\"Alan Toy\\\", \\\"order\\\": 45}, {\\\"cast_id\\\": 151, \\\"character\\\": \\\"Another Guest #1\\\", \\\"credit_id\\\": \\\"57cc685ec3a36872e80007e0\\\", \\\"gender\\\": 2, \\\"id\\\": 51389, \\\"name\\\": \\\"Joe Cobden\\\", \\\"order\\\": 46}, {\\\"cast_id\\\": 152, \\\"character\\\": \\\"Another Guest #2\\\", \\\"credit_id\\\": \\\"57cc703ec3a368735e000bf8\\\", \\\"gender\\\": 1, \\\"id\\\": 198630, \\\"name\\\": \\\"Linda Smith\\\", \\\"order\\\": 47}, {\\\"cast_id\\\": 154, \\\"character\\\": \\\"Emcee\\\", \\\"credit_id\\\": \\\"57cc7256c3a36872eb000d9a\\\", \\\"gender\\\": 2, \\\"id\\\": 155437, \\\"name\\\": \\\"David Purdham\\\", \\\"order\\\": 48}, {\\\"cast_id\\\": 155, \\\"character\\\": \\\"Chairman MPA\\\", \\\"credit_id\\\": \\\"57cc72e7c3a36872e8000d65\\\", \\\"gender\\\": 2, \\\"id\\\": 21293, \\\"name\\\": \\\"Alan Fawcett\\\", \\\"order\\\": 49}, {\\\"cast_id\\\": 156, \\\"character\\\": \\\"Noah's Wife\\\", \\\"credit_id\\\": \\\"57cc736392514159cf000ec6\\\", \\\"gender\\\": 1, \\\"id\\\": 216778, \\\"name\\\": \\\"Lisa Bronwyn Moore\\\", \\\"order\\\": 50}, {\\\"cast_id\\\": 157, \\\"character\\\": \\\"Helen - Jack Frye's wife\\\", \\\"credit_id\\\": \\\"57cc73769251412622002ab4\\\", \\\"gender\\\": 1, \\\"id\\\": 51538, \\\"name\\\": \\\"Emma Campbell\\\", \\\"order\\\": 51}, {\\\"cast_id\\\": 158, \\\"character\\\": \\\"Jorge\\\", \\\"credit_id\\\": \\\"57cc73bb925141598c000ed7\\\", \\\"gender\\\": 2, \\\"id\\\": 1983, \\\"name\\\": \\\"Vincent Laresca\\\", \\\"order\\\": 52}, {\\\"cast_id\\\": 159, \\\"character\\\": \\\"Hughes' Staff Person\\\", \\\"credit_id\\\": \\\"57cc73f0c3a368309c002a43\\\", \\\"gender\\\": 0, \\\"id\\\": 108302, \\\"name\\\": \\\"Matt Holland\\\", \\\"order\\\": 53}, {\\\"cast_id\\\": 160, \\\"character\\\": \\\"Nick the Custodian\\\", \\\"credit_id\\\": \\\"57cc74059251412625002a0f\\\", \\\"gender\\\": 0, \\\"id\\\": 1089927, \\\"name\\\": \\\"Dennis St John\\\", \\\"order\\\": 54}, {\\\"cast_id\\\": 161, \\\"character\\\": \\\"Doctor\\\", \\\"credit_id\\\": \\\"57cc7459c3a36830ae0029ee\\\", \\\"gender\\\": 2, \\\"id\\\": 1673119, \\\"name\\\": \\\"Al Vandecruys\\\", \\\"order\\\": 55}, {\\\"cast_id\\\": 162, \\\"character\\\": \\\"FBI Agent\\\", \\\"credit_id\\\": \\\"57cc749dc3a36830a5002de2\\\", \\\"gender\\\": 2, \\\"id\\\": 1569328, \\\"name\\\": \\\"James Rae\\\", \\\"order\\\": 56}, {\\\"cast_id\\\": 163, \\\"character\\\": \\\"Brewster's Maid\\\", \\\"credit_id\\\": \\\"57cc7564925141598c000fec\\\", \\\"gender\\\": 1, \\\"id\\\": 1177460, \\\"name\\\": \\\"Kathleen McAuliffe\\\", \\\"order\\\": 57}, {\\\"cast_id\\\": 164, \\\"character\\\": \\\"Another Senator\\\", \\\"credit_id\\\": \\\"57cc7609c3a36830a5002ee5\\\", \\\"gender\\\": 2, \\\"id\\\": 224077, \\\"name\\\": \\\"Terry Haig\\\", \\\"order\\\": 58}, {\\\"cast_id\\\": 148, \\\"character\\\": \\\"Esquire Starlet (uncredited)\\\", \\\"credit_id\\\": \\\"57cc6598c3a36872e8000661\\\", \\\"gender\\\": 1, \\\"id\\\": 1674596, \\\"name\\\": \\\"Danielle Franke\\\", \\\"order\\\": 59}, {\\\"cast_id\\\": 147, \\\"character\\\": \\\"Starlet (uncredited)\\\", \\\"credit_id\\\": \\\"57cc6460c3a36830a00023df\\\", \\\"gender\\\": 1, \\\"id\\\": 1674590, \\\"name\\\": \\\"Meghan Elizabeth\\\", \\\"order\\\": 60}, {\\\"cast_id\\\": 118, \\\"character\\\": \\\"Starlet (uncredited)\\\", \\\"credit_id\\\": \\\"56c0aaf89251414ba90036a4\\\", \\\"gender\\\": 1, \\\"id\\\": 1577405, \\\"name\\\": \\\"Elizabeth DeCicco\\\", \\\"order\\\": 61}, {\\\"cast_id\\\": 146, \\\"character\\\": \\\"Coat Check Girl (uncredited)\\\", \\\"credit_id\\\": \\\"57cc644cc3a36830ae0020b9\\\", \\\"gender\\\": 1, \\\"id\\\": 1674588, \\\"name\\\": \\\"Elisa Dyann\\\", \\\"order\\\": 62}, {\\\"cast_id\\\": 145, \\\"character\\\": \\\"Editor (uncredited)\\\", \\\"credit_id\\\": \\\"57cc6436c3a36830a00023c3\\\", \\\"gender\\\": 1, \\\"id\\\": 1330755, \\\"name\\\": \\\"Isabelle Champeau\\\", \\\"order\\\": 63}, {\\\"cast_id\\\": 120, \\\"character\\\": \\\"Bi-Plane Mechanic (uncredited)\\\", \\\"credit_id\\\": \\\"56e5abcb9251416d460072f9\\\", \\\"gender\\\": 2, \\\"id\\\": 1372185, \\\"name\\\": \\\"Al Coronel\\\", \\\"order\\\": 64}]\",\n          \"[{\\\"cast_id\\\": 1, \\\"character\\\": \\\"Jimmy Dell\\\", \\\"credit_id\\\": \\\"52fe45cfc3a368484e07016f\\\", \\\"gender\\\": 2, \\\"id\\\": 67773, \\\"name\\\": \\\"Steve Martin\\\", \\\"order\\\": 0}, {\\\"cast_id\\\": 2, \\\"character\\\": \\\"Joe Ross\\\", \\\"credit_id\\\": \\\"52fe45cfc3a368484e070173\\\", \\\"gender\\\": 2, \\\"id\\\": 55152, \\\"name\\\": \\\"Campbell Scott\\\", \\\"order\\\": 1}, {\\\"cast_id\\\": 3, \\\"character\\\": \\\"Mr. Klein\\\", \\\"credit_id\\\": \\\"52fe45cfc3a368484e070177\\\", \\\"gender\\\": 2, \\\"id\\\": 856, \\\"name\\\": \\\"Ben Gazzara\\\", \\\"order\\\": 2}, {\\\"cast_id\\\": 7, \\\"character\\\": \\\"Susan Ricci\\\", \\\"credit_id\\\": \\\"52fe45cfc3a368484e07018d\\\", \\\"gender\\\": 1, \\\"id\\\": 27267, \\\"name\\\": \\\"Rebecca Pidgeon\\\", \\\"order\\\": 3}, {\\\"cast_id\\\": 8, \\\"character\\\": \\\"George Lang\\\", \\\"credit_id\\\": \\\"52fe45cfc3a368484e070191\\\", \\\"gender\\\": 2, \\\"id\\\": 10743, \\\"name\\\": \\\"Ricky Jay\\\", \\\"order\\\": 4}, {\\\"cast_id\\\": 9, \\\"character\\\": \\\"Pat McCune\\\", \\\"credit_id\\\": \\\"52fe45cfc3a368484e070195\\\", \\\"gender\\\": 1, \\\"id\\\": 7427, \\\"name\\\": \\\"Felicity Huffman\\\", \\\"order\\\": 5}]\"\n        ],\n        \"semantic_type\": \"\",\n        \"description\": \"\"\n      }\n    },\n    {\n      \"column\": \"crew\",\n      \"properties\": {\n        \"dtype\": \"string\",\n        \"num_unique_values\": 846,\n        \"samples\": [\n          \"[{\\\"credit_id\\\": \\\"52fe43eac3a368484e005c9f\\\", \\\"department\\\": \\\"Writing\\\", \\\"gender\\\": 2, \\\"id\\\": 12859, \\\"job\\\": \\\"Screenplay\\\", \\\"name\\\": \\\"Steven Lisberger\\\"}, {\\\"credit_id\\\": \\\"52fe43eac3a368484e005cb1\\\", \\\"department\\\": \\\"Production\\\", \\\"gender\\\": 2, \\\"id\\\": 12859, \\\"job\\\": \\\"Producer\\\", \\\"name\\\": \\\"Steven Lisberger\\\"}, {\\\"credit_id\\\": \\\"52fe43eac3a368484e005cd5\\\", \\\"department\\\": \\\"Production\\\", \\\"gender\\\": 2, \\\"id\\\": 6889, \\\"job\\\": \\\"Executive Producer\\\", \\\"name\\\": \\\"Donald Kushner\\\"}, {\\\"credit_id\\\": \\\"537f4860c3a368059e0033ea\\\", \\\"department\\\": \\\"Production\\\", \\\"gender\\\": 1, \\\"id\\\": 7232, \\\"job\\\": \\\"Casting\\\", \\\"name\\\": \\\"Sarah Finn\\\"}, {\\\"credit_id\\\": \\\"537f484ec3a368059b003353\\\", \\\"department\\\": \\\"Production\\\", \\\"gender\\\": 1, \\\"id\\\": 5362, \\\"job\\\": \\\"Casting\\\", \\\"name\\\": \\\"Heike Brandstatter\\\"}, {\\\"credit_id\\\": \\\"537f4872c3a368059e0033f0\\\", \\\"department\\\": \\\"Production\\\", \\\"gender\\\": 1, \\\"id\\\": 5363, \\\"job\\\": \\\"Casting\\\", \\\"name\\\": \\\"Coreen Mayrs\\\"}, {\\\"credit_id\\\": \\\"537f4981c3a36805950032df\\\", \\\"department\\\": \\\"Costume & Make-Up\\\", \\\"gender\\\": 2, \\\"id\\\": 5392, \\\"job\\\": \\\"Costume Design\\\", \\\"name\\\": \\\"Michael Wilkinson\\\"}, {\\\"credit_id\\\": \\\"570b70d7c3a3680ee1002951\\\", \\\"department\\\": \\\"Art\\\", \\\"gender\\\": 2, \\\"id\\\": 6878, \\\"job\\\": \\\"Supervising Art Director\\\", \\\"name\\\": \\\"Kevin Ishioka\\\"}, {\\\"credit_id\\\": \\\"537f4959c3a368059b003369\\\", \\\"department\\\": \\\"Art\\\", \\\"gender\\\": 1, \\\"id\\\": 12384, \\\"job\\\": \\\"Set Decoration\\\", \\\"name\\\": \\\"Lin MacDonald\\\"}, {\\\"credit_id\\\": \\\"570b70c99251417da7003357\\\", \\\"department\\\": \\\"Art\\\", \\\"gender\\\": 2, \\\"id\\\": 21070, \\\"job\\\": \\\"Supervising Art Director\\\", \\\"name\\\": \\\"Mark W. Mansbridge\\\"}, {\\\"credit_id\\\": \\\"52fe43eac3a368484e005cb7\\\", \\\"department\\\": \\\"Production\\\", \\\"gender\\\": 2, \\\"id\\\": 20908, \\\"job\\\": \\\"Producer\\\", \\\"name\\\": \\\"Jeffrey Silver\\\"}, {\\\"credit_id\\\": \\\"52fe43eac3a368484e005cab\\\", \\\"department\\\": \\\"Production\\\", \\\"gender\\\": 2, \\\"id\\\": 39387, \\\"job\\\": \\\"Producer\\\", \\\"name\\\": \\\"Sean Bailey\\\"}, {\\\"credit_id\\\": \\\"52fe43ebc3a368484e005d1f\\\", \\\"department\\\": \\\"Camera\\\", \\\"gender\\\": 2, \\\"id\\\": 51333, \\\"job\\\": \\\"Director of Photography\\\", \\\"name\\\": \\\"Claudio Miranda\\\"}, {\\\"credit_id\\\": \\\"5755414f92514102790014f7\\\", \\\"department\\\": \\\"Production\\\", \\\"gender\\\": 0, \\\"id\\\": 63289, \\\"job\\\": \\\"Co-Producer\\\", \\\"name\\\": \\\"Steve Gaub\\\"}, {\\\"credit_id\\\": \\\"52fe43eac3a368484e005ca5\\\", \\\"department\\\": \\\"Sound\\\", \\\"gender\\\": 0, \\\"id\\\": 67931, \\\"job\\\": \\\"Music\\\", \\\"name\\\": \\\"Daft Punk\\\"}, {\\\"credit_id\\\": \\\"52fe43eac3a368484e005c93\\\", \\\"department\\\": \\\"Writing\\\", \\\"gender\\\": 2, \\\"id\\\": 73570, \\\"job\\\": \\\"Screenplay\\\", \\\"name\\\": \\\"Richard Jefferies\\\"}, {\\\"credit_id\\\": \\\"537f4996c3a368059800333f\\\", \\\"department\\\": \\\"Costume & Make-Up\\\", \\\"gender\\\": 0, \\\"id\\\": 75294, \\\"job\\\": \\\"Makeup Department Head\\\", \\\"name\\\": \\\"Rosalina Da Silva\\\"}, {\\\"credit_id\\\": \\\"52fe43eac3a368484e005c87\\\", \\\"department\\\": \\\"Directing\\\", \\\"gender\\\": 2, \\\"id\\\": 86270, \\\"job\\\": \\\"Director\\\", \\\"name\\\": \\\"Joseph Kosinski\\\"}, {\\\"credit_id\\\": \\\"575540f3c3a368091a002be3\\\", \\\"department\\\": \\\"Production\\\", \\\"gender\\\": 0, \\\"id\\\": 113981, \\\"job\\\": \\\"Associate Producer\\\", \\\"name\\\": \\\"Bruce Franklin\\\"}, {\\\"credit_id\\\": \\\"5755416dc3a3686803004aea\\\", \\\"department\\\": \\\"Production\\\", \\\"gender\\\": 0, \\\"id\\\": 113982, \\\"job\\\": \\\"Co-Producer\\\", \\\"name\\\": \\\"Justis Greene\\\"}, {\\\"credit_id\\\": \\\"537f4918c3a36805a1003279\\\", \\\"department\\\": \\\"Art\\\", \\\"gender\\\": 2, \\\"id\\\": 411385, \\\"job\\\": \\\"Production Design\\\", \\\"name\\\": \\\"Darren Gilford\\\"}, {\\\"credit_id\\\": \\\"575541dac3a3683c90001475\\\", \\\"department\\\": \\\"Production\\\", \\\"gender\\\": 2, \\\"id\\\": 970765, \\\"job\\\": \\\"Co-Producer\\\", \\\"name\\\": \\\"Justin Springer\\\"}, {\\\"credit_id\\\": \\\"55d9d48a92514143de00512f\\\", \\\"department\\\": \\\"Writing\\\", \\\"gender\\\": 0, \\\"id\\\": 1214366, \\\"job\\\": \\\"Screenplay\\\", \\\"name\\\": \\\"Edward Kitsis\\\"}, {\\\"credit_id\\\": \\\"55d9d59892514143f0004b53\\\", \\\"department\\\": \\\"Writing\\\", \\\"gender\\\": 0, \\\"id\\\": 1214367, \\\"job\\\": \\\"Screenplay\\\", \\\"name\\\": \\\"Adam Horowitz\\\"}, {\\\"credit_id\\\": \\\"537f49c0c3a36805a800317f\\\", \\\"department\\\": \\\"Costume & Make-Up\\\", \\\"gender\\\": 0, \\\"id\\\": 1323289, \\\"job\\\": \\\"Costume Supervisor\\\", \\\"name\\\": \\\"Tangi Crawford\\\"}, {\\\"credit_id\\\": \\\"55404acfc3a3681da0000a67\\\", \\\"department\\\": \\\"Visual Effects\\\", \\\"gender\\\": 0, \\\"id\\\": 1459743, \\\"job\\\": \\\"Animation\\\", \\\"name\\\": \\\"Erik Baker\\\"}, {\\\"credit_id\\\": \\\"575541049251417aa00016f6\\\", \\\"department\\\": \\\"Production\\\", \\\"gender\\\": 2, \\\"id\\\": 1477203, \\\"job\\\": \\\"Associate Producer\\\", \\\"name\\\": \\\"Luca Marco Paracels\\\"}]\",\n          \"[{\\\"credit_id\\\": \\\"5496ad4092514132ed004363\\\", \\\"department\\\": \\\"Visual Effects\\\", \\\"gender\\\": 0, \\\"id\\\": 8387, \\\"job\\\": \\\"Visual Effects Producer\\\", \\\"name\\\": \\\"Crys Forsyth-Smith\\\"}, {\\\"credit_id\\\": \\\"52fe435dc3a36847f804ed9f\\\", \\\"department\\\": \\\"Camera\\\", \\\"gender\\\": 2, \\\"id\\\": 149, \\\"job\\\": \\\"Director of Photography\\\", \\\"name\\\": \\\"Robert Richardson\\\"}, {\\\"credit_id\\\": \\\"52fe435dc3a36847f804ed99\\\", \\\"department\\\": \\\"Sound\\\", \\\"gender\\\": 2, \\\"id\\\": 117, \\\"job\\\": \\\"Original Music Composer\\\", \\\"name\\\": \\\"Howard Shore\\\"}, {\\\"credit_id\\\": \\\"52fe435dc3a36847f804ed93\\\", \\\"department\\\": \\\"Production\\\", \\\"gender\\\": 2, \\\"id\\\": 638, \\\"job\\\": \\\"Producer\\\", \\\"name\\\": \\\"Michael Mann\\\"}, {\\\"credit_id\\\": \\\"52fe435dc3a36847f804ed7b\\\", \\\"department\\\": \\\"Writing\\\", \\\"gender\\\": 2, \\\"id\\\": 932, \\\"job\\\": \\\"Screenplay\\\", \\\"name\\\": \\\"John Logan\\\"}, {\\\"credit_id\\\": \\\"52fe435dc3a36847f804ed75\\\", \\\"department\\\": \\\"Directing\\\", \\\"gender\\\": 2, \\\"id\\\": 1032, \\\"job\\\": \\\"Director\\\", \\\"name\\\": \\\"Martin Scorsese\\\"}, {\\\"credit_id\\\": \\\"557312ce92514115ee001b57\\\", \\\"department\\\": \\\"Production\\\", \\\"gender\\\": 2, \\\"id\\\": 1032, \\\"job\\\": \\\"Executive Producer\\\", \\\"name\\\": \\\"Martin Scorsese\\\"}, {\\\"credit_id\\\": \\\"557312579251412e26001353\\\", \\\"department\\\": \\\"Production\\\", \\\"gender\\\": 2, \\\"id\\\": 1307, \\\"job\\\": \\\"Executive Producer\\\", \\\"name\\\": \\\"Bob Weinstein\\\"}, {\\\"credit_id\\\": \\\"557312639251416af7003cf3\\\", \\\"department\\\": \\\"Production\\\", \\\"gender\\\": 2, \\\"id\\\": 59839, \\\"job\\\": \\\"Executive Producer\\\", \\\"name\\\": \\\"Harvey Weinstein\\\"}, {\\\"credit_id\\\": \\\"587bfa12c3a36847e8014b51\\\", \\\"department\\\": \\\"Sound\\\", \\\"gender\\\": 0, \\\"id\\\": 1638, \\\"job\\\": \\\"Sound Designer\\\", \\\"name\\\": \\\"Eugene Gearty\\\"}, {\\\"credit_id\\\": \\\"5496ab4ac3a3681153003e9a\\\", \\\"department\\\": \\\"Sound\\\", \\\"gender\\\": 0, \\\"id\\\": 1638, \\\"job\\\": \\\"Supervising Sound Editor\\\", \\\"name\\\": \\\"Eugene Gearty\\\"}, {\\\"credit_id\\\": \\\"52fe435dc3a36847f804eda5\\\", \\\"department\\\": \\\"Production\\\", \\\"gender\\\": 1, \\\"id\\\": 2242, \\\"job\\\": \\\"Casting\\\", \\\"name\\\": \\\"Ellen Lewis\\\"}, {\\\"credit_id\\\": \\\"539c5295c3a36810c10021e3\\\", \\\"department\\\": \\\"Art\\\", \\\"gender\\\": 2, \\\"id\\\": 2366, \\\"job\\\": \\\"Production Design\\\", \\\"name\\\": \\\"Dante Ferretti\\\"}, {\\\"credit_id\\\": \\\"539c5272c3a36810c90021ed\\\", \\\"department\\\": \\\"Editing\\\", \\\"gender\\\": 1, \\\"id\\\": 3661, \\\"job\\\": \\\"Editor\\\", \\\"name\\\": \\\"Thelma Schoonmaker\\\"}, {\\\"credit_id\\\": \\\"570ab3c1c3a3680ee10001d5\\\", \\\"department\\\": \\\"Art\\\", \\\"gender\\\": 2, \\\"id\\\": 4187, \\\"job\\\": \\\"Supervising Art Director\\\", \\\"name\\\": \\\"Robert Guerra\\\"}, {\\\"credit_id\\\": \\\"539c5336c3a36810c9002223\\\", \\\"department\\\": \\\"Production\\\", \\\"gender\\\": 0, \\\"id\\\": 6997, \\\"job\\\": \\\"Casting\\\", \\\"name\\\": \\\"Lucie Robitaille\\\"}, {\\\"credit_id\\\": \\\"587bf6d792514141430081e9\\\", \\\"department\\\": \\\"Costume & Make-Up\\\", \\\"gender\\\": 2, \\\"id\\\": 6053, \\\"job\\\": \\\"Set Dressing Artist\\\", \\\"name\\\": \\\"Paul Hotte\\\"}, {\\\"credit_id\\\": \\\"5573120b925141318e002459\\\", \\\"department\\\": \\\"Production\\\", \\\"gender\\\": 2, \\\"id\\\": 6193, \\\"job\\\": \\\"Executive Producer\\\", \\\"name\\\": \\\"Leonardo DiCaprio\\\"}, {\\\"credit_id\\\": \\\"587bf8cec3a3684a4a014e92\\\", \\\"department\\\": \\\"Directing\\\", \\\"gender\\\": 2, \\\"id\\\": 7531, \\\"job\\\": \\\"Assistant Director\\\", \\\"name\\\": \\\"Joseph P. Reidy\\\"}, {\\\"credit_id\\\": \\\"5573122ac3a3686f58001ab7\\\", \\\"department\\\": \\\"Production\\\", \\\"gender\\\": 2, \\\"id\\\": 7531, \\\"job\\\": \\\"Co-Producer\\\", \\\"name\\\": \\\"Joseph P. Reidy\\\"}, {\\\"credit_id\\\": \\\"52fe435dc3a36847f804edb1\\\", \\\"department\\\": \\\"Art\\\", \\\"gender\\\": 0, \\\"id\\\": 9026, \\\"job\\\": \\\"Set Decoration\\\", \\\"name\\\": \\\"Francesca Lo Schiavo\\\"}, {\\\"credit_id\\\": \\\"52fe435dc3a36847f804edb7\\\", \\\"department\\\": \\\"Costume & Make-Up\\\", \\\"gender\\\": 0, \\\"id\\\": 9027, \\\"job\\\": \\\"Costume Design\\\", \\\"name\\\": \\\"Sandy Powell\\\"}, {\\\"credit_id\\\": \\\"5496b0e9c3a3680ff5004917\\\", \\\"department\\\": \\\"Crew\\\", \\\"gender\\\": 0, \\\"id\\\": 13050, \\\"job\\\": \\\"Dialect Coach\\\", \\\"name\\\": \\\"Tim Monich\\\"}, {\\\"credit_id\\\": \\\"5496ae92c3a3686af3005772\\\", \\\"department\\\": \\\"Visual Effects\\\", \\\"gender\\\": 0, \\\"id\\\": 15022, \\\"job\\\": \\\"Visual Effects Supervisor\\\", \\\"name\\\": \\\"Mat Beck\\\"}, {\\\"credit_id\\\": \\\"587bfa94c3a36847e8014b8a\\\", \\\"department\\\": \\\"Visual Effects\\\", \\\"gender\\\": 0, \\\"id\\\": 15333, \\\"job\\\": \\\"Special Effects Supervisor\\\", \\\"name\\\": \\\"R. Bruce Steinheimer\\\"}, {\\\"credit_id\\\": \\\"52fe435dc3a36847f804ed8d\\\", \\\"department\\\": \\\"Production\\\", \\\"gender\\\": 2, \\\"id\\\": 16729, \\\"job\\\": \\\"Producer\\\", \\\"name\\\": \\\"Graham King\\\"}, {\\\"credit_id\\\": \\\"570ab3d6925141362700029f\\\", \\\"department\\\": \\\"Art\\\", \\\"gender\\\": 2, \\\"id\\\": 17829, \\\"job\\\": \\\"Supervising Art Director\\\", \\\"name\\\": \\\"Claude Par\\\\u00e9\\\"}, {\\\"credit_id\\\": \\\"587bf640c3a368494c011b95\\\", \\\"department\\\": \\\"Costume & Make-Up\\\", \\\"gender\\\": 0, \\\"id\\\": 18125, \\\"job\\\": \\\"Assistant Costume Designer\\\", \\\"name\\\": \\\"Marjorie McCown\\\"}, {\\\"credit_id\\\": \\\"5496aa99c3a3681153003e89\\\", \\\"department\\\": \\\"Art\\\", \\\"gender\\\": 1, \\\"id\\\": 18900, \\\"job\\\": \\\"Assistant Art Director\\\", \\\"name\\\": \\\"Christina Ann Wilson\\\"}, {\\\"credit_id\\\": \\\"52fe435dc3a36847f804ed81\\\", \\\"department\\\": \\\"Production\\\", \\\"gender\\\": 0, \\\"id\\\": 27218, \\\"job\\\": \\\"Producer\\\", \\\"name\\\": \\\"Sandy Climan\\\"}, {\\\"credit_id\\\": \\\"52fe435dc3a36847f804ed87\\\", \\\"department\\\": \\\"Production\\\", \\\"gender\\\": 2, \\\"id\\\": 27219, \\\"job\\\": \\\"Producer\\\", \\\"name\\\": \\\"Charles Evans Jr.\\\"}, {\\\"credit_id\\\": \\\"52fe435dc3a36847f804edab\\\", \\\"department\\\": \\\"Art\\\", \\\"gender\\\": 0, \\\"id\\\": 27220, \\\"job\\\": \\\"Art Direction\\\", \\\"name\\\": \\\"Luca Tranchino\\\"}, {\\\"credit_id\\\": \\\"5573126dc3a3686b7d001742\\\", \\\"department\\\": \\\"Production\\\", \\\"gender\\\": 2, \\\"id\\\": 30714, \\\"job\\\": \\\"Executive Producer\\\", \\\"name\\\": \\\"Rick Yorn\\\"}, {\\\"credit_id\\\": \\\"5496a8d69251416e2b005fa9\\\", \\\"department\\\": \\\"Crew\\\", \\\"gender\\\": 2, \\\"id\\\": 34338, \\\"job\\\": \\\"Post Production Supervisor\\\", \\\"name\\\": \\\"Michael Jackman\\\"}, {\\\"credit_id\\\": \\\"5573124dc3a3686b7d001739\\\", \\\"department\\\": \\\"Production\\\", \\\"gender\\\": 2, \\\"id\\\": 34340, \\\"job\\\": \\\"Executive Producer\\\", \\\"name\\\": \\\"Rick Schwartz\\\"}, {\\\"credit_id\\\": \\\"5686d817c3a3684be901f270\\\", \\\"department\\\": \\\"Sound\\\", \\\"gender\\\": 2, \\\"id\\\": 52161, \\\"job\\\": \\\"Music Supervisor\\\", \\\"name\\\": \\\"Randall Poster\\\"}, {\\\"credit_id\\\": \\\"557311e79251416af7003cdb\\\", \\\"department\\\": \\\"Production\\\", \\\"gender\\\": 0, \\\"id\\\": 41018, \\\"job\\\": \\\"Executive Producer\\\", \\\"name\\\": \\\"Chris Brigham\\\"}, {\\\"credit_id\\\": \\\"5573124092514110f90023e1\\\", \\\"department\\\": \\\"Production\\\", \\\"gender\\\": 2, \\\"id\\\": 50354, \\\"job\\\": \\\"Line Producer\\\", \\\"name\\\": \\\"Philip Schulz-Deyle\\\"}, {\\\"credit_id\\\": \\\"55731214c3a3686f58001ab4\\\", \\\"department\\\": \\\"Production\\\", \\\"gender\\\": 2, \\\"id\\\": 50355, \\\"job\\\": \\\"Line Producer\\\", \\\"name\\\": \\\"Dan Maag\\\"}, {\\\"credit_id\\\": \\\"557311ffc3a36839200044d6\\\", \\\"department\\\": \\\"Production\\\", \\\"gender\\\": 0, \\\"id\\\": 66185, \\\"job\\\": \\\"Producer\\\", \\\"name\\\": \\\"Matthias Deyle\\\"}, {\\\"credit_id\\\": \\\"5496ac1d925141731500108a\\\", \\\"department\\\": \\\"Sound\\\", \\\"gender\\\": 2, \\\"id\\\": 92376, \\\"job\\\": \\\"Foley\\\", \\\"name\\\": \\\"Marko A. Costanzo\\\"}, {\\\"credit_id\\\": \\\"587bf9ecc3a36849ff01215a\\\", \\\"department\\\": \\\"Sound\\\", \\\"gender\\\": 0, \\\"id\\\": 92379, \\\"job\\\": \\\"Assistant Sound Editor\\\", \\\"name\\\": \\\"Chris Fielder\\\"}, {\\\"credit_id\\\": \\\"5496ac359251416e1e00582f\\\", \\\"department\\\": \\\"Sound\\\", \\\"gender\\\": 0, \\\"id\\\": 92388, \\\"job\\\": \\\"Foley\\\", \\\"name\\\": \\\"Jay Peck\\\"}, {\\\"credit_id\\\": \\\"5496ac539251417162000fc9\\\", \\\"department\\\": \\\"Sound\\\", \\\"gender\\\": 0, \\\"id\\\": 92389, \\\"job\\\": \\\"Sound Effects Editor\\\", \\\"name\\\": \\\"Wyatt Sprague\\\"}, {\\\"credit_id\\\": \\\"5496abe8c3a36831b800390d\\\", \\\"department\\\": \\\"Editing\\\", \\\"gender\\\": 0, \\\"id\\\": 92391, \\\"job\\\": \\\"Dialogue Editor\\\", \\\"name\\\": \\\"Nicholas Renbeck\\\"}, {\\\"credit_id\\\": \\\"5496aeb29251413f7500439d\\\", \\\"department\\\": \\\"Crew\\\", \\\"gender\\\": 2, \\\"id\\\": 92234, \\\"job\\\": \\\"Stunt Coordinator\\\", \\\"name\\\": \\\"Jean Frenette\\\"}, {\\\"credit_id\\\": \\\"587bf8aa925141414300829e\\\", \\\"department\\\": \\\"Production\\\", \\\"gender\\\": 0, \\\"id\\\": 91055, \\\"job\\\": \\\"Unit Production Manager\\\", \\\"name\\\": \\\"Jan Foster\\\"}, {\\\"credit_id\\\": \\\"587bf701c3a3684a4a014db7\\\", \\\"department\\\": \\\"Costume & Make-Up\\\", \\\"gender\\\": 0, \\\"id\\\": 92085, \\\"job\\\": \\\"Set Dressing Supervisor\\\", \\\"name\\\": \\\"Carrie Wilksen\\\"}, {\\\"credit_id\\\": \\\"5496aef0c3a3686af300577b\\\", \\\"department\\\": \\\"Camera\\\", \\\"gender\\\": 0, \\\"id\\\": 91912, \\\"job\\\": \\\"Camera Operator\\\", \\\"name\\\": \\\"John Skotchdopole\\\"}, {\\\"credit_id\\\": \\\"5496abfe9251417a81003aa6\\\", \\\"department\\\": \\\"Editing\\\", \\\"gender\\\": 2, \\\"id\\\": 99426, \\\"job\\\": \\\"Dialogue Editor\\\", \\\"name\\\": \\\"Fred Rosenberg\\\"}, {\\\"credit_id\\\": \\\"5496abd0c3a3686ae9005ffa\\\", \\\"department\\\": \\\"Editing\\\", \\\"gender\\\": 1, \\\"id\\\": 142155, \\\"job\\\": \\\"Dialogue Editor\\\", \\\"name\\\": \\\"Laura Civiello\\\"}, {\\\"credit_id\\\": \\\"5496ad0092514132ed00435e\\\", \\\"department\\\": \\\"Visual Effects\\\", \\\"gender\\\": 0, \\\"id\\\": 186721, \\\"job\\\": \\\"Visual Effects Producer\\\", \\\"name\\\": \\\"Ron Ames\\\"}, {\\\"credit_id\\\": \\\"5496af82c3a3680ff50048ef\\\", \\\"department\\\": \\\"Lighting\\\", \\\"gender\\\": 0, \\\"id\\\": 589970, \\\"job\\\": \\\"Lighting Technician\\\", \\\"name\\\": \\\"Ian Kincaid\\\"}, {\\\"credit_id\\\": \\\"55731236925141318e002464\\\", \\\"department\\\": \\\"Production\\\", \\\"gender\\\": 0, \\\"id\\\": 954881, \\\"job\\\": \\\"Executive Producer\\\", \\\"name\\\": \\\"Volker Schauz\\\"}, {\\\"credit_id\\\": \\\"5573121fc3a368376f004107\\\", \\\"department\\\": \\\"Production\\\", \\\"gender\\\": 0, \\\"id\\\": 961984, \\\"job\\\": \\\"Executive Producer\\\", \\\"name\\\": \\\"Aslan Nadery\\\"}, {\\\"credit_id\\\": \\\"587bf5af9251413e920133ba\\\", \\\"department\\\": \\\"Camera\\\", \\\"gender\\\": 0, \\\"id\\\": 963861, \\\"job\\\": \\\"Additional Camera\\\", \\\"name\\\": \\\"Dana Gonzales\\\"}, {\\\"credit_id\\\": \\\"5496adfb9251416e1e00584e\\\", \\\"department\\\": \\\"Visual Effects\\\", \\\"gender\\\": 0, \\\"id\\\": 1032536, \\\"job\\\": \\\"Visual Effects Supervisor\\\", \\\"name\\\": \\\"Robert Stromberg\\\"}, {\\\"credit_id\\\": \\\"5686d875c3a3684be901f280\\\", \\\"department\\\": \\\"Editing\\\", \\\"gender\\\": 0, \\\"id\\\": 1077878, \\\"job\\\": \\\"First Assistant Editor\\\", \\\"name\\\": \\\"Tom Foligno\\\"}, {\\\"credit_id\\\": \\\"557311f4c3a3686b7d001728\\\", \\\"department\\\": \\\"Production\\\", \\\"gender\\\": 0, \\\"id\\\": 1118241, \\\"job\\\": \\\"Executive Producer\\\", \\\"name\\\": \\\"Colin Cotter\\\"}, {\\\"credit_id\\\": \\\"5496ad57c3a3680fc600404a\\\", \\\"department\\\": \\\"Visual Effects\\\", \\\"gender\\\": 0, \\\"id\\\": 1169459, \\\"job\\\": \\\"Visual Effects Producer\\\", \\\"name\\\": \\\"Julia Frey\\\"}, {\\\"credit_id\\\": \\\"539c5352c3a36810ba0022e7\\\", \\\"department\\\": \\\"Costume & Make-Up\\\", \\\"gender\\\": 0, \\\"id\\\": 1325235, \\\"job\\\": \\\"Costume Supervisor\\\", \\\"name\\\": \\\"Cheryl Beasley Blackwell\\\"}, {\\\"credit_id\\\": \\\"5686d7f9c3a3684bcc021c54\\\", \\\"department\\\": \\\"Costume & Make-Up\\\", \\\"gender\\\": 0, \\\"id\\\": 1328380, \\\"job\\\": \\\"Costume Supervisor\\\", \\\"name\\\": \\\"David Davenport\\\"}, {\\\"credit_id\\\": \\\"539c5309c3a368653d001bdb\\\", \\\"department\\\": \\\"Costume & Make-Up\\\", \\\"gender\\\": 0, \\\"id\\\": 1330586, \\\"job\\\": \\\"Makeup Department Head\\\", \\\"name\\\": \\\"Morag Ross\\\"}, {\\\"credit_id\\\": \\\"5496ab6ac3a3680ff5004883\\\", \\\"department\\\": \\\"Sound\\\", \\\"gender\\\": 2, \\\"id\\\": 1333223, \\\"job\\\": \\\"Supervising Sound Editor\\\", \\\"name\\\": \\\"Philip Stockton\\\"}, {\\\"credit_id\\\": \\\"5496ad6bc3a3680ff50048b9\\\", \\\"department\\\": \\\"Crew\\\", \\\"gender\\\": 0, \\\"id\\\": 1335209, \\\"job\\\": \\\"Visual Effects Editor\\\", \\\"name\\\": \\\"Adam Gerstel\\\"}, {\\\"credit_id\\\": \\\"587bf9d4c3a368426e007026\\\", \\\"department\\\": \\\"Sound\\\", \\\"gender\\\": 0, \\\"id\\\": 1342654, \\\"job\\\": \\\"Boom Operator\\\", \\\"name\\\": \\\"Carl Fischer\\\"}, {\\\"credit_id\\\": \\\"587bf54ec3a3684a65013ea6\\\", \\\"department\\\": \\\"Art\\\", \\\"gender\\\": 1, \\\"id\\\": 1347759, \\\"job\\\": \\\"Location Scout\\\", \\\"name\\\": \\\"Lori A. Balton\\\"}, {\\\"credit_id\\\": \\\"5496b06ac3a3680ff5004909\\\", \\\"department\\\": \\\"Crew\\\", \\\"gender\\\": 0, \\\"id\\\": 1357070, \\\"job\\\": \\\"Transportation Coordinator\\\", \\\"name\\\": \\\"Denny Caira\\\"}, {\\\"credit_id\\\": \\\"5496ad9bc3a3686ae9006018\\\", \\\"department\\\": \\\"Visual Effects\\\", \\\"gender\\\": 0, \\\"id\\\": 1360109, \\\"job\\\": \\\"Visual Effects Producer\\\", \\\"name\\\": \\\"Kim Lee\\\"}, {\\\"credit_id\\\": \\\"5496afc8c3a3686ae100652f\\\", \\\"department\\\": \\\"Costume & Make-Up\\\", \\\"gender\\\": 0, \\\"id\\\": 1378244, \\\"job\\\": \\\"Set Costumer\\\", \\\"name\\\": \\\"Toby Bronson\\\"}, {\\\"credit_id\\\": \\\"5496a983c3a3686af300570a\\\", \\\"department\\\": \\\"Art\\\", \\\"gender\\\": 0, \\\"id\\\": 1378745, \\\"job\\\": \\\"Construction Coordinator\\\", \\\"name\\\": \\\"Bill Iiams\\\"}, {\\\"credit_id\\\": \\\"5496af23925141716200101c\\\", \\\"department\\\": \\\"Camera\\\", \\\"gender\\\": 0, \\\"id\\\": 1386920, \\\"job\\\": \\\"Still Photographer\\\", \\\"name\\\": \\\"Andrew Cooper\\\"}, {\\\"credit_id\\\": \\\"5496aa15c3a3680ff5004866\\\", \\\"department\\\": \\\"Crew\\\", \\\"gender\\\": 0, \\\"id\\\": 1390522, \\\"job\\\": \\\"Property Master\\\", \\\"name\\\": \\\"Hope M. Parrish\\\"}, {\\\"credit_id\\\": \\\"5496aa629251416e1e00580a\\\", \\\"department\\\": \\\"Art\\\", \\\"gender\\\": 0, \\\"id\\\": 1391760, \\\"job\\\": \\\"Sculptor\\\", \\\"name\\\": \\\"Lucie Fournier\\\"}, {\\\"credit_id\\\": \\\"5496a8f8c3a3680fc6003ff7\\\", \\\"department\\\": \\\"Crew\\\", \\\"gender\\\": 0, \\\"id\\\": 1391763, \\\"job\\\": \\\"Property Master\\\", \\\"name\\\": \\\"Claire Alary\\\"}, {\\\"credit_id\\\": \\\"5496b0a1c3a3680ff500490e\\\", \\\"department\\\": \\\"Production\\\", \\\"gender\\\": 0, \\\"id\\\": 1392113, \\\"job\\\": \\\"Location Manager\\\", \\\"name\\\": \\\"C\\\\u00e9line Daignault\\\"}, {\\\"credit_id\\\": \\\"5496a948c3a3686ae1006488\\\", \\\"department\\\": \\\"Art\\\", \\\"gender\\\": 0, \\\"id\\\": 1394739, \\\"job\\\": \\\"Art Department Coordinator\\\", \\\"name\\\": \\\"Charlotte Raybourn\\\"}, {\\\"credit_id\\\": \\\"587bfa72c3a3684a650140c9\\\", \\\"department\\\": \\\"Visual Effects\\\", \\\"gender\\\": 0, \\\"id\\\": 1394967, \\\"job\\\": \\\"Digital Compositors\\\", \\\"name\\\": \\\"Matthew Collorafice\\\"}, {\\\"credit_id\\\": \\\"587bf977c3a3684a9e012a90\\\", \\\"department\\\": \\\"Production\\\", \\\"gender\\\": 1, \\\"id\\\": 1398132, \\\"job\\\": \\\"Casting Associate\\\", \\\"name\\\": \\\"Jennifer Euston\\\"}, {\\\"credit_id\\\": \\\"5496a9f8c3a3686ae100649e\\\", \\\"department\\\": \\\"Art\\\", \\\"gender\\\": 0, \\\"id\\\": 1399292, \\\"job\\\": \\\"Set Designer\\\", \\\"name\\\": \\\"William J. Law III\\\"}, {\\\"credit_id\\\": \\\"5496ac77c3a3686ae10064d7\\\", \\\"department\\\": \\\"Sound\\\", \\\"gender\\\": 0, \\\"id\\\": 1400072, \\\"job\\\": \\\"Sound Re-Recording Mixer\\\", \\\"name\\\": \\\"Tom Fleischman\\\"}, {\\\"credit_id\\\": \\\"587bf6589251413f33013901\\\", \\\"department\\\": \\\"Costume & Make-Up\\\", \\\"gender\\\": 0, \\\"id\\\": 1402015, \\\"job\\\": \\\"Hair Department Head\\\", \\\"name\\\": \\\"Kathryn Blondell\\\"}, {\\\"credit_id\\\": \\\"587bf69c9251413ecb0134a2\\\", \\\"department\\\": \\\"Costume & Make-Up\\\", \\\"gender\\\": 1, \\\"id\\\": 1402016, \\\"job\\\": \\\"Key Hair Stylist\\\", \\\"name\\\": \\\"Carolyn Elias\\\"}, {\\\"credit_id\\\": \\\"5496a860c3a3680fc6003fe9\\\", \\\"department\\\": \\\"Costume & Make-Up\\\", \\\"gender\\\": 0, \\\"id\\\": 1402017, \\\"job\\\": \\\"Hairstylist\\\", \\\"name\\\": \\\"R\\\\u00e9jean Forget\\\"}, {\\\"credit_id\\\": \\\"5496a8819251417315001037\\\", \\\"department\\\": \\\"Costume & Make-Up\\\", \\\"gender\\\": 0, \\\"id\\\": 1402018, \\\"job\\\": \\\"Makeup Artist\\\", \\\"name\\\": \\\"Tina Harrelson\\\"}, {\\\"credit_id\\\": \\\"5496a89bc3a3686ae9005fb6\\\", \\\"department\\\": \\\"Costume & Make-Up\\\", \\\"gender\\\": 0, \\\"id\\\": 1402019, \\\"job\\\": \\\"Makeup Artist\\\", \\\"name\\\": \\\"Colleen Quinton\\\"}, {\\\"credit_id\\\": \\\"5496a932925141731500104e\\\", \\\"department\\\": \\\"Art\\\", \\\"gender\\\": 0, \\\"id\\\": 1402020, \\\"job\\\": \\\"Art Department Coordinator\\\", \\\"name\\\": \\\"Viviane Vall\\\\u00e9e\\\"}, {\\\"credit_id\\\": \\\"5496a95fc3a3686af30056ff\\\", \\\"department\\\": \\\"Art\\\", \\\"gender\\\": 0, \\\"id\\\": 1402021, \\\"job\\\": \\\"Art Department Coordinator\\\", \\\"name\\\": \\\"Ga\\\\u00e9tan Marsolais\\\"}, {\\\"credit_id\\\": \\\"5496aa3a92514130fc004839\\\", \\\"department\\\": \\\"Art\\\", \\\"gender\\\": 0, \\\"id\\\": 1402022, \\\"job\\\": \\\"Leadman\\\", \\\"name\\\": \\\"David C. Potter\\\"}, {\\\"credit_id\\\": \\\"5496aae1c3a3680ff5004873\\\", \\\"department\\\": \\\"Art\\\", \\\"gender\\\": 0, \\\"id\\\": 1402023, \\\"job\\\": \\\"Art Department Coordinator\\\", \\\"name\\\": \\\"Doris Simard\\\"}, {\\\"credit_id\\\": \\\"5496ab95c3a3681153003ea2\\\", \\\"department\\\": \\\"Crew\\\", \\\"gender\\\": 0, \\\"id\\\": 1402024, \\\"job\\\": \\\"Sound Recordist\\\", \\\"name\\\": \\\"Travis Call\\\"}, {\\\"credit_id\\\": \\\"5496abb79251417315001078\\\", \\\"department\\\": \\\"Crew\\\", \\\"gender\\\": 0, \\\"id\\\": 1402025, \\\"job\\\": \\\"Sound Recordist\\\", \\\"name\\\": \\\"Giovanni Di Simone\\\"}, {\\\"credit_id\\\": \\\"5496ac9c9251417a81003ab9\\\", \\\"department\\\": \\\"Sound\\\", \\\"gender\\\": 0, \\\"id\\\": 1402026, \\\"job\\\": \\\"ADR & Dubbing\\\", \\\"name\\\": \\\"Kenton Jakub\\\"}, {\\\"credit_id\\\": \\\"5496acb2c3a3680ff500489e\\\", \\\"department\\\": \\\"Sound\\\", \\\"gender\\\": 0, \\\"id\\\": 1402027, \\\"job\\\": \\\"ADR & Dubbing\\\", \\\"name\\\": \\\"Hal Levinsohn\\\"}, {\\\"credit_id\\\": \\\"5496ad1a9251417162000fda\\\", \\\"department\\\": \\\"Visual Effects\\\", \\\"gender\\\": 0, \\\"id\\\": 1402028, \\\"job\\\": \\\"Visual Effects Producer\\\", \\\"name\\\": \\\"Denise Ballantyne\\\"}, {\\\"credit_id\\\": \\\"5496adb4c3a3686ae900601b\\\", \\\"department\\\": \\\"Visual Effects\\\", \\\"gender\\\": 0, \\\"id\\\": 1402029, \\\"job\\\": \\\"Visual Effects Producer\\\", \\\"name\\\": \\\"Louis Morin\\\"}, {\\\"credit_id\\\": \\\"5496add7c3a3680fc600405f\\\", \\\"department\\\": \\\"Crew\\\", \\\"gender\\\": 0, \\\"id\\\": 1402030, \\\"job\\\": \\\"Visual Effects Editor\\\", \\\"name\\\": \\\"Scott Sohan\\\"}, {\\\"credit_id\\\": \\\"5496ae249251413f7500438e\\\", \\\"department\\\": \\\"Visual Effects\\\", \\\"gender\\\": 0, \\\"id\\\": 1402031, \\\"job\\\": \\\"Visual Effects Supervisor\\\", \\\"name\\\": \\\"Robert Legato\\\"}, {\\\"credit_id\\\": \\\"587bf804c3a368426e006f3a\\\", \\\"department\\\": \\\"Camera\\\", \\\"gender\\\": 0, \\\"id\\\": 1402031, \\\"job\\\": \\\"Second Unit Director of Photography\\\", \\\"name\\\": \\\"Robert Legato\\\"}, {\\\"credit_id\\\": \\\"5496aed092514130fc004899\\\", \\\"department\\\": \\\"Camera\\\", \\\"gender\\\": 0, \\\"id\\\": 1402032, \\\"job\\\": \\\"Steadicam Operator\\\", \\\"name\\\": \\\"Francois Archambault\\\"}, {\\\"credit_id\\\": \\\"5496af3dc3a3680ff50048e3\\\", \\\"department\\\": \\\"Crew\\\", \\\"gender\\\": 0, \\\"id\\\": 1402033, \\\"job\\\": \\\"Video Assist Operator\\\", \\\"name\\\": \\\"Jean-Philippe Berub\\\\u00e9\\\"}, {\\\"credit_id\\\": \\\"5496af67c3a3686ae3005fbb\\\", \\\"department\\\": \\\"Lighting\\\", \\\"gender\\\": 0, \\\"id\\\": 1402034, \\\"job\\\": \\\"Gaffer\\\", \\\"name\\\": \\\"Eames Gagnon\\\"}, {\\\"credit_id\\\": \\\"5496afe7c3a36831b800396b\\\", \\\"department\\\": \\\"Costume & Make-Up\\\", \\\"gender\\\": 0, \\\"id\\\": 1402035, \\\"job\\\": \\\"Set Costumer\\\", \\\"name\\\": \\\"Monica Haynes\\\"}, {\\\"credit_id\\\": \\\"5496b027c3a3686ae1006539\\\", \\\"department\\\": \\\"Editing\\\", \\\"gender\\\": 0, \\\"id\\\": 1402036, \\\"job\\\": \\\"Digital Intermediate\\\", \\\"name\\\": \\\"Ron Barr\\\"}, {\\\"credit_id\\\": \\\"5496b049c3a3686ae9006048\\\", \\\"department\\\": \\\"Sound\\\", \\\"gender\\\": 0, \\\"id\\\": 1402037, \\\"job\\\": \\\"Music Editor\\\", \\\"name\\\": \\\"Jennifer Dunnington\\\"}, {\\\"credit_id\\\": \\\"5496b08cc3a3681153003f0c\\\", \\\"department\\\": \\\"Production\\\", \\\"gender\\\": 1, \\\"id\\\": 1402038, \\\"job\\\": \\\"Location Manager\\\", \\\"name\\\": \\\"Robin Citrin\\\"}, {\\\"credit_id\\\": \\\"5496b0c6c3a3686ae3005fda\\\", \\\"department\\\": \\\"Directing\\\", \\\"gender\\\": 0, \\\"id\\\": 1402039, \\\"job\\\": \\\"Script Supervisor\\\", \\\"name\\\": \\\"Martha Pinson\\\"}, {\\\"credit_id\\\": \\\"5496b12ec3a3686ae1006556\\\", \\\"department\\\": \\\"Crew\\\", \\\"gender\\\": 0, \\\"id\\\": 1402040, \\\"job\\\": \\\"Unit Publicist\\\", \\\"name\\\": \\\"Larry Kaplan\\\"}, {\\\"credit_id\\\": \\\"5496b185c3a3686af30057b3\\\", \\\"department\\\": \\\"Crew\\\", \\\"gender\\\": 0, \\\"id\\\": 1402042, \\\"job\\\": \\\"Choreographer\\\", \\\"name\\\": \\\"Matthew Dickens\\\"}, {\\\"credit_id\\\": \\\"587bf7509251414101008681\\\", \\\"department\\\": \\\"Crew\\\", \\\"gender\\\": 0, \\\"id\\\": 1407356, \\\"job\\\": \\\"Digital Effects Supervisor\\\", \\\"name\\\": \\\"Danny Braet\\\"}, {\\\"credit_id\\\": \\\"587bf889c3a36846c30104a9\\\", \\\"department\\\": \\\"Crew\\\", \\\"gender\\\": 1, \\\"id\\\": 1410982, \\\"job\\\": \\\"Stand In\\\", \\\"name\\\": \\\"Cynthia Beckert\\\"}, {\\\"credit_id\\\": \\\"587bf9539251413eec012f91\\\", \\\"department\\\": \\\"Lighting\\\", \\\"gender\\\": 0, \\\"id\\\": 1414289, \\\"job\\\": \\\"Rigging Gaffer\\\", \\\"name\\\": \\\"John R. Manocchia\\\"}, {\\\"credit_id\\\": \\\"587bf798c3a36846c3010435\\\", \\\"department\\\": \\\"Crew\\\", \\\"gender\\\": 0, \\\"id\\\": 1417843, \\\"job\\\": \\\"Picture Car Coordinator\\\", \\\"name\\\": \\\"Tyler W. Gaisford\\\"}, {\\\"credit_id\\\": \\\"587bf67f9251413f46012e21\\\", \\\"department\\\": \\\"Costume & Make-Up\\\", \\\"gender\\\": 1, \\\"id\\\": 1444908, \\\"job\\\": \\\"Hairstylist\\\", \\\"name\\\": \\\"Cydney Cornell\\\"}, {\\\"credit_id\\\": \\\"587bf7d49251413f1b014471\\\", \\\"department\\\": \\\"Crew\\\", \\\"gender\\\": 0, \\\"id\\\": 1455789, \\\"job\\\": \\\"Propmaker\\\", \\\"name\\\": \\\"Michael Crowe\\\"}, {\\\"credit_id\\\": \\\"587bf5d5c3a3684a4a014d10\\\", \\\"department\\\": \\\"Camera\\\", \\\"gender\\\": 0, \\\"id\\\": 1461175, \\\"job\\\": \\\"Camera Technician\\\", \\\"name\\\": \\\"Tim Arasheben\\\"}, {\\\"credit_id\\\": \\\"587bf6bc9251413e92013424\\\", \\\"department\\\": \\\"Costume & Make-Up\\\", \\\"gender\\\": 0, \\\"id\\\": 1466997, \\\"job\\\": \\\"Prosthetic Makeup Artist\\\", \\\"name\\\": \\\"Duncan Jarman\\\"}, {\\\"credit_id\\\": \\\"587bfb11c3a36846c3010587\\\", \\\"department\\\": \\\"Visual Effects\\\", \\\"gender\\\": 0, \\\"id\\\": 1512157, \\\"job\\\": \\\"Mechanical Designer\\\", \\\"name\\\": \\\"Robert Spurlock\\\"}, {\\\"credit_id\\\": \\\"587bfa59c3a36846c3010547\\\", \\\"department\\\": \\\"Visual Effects\\\", \\\"gender\\\": 0, \\\"id\\\": 1525552, \\\"job\\\": \\\"Animation Supervisor\\\", \\\"name\\\": \\\"Pepe Valencia\\\"}, {\\\"credit_id\\\": \\\"587bfab7c3a3684a9e012b0a\\\", \\\"department\\\": \\\"Visual Effects\\\", \\\"gender\\\": 0, \\\"id\\\": 1531519, \\\"job\\\": \\\"Visual Effects Coordinator\\\", \\\"name\\\": \\\"Kevin Field\\\"}, {\\\"credit_id\\\": \\\"587bf7199251414101008664\\\", \\\"department\\\": \\\"Crew\\\", \\\"gender\\\": 0, \\\"id\\\": 1532617, \\\"job\\\": \\\"Carpenter\\\", \\\"name\\\": \\\"Colin Dennis\\\"}, {\\\"credit_id\\\": \\\"5686d892c3a36860e9020201\\\", \\\"department\\\": \\\"Editing\\\", \\\"gender\\\": 0, \\\"id\\\": 1550732, \\\"job\\\": \\\"First Assistant Editor\\\", \\\"name\\\": \\\"Scott Brock\\\"}, {\\\"credit_id\\\": \\\"587bfa2c9251414143008378\\\", \\\"department\\\": \\\"Sound\\\", \\\"gender\\\": 0, \\\"id\\\": 1552027, \\\"job\\\": \\\"Sound Mixer\\\", \\\"name\\\": \\\"Petur Hliddal\\\"}, {\\\"credit_id\\\": \\\"587bf77dc3a36847e8014a02\\\", \\\"department\\\": \\\"Crew\\\", \\\"gender\\\": 0, \\\"id\\\": 1569561, \\\"job\\\": \\\"Loader\\\", \\\"name\\\": \\\"Melanie Banders\\\"}, {\\\"credit_id\\\": \\\"587bf9399251413eec012f7c\\\", \\\"department\\\": \\\"Lighting\\\", \\\"gender\\\": 0, \\\"id\\\": 1574652, \\\"job\\\": \\\"Electrician\\\", \\\"name\\\": \\\"St\\\\u00e9phane Byl\\\"}, {\\\"credit_id\\\": \\\"587bf9b29251413eec012fcd\\\", \\\"department\\\": \\\"Production\\\", \\\"gender\\\": 0, \\\"id\\\": 1574657, \\\"job\\\": \\\"Production Coordinator\\\", \\\"name\\\": \\\"Danielle Boucher\\\"}, {\\\"credit_id\\\": \\\"587bf515c3a3684a9e0128ab\\\", \\\"department\\\": \\\"Art\\\", \\\"gender\\\": 0, \\\"id\\\": 1582392, \\\"job\\\": \\\"Lead Painter\\\", \\\"name\\\": \\\"Leigh-Alexandra Jacob\\\"}, {\\\"credit_id\\\": \\\"587bf961c3a368494c011ce9\\\", \\\"department\\\": \\\"Lighting\\\", \\\"gender\\\": 0, \\\"id\\\": 1585900, \\\"job\\\": \\\"Rigging Grip\\\", \\\"name\\\": \\\"Claude Fortin\\\"}, {\\\"credit_id\\\": \\\"587bf5ef9251413e920133d6\\\", \\\"department\\\": \\\"Camera\\\", \\\"gender\\\": 0, \\\"id\\\": 1599617, \\\"job\\\": \\\"First Assistant Camera\\\", \\\"name\\\": \\\"Jamie Felz\\\"}, {\\\"credit_id\\\": \\\"587bf60e9251413ecb013460\\\", \\\"department\\\": \\\"Camera\\\", \\\"gender\\\": 0, \\\"id\\\": 1599618, \\\"job\\\": \\\"Key Grip\\\", \\\"name\\\": \\\"Herb Ault\\\"}, {\\\"credit_id\\\": \\\"587bf99e9251413e9201357b\\\", \\\"department\\\": \\\"Production\\\", \\\"gender\\\": 0, \\\"id\\\": 1677516, \\\"job\\\": \\\"Production Accountant\\\", \\\"name\\\": \\\"Alison Harstedt\\\"}, {\\\"credit_id\\\": \\\"587bf73ac3a368426e006eb2\\\", \\\"department\\\": \\\"Crew\\\", \\\"gender\\\": 0, \\\"id\\\": 1681352, \\\"job\\\": \\\"Craft Service\\\", \\\"name\\\": \\\"H. Leah Amir\\\"}, {\\\"credit_id\\\": \\\"587bfb2e9251413eec01304f\\\", \\\"department\\\": \\\"Production\\\", \\\"gender\\\": 0, \\\"id\\\": 1684368, \\\"job\\\": \\\"Unit Manager\\\", \\\"name\\\": \\\"Jim Kontos\\\"}, {\\\"credit_id\\\": \\\"587bf8ea9251413e9201352b\\\", \\\"department\\\": \\\"Directing\\\", \\\"gender\\\": 0, \\\"id\\\": 1691209, \\\"job\\\": \\\"Layout\\\", \\\"name\\\": \\\"John Trujillo\\\"}, {\\\"credit_id\\\": \\\"587bf856c3a368426e006f66\\\", \\\"department\\\": \\\"Crew\\\", \\\"gender\\\": 0, \\\"id\\\": 1705131, \\\"job\\\": \\\"Set Medic\\\", \\\"name\\\": \\\"Joe Rystrom\\\"}, {\\\"credit_id\\\": \\\"587bf4dec3a368426e006d90\\\", \\\"department\\\": \\\"Art\\\", \\\"gender\\\": 0, \\\"id\\\": 1739538, \\\"job\\\": \\\"Art Department Assistant\\\", \\\"name\\\": \\\"Genevieve Ferderber\\\"}, {\\\"credit_id\\\": \\\"587bf506c3a3684a4a014cb5\\\", \\\"department\\\": \\\"Art\\\", \\\"gender\\\": 0, \\\"id\\\": 1739539, \\\"job\\\": \\\"Greensman\\\", \\\"name\\\": \\\"Ray L\\\\u00e9gar\\\\u00e9\\\"}, {\\\"credit_id\\\": \\\"587bf53d9251413e9201338a\\\", \\\"department\\\": \\\"Production\\\", \\\"gender\\\": 0, \\\"id\\\": 1739541, \\\"job\\\": \\\"Line Producer\\\", \\\"name\\\": \\\"Annie Godin\\\"}, {\\\"credit_id\\\": \\\"587bf586c3a36849ff011f5c\\\", \\\"department\\\": \\\"Art\\\", \\\"gender\\\": 0, \\\"id\\\": 1739542, \\\"job\\\": \\\"Painter\\\", \\\"name\\\": \\\"Jimmy Garcia\\\"}, {\\\"credit_id\\\": \\\"587bf59c9251414143008168\\\", \\\"department\\\": \\\"Art\\\", \\\"gender\\\": 0, \\\"id\\\": 1739543, \\\"job\\\": \\\"Standby Painter\\\", \\\"name\\\": \\\"Tim Ackers\\\"}, {\\\"credit_id\\\": \\\"587bf770c3a368494c011c17\\\", \\\"department\\\": \\\"Crew\\\", \\\"gender\\\": 1, \\\"id\\\": 1739544, \\\"job\\\": \\\"Driver\\\", \\\"name\\\": \\\"Gina August\\\"}, {\\\"credit_id\\\": \\\"587bf7b39251413e9201348e\\\", \\\"department\\\": \\\"Crew\\\", \\\"gender\\\": 0, \\\"id\\\": 1739545, \\\"job\\\": \\\"Post Production Assistant\\\", \\\"name\\\": \\\"Angela Beresford\\\"}, {\\\"credit_id\\\": \\\"587bf7c5c3a368426e006f11\\\", \\\"department\\\": \\\"Crew\\\", \\\"gender\\\": 0, \\\"id\\\": 1739546, \\\"job\\\": \\\"Production Controller\\\", \\\"name\\\": \\\"Alison Cannon\\\"}, {\\\"credit_id\\\": \\\"587bf8419251413eec012efa\\\", \\\"department\\\": \\\"Crew\\\", \\\"gender\\\": 0, \\\"id\\\": 1739550, \\\"job\\\": \\\"Security\\\", \\\"name\\\": \\\"Michel Leduc\\\"}, {\\\"credit_id\\\": \\\"587bf866c3a36849ff0120b6\\\", \\\"department\\\": \\\"Crew\\\", \\\"gender\\\": 0, \\\"id\\\": 1739551, \\\"job\\\": \\\"Set Production Assistant\\\", \\\"name\\\": \\\"Aaron C. Fitzgerald\\\"}, {\\\"credit_id\\\": \\\"587bf8769251413f46012f18\\\", \\\"department\\\": \\\"Crew\\\", \\\"gender\\\": 0, \\\"id\\\": 1739552, \\\"job\\\": \\\"Software Engineer\\\", \\\"name\\\": \\\"Reuben Pasquini\\\"}, {\\\"credit_id\\\": \\\"587bf9259251413ecb0135ec\\\", \\\"department\\\": \\\"Lighting\\\", \\\"gender\\\": 0, \\\"id\\\": 1739556, \\\"job\\\": \\\"Best Boy Electric\\\", \\\"name\\\": \\\"Christian Bertrand\\\"}, {\\\"credit_id\\\": \\\"587bfadc9251413f46013019\\\", \\\"department\\\": \\\"Crew\\\", \\\"gender\\\": 0, \\\"id\\\": 1739562, \\\"job\\\": \\\"Sequence Leads\\\", \\\"name\\\": \\\"Grady Campbell\\\"}, {\\\"credit_id\\\": \\\"587bfaf79251413ecb0136c5\\\", \\\"department\\\": \\\"Crew\\\", \\\"gender\\\": 0, \\\"id\\\": 1739564, \\\"job\\\": \\\"Studio Teachers\\\", \\\"name\\\": \\\"Jack Stern\\\"}]\",\n          \"[{\\\"credit_id\\\": \\\"561f77189251417f47001122\\\", \\\"department\\\": \\\"Production\\\", \\\"gender\\\": 1, \\\"id\\\": 4023, \\\"job\\\": \\\"Casting\\\", \\\"name\\\": \\\"Suzanne Smith\\\"}, {\\\"credit_id\\\": \\\"561f75e3c3a3680e10002d5e\\\", \\\"department\\\": \\\"Sound\\\", \\\"gender\\\": 2, \\\"id\\\": 1225, \\\"job\\\": \\\"Music\\\", \\\"name\\\": \\\"Carter Burwell\\\"}, {\\\"credit_id\\\": \\\"5910dfa59251414ead035841\\\", \\\"department\\\": \\\"Production\\\", \\\"gender\\\": 1, \\\"id\\\": 1265, \\\"job\\\": \\\"Executive Producer\\\", \\\"name\\\": \\\"Letty Aronson\\\"}, {\\\"credit_id\\\": \\\"52fe45cfc3a368484e07017d\\\", \\\"department\\\": \\\"Writing\\\", \\\"gender\\\": 2, \\\"id\\\": 1255, \\\"job\\\": \\\"Writer\\\", \\\"name\\\": \\\"David Mamet\\\"}, {\\\"credit_id\\\": \\\"52fe45cfc3a368484e070183\\\", \\\"department\\\": \\\"Directing\\\", \\\"gender\\\": 2, \\\"id\\\": 1255, \\\"job\\\": \\\"Director\\\", \\\"name\\\": \\\"David Mamet\\\"}, {\\\"credit_id\\\": \\\"561f770692514171c5002d13\\\", \\\"department\\\": \\\"Production\\\", \\\"gender\\\": 2, \\\"id\\\": 3192, \\\"job\\\": \\\"Casting\\\", \\\"name\\\": \\\"Billy Hopkins\\\"}, {\\\"credit_id\\\": \\\"561f76f492514171cb002b32\\\", \\\"department\\\": \\\"Production\\\", \\\"gender\\\": 2, \\\"id\\\": 5328, \\\"job\\\": \\\"Casting\\\", \\\"name\\\": \\\"Kerry Barden\\\"}, {\\\"credit_id\\\": \\\"561f7735c3a3680e0e002def\\\", \\\"department\\\": \\\"Art\\\", \\\"gender\\\": 2, \\\"id\\\": 12257, \\\"job\\\": \\\"Production Design\\\", \\\"name\\\": \\\"Tim Galvin\\\"}, {\\\"credit_id\\\": \\\"561f75fac3a3680e14002e1e\\\", \\\"department\\\": \\\"Camera\\\", \\\"gender\\\": 2, \\\"id\\\": 10832, \\\"job\\\": \\\"Director of Photography\\\", \\\"name\\\": \\\"Gabriel Beristain\\\"}, {\\\"credit_id\\\": \\\"5910df92c3a36864ec03422c\\\", \\\"department\\\": \\\"Production\\\", \\\"gender\\\": 1, \\\"id\\\": 16398, \\\"job\\\": \\\"Co-Producer\\\", \\\"name\\\": \\\"Sarah Green\\\"}, {\\\"credit_id\\\": \\\"561f7794c3a3680e20002fb1\\\", \\\"department\\\": \\\"Costume & Make-Up\\\", \\\"gender\\\": 1, \\\"id\\\": 20172, \\\"job\\\": \\\"Costume Design\\\", \\\"name\\\": \\\"Susan Lyall\\\"}, {\\\"credit_id\\\": \\\"561f7584c3a3680e19002c11\\\", \\\"department\\\": \\\"Production\\\", \\\"gender\\\": 1, \\\"id\\\": 27562, \\\"job\\\": \\\"Producer\\\", \\\"name\\\": \\\"Jean Doumanian\\\"}, {\\\"credit_id\\\": \\\"52fe45cfc3a368484e070189\\\", \\\"department\\\": \\\"Editing\\\", \\\"gender\\\": 1, \\\"id\\\": 53685, \\\"job\\\": \\\"Editor\\\", \\\"name\\\": \\\"Barbara Tulliver\\\"}, {\\\"credit_id\\\": \\\"5910df9cc3a36864ec034234\\\", \\\"department\\\": \\\"Production\\\", \\\"gender\\\": 2, \\\"id\\\": 67094, \\\"job\\\": \\\"Executive Producer\\\", \\\"name\\\": \\\"J.E. Beaucaire\\\"}, {\\\"credit_id\\\": \\\"561f77819251417f47001151\\\", \\\"department\\\": \\\"Art\\\", \\\"gender\\\": 1, \\\"id\\\": 67095, \\\"job\\\": \\\"Set Decoration\\\", \\\"name\\\": \\\"Jessica Lanier\\\"}, {\\\"credit_id\\\": \\\"561f77e192514171cb002b70\\\", \\\"department\\\": \\\"Directing\\\", \\\"gender\\\": 1, \\\"id\\\": 992965, \\\"job\\\": \\\"Script Supervisor\\\", \\\"name\\\": \\\"Mary Cybulski\\\"}, {\\\"credit_id\\\": \\\"561f7767c3a3680e24002fc0\\\", \\\"department\\\": \\\"Art\\\", \\\"gender\\\": 0, \\\"id\\\": 1522736, \\\"job\\\": \\\"Art Direction\\\", \\\"name\\\": \\\"Kathleen Rosen\\\"}, {\\\"credit_id\\\": \\\"561f77b8c3a3680e160029f0\\\", \\\"department\\\": \\\"Art\\\", \\\"gender\\\": 0, \\\"id\\\": 1522737, \\\"job\\\": \\\"Art Department Coordinator\\\", \\\"name\\\": \\\"Manya Cetlin\\\"}]\"\n        ],\n        \"semantic_type\": \"\",\n        \"description\": \"\"\n      }\n    }\n  ]\n}"
            }
          },
          "metadata": {},
          "execution_count": 7
        }
      ],
      "source": [
        "credits.head(1)"
      ]
    },
    {
      "cell_type": "code",
      "execution_count": 8,
      "metadata": {
        "id": "DdjnzW6VgjoP"
      },
      "outputs": [],
      "source": [
        "movies=movies.merge(credits,on=\"title\")"
      ]
    },
    {
      "cell_type": "code",
      "execution_count": 9,
      "metadata": {
        "colab": {
          "base_uri": "https://localhost:8080/",
          "height": 217
        },
        "id": "2H1WAJFKgvtx",
        "outputId": "7be42c5e-443f-4a57-cd4e-cf6bb2d989f5"
      },
      "outputs": [
        {
          "output_type": "execute_result",
          "data": {
            "text/plain": [
              "      budget                                             genres  \\\n",
              "0  237000000  [{\"id\": 28, \"name\": \"Action\"}, {\"id\": 12, \"nam...   \n",
              "\n",
              "                      homepage     id  \\\n",
              "0  http://www.avatarmovie.com/  19995   \n",
              "\n",
              "                                            keywords original_language  \\\n",
              "0  [{\"id\": 1463, \"name\": \"culture clash\"}, {\"id\":...                en   \n",
              "\n",
              "  original_title                                           overview  \\\n",
              "0         Avatar  In the 22nd century, a paraplegic Marine is di...   \n",
              "\n",
              "   popularity                               production_companies  ... runtime  \\\n",
              "0  150.437577  [{\"name\": \"Ingenious Film Partners\", \"id\": 289...  ...   162.0   \n",
              "\n",
              "                                    spoken_languages    status  \\\n",
              "0  [{\"iso_639_1\": \"en\", \"name\": \"English\"}, {\"iso...  Released   \n",
              "\n",
              "                       tagline   title vote_average vote_count movie_id  \\\n",
              "0  Enter the World of Pandora.  Avatar          7.2      11800    19995   \n",
              "\n",
              "                                                cast  \\\n",
              "0  [{\"cast_id\": 242, \"character\": \"Jake Sully\", \"...   \n",
              "\n",
              "                                                crew  \n",
              "0  [{\"credit_id\": \"52fe48009251416c750aca23\", \"de...  \n",
              "\n",
              "[1 rows x 23 columns]"
            ],
            "text/html": [
              "\n",
              "  <div id=\"df-6a5d0548-f016-4fed-89aa-775f02fe8eb0\" class=\"colab-df-container\">\n",
              "    <div>\n",
              "<style scoped>\n",
              "    .dataframe tbody tr th:only-of-type {\n",
              "        vertical-align: middle;\n",
              "    }\n",
              "\n",
              "    .dataframe tbody tr th {\n",
              "        vertical-align: top;\n",
              "    }\n",
              "\n",
              "    .dataframe thead th {\n",
              "        text-align: right;\n",
              "    }\n",
              "</style>\n",
              "<table border=\"1\" class=\"dataframe\">\n",
              "  <thead>\n",
              "    <tr style=\"text-align: right;\">\n",
              "      <th></th>\n",
              "      <th>budget</th>\n",
              "      <th>genres</th>\n",
              "      <th>homepage</th>\n",
              "      <th>id</th>\n",
              "      <th>keywords</th>\n",
              "      <th>original_language</th>\n",
              "      <th>original_title</th>\n",
              "      <th>overview</th>\n",
              "      <th>popularity</th>\n",
              "      <th>production_companies</th>\n",
              "      <th>...</th>\n",
              "      <th>runtime</th>\n",
              "      <th>spoken_languages</th>\n",
              "      <th>status</th>\n",
              "      <th>tagline</th>\n",
              "      <th>title</th>\n",
              "      <th>vote_average</th>\n",
              "      <th>vote_count</th>\n",
              "      <th>movie_id</th>\n",
              "      <th>cast</th>\n",
              "      <th>crew</th>\n",
              "    </tr>\n",
              "  </thead>\n",
              "  <tbody>\n",
              "    <tr>\n",
              "      <th>0</th>\n",
              "      <td>237000000</td>\n",
              "      <td>[{\"id\": 28, \"name\": \"Action\"}, {\"id\": 12, \"nam...</td>\n",
              "      <td>http://www.avatarmovie.com/</td>\n",
              "      <td>19995</td>\n",
              "      <td>[{\"id\": 1463, \"name\": \"culture clash\"}, {\"id\":...</td>\n",
              "      <td>en</td>\n",
              "      <td>Avatar</td>\n",
              "      <td>In the 22nd century, a paraplegic Marine is di...</td>\n",
              "      <td>150.437577</td>\n",
              "      <td>[{\"name\": \"Ingenious Film Partners\", \"id\": 289...</td>\n",
              "      <td>...</td>\n",
              "      <td>162.0</td>\n",
              "      <td>[{\"iso_639_1\": \"en\", \"name\": \"English\"}, {\"iso...</td>\n",
              "      <td>Released</td>\n",
              "      <td>Enter the World of Pandora.</td>\n",
              "      <td>Avatar</td>\n",
              "      <td>7.2</td>\n",
              "      <td>11800</td>\n",
              "      <td>19995</td>\n",
              "      <td>[{\"cast_id\": 242, \"character\": \"Jake Sully\", \"...</td>\n",
              "      <td>[{\"credit_id\": \"52fe48009251416c750aca23\", \"de...</td>\n",
              "    </tr>\n",
              "  </tbody>\n",
              "</table>\n",
              "<p>1 rows × 23 columns</p>\n",
              "</div>\n",
              "    <div class=\"colab-df-buttons\">\n",
              "\n",
              "  <div class=\"colab-df-container\">\n",
              "    <button class=\"colab-df-convert\" onclick=\"convertToInteractive('df-6a5d0548-f016-4fed-89aa-775f02fe8eb0')\"\n",
              "            title=\"Convert this dataframe to an interactive table.\"\n",
              "            style=\"display:none;\">\n",
              "\n",
              "  <svg xmlns=\"http://www.w3.org/2000/svg\" height=\"24px\" viewBox=\"0 -960 960 960\">\n",
              "    <path d=\"M120-120v-720h720v720H120Zm60-500h600v-160H180v160Zm220 220h160v-160H400v160Zm0 220h160v-160H400v160ZM180-400h160v-160H180v160Zm440 0h160v-160H620v160ZM180-180h160v-160H180v160Zm440 0h160v-160H620v160Z\"/>\n",
              "  </svg>\n",
              "    </button>\n",
              "\n",
              "  <style>\n",
              "    .colab-df-container {\n",
              "      display:flex;\n",
              "      gap: 12px;\n",
              "    }\n",
              "\n",
              "    .colab-df-convert {\n",
              "      background-color: #E8F0FE;\n",
              "      border: none;\n",
              "      border-radius: 50%;\n",
              "      cursor: pointer;\n",
              "      display: none;\n",
              "      fill: #1967D2;\n",
              "      height: 32px;\n",
              "      padding: 0 0 0 0;\n",
              "      width: 32px;\n",
              "    }\n",
              "\n",
              "    .colab-df-convert:hover {\n",
              "      background-color: #E2EBFA;\n",
              "      box-shadow: 0px 1px 2px rgba(60, 64, 67, 0.3), 0px 1px 3px 1px rgba(60, 64, 67, 0.15);\n",
              "      fill: #174EA6;\n",
              "    }\n",
              "\n",
              "    .colab-df-buttons div {\n",
              "      margin-bottom: 4px;\n",
              "    }\n",
              "\n",
              "    [theme=dark] .colab-df-convert {\n",
              "      background-color: #3B4455;\n",
              "      fill: #D2E3FC;\n",
              "    }\n",
              "\n",
              "    [theme=dark] .colab-df-convert:hover {\n",
              "      background-color: #434B5C;\n",
              "      box-shadow: 0px 1px 3px 1px rgba(0, 0, 0, 0.15);\n",
              "      filter: drop-shadow(0px 1px 2px rgba(0, 0, 0, 0.3));\n",
              "      fill: #FFFFFF;\n",
              "    }\n",
              "  </style>\n",
              "\n",
              "    <script>\n",
              "      const buttonEl =\n",
              "        document.querySelector('#df-6a5d0548-f016-4fed-89aa-775f02fe8eb0 button.colab-df-convert');\n",
              "      buttonEl.style.display =\n",
              "        google.colab.kernel.accessAllowed ? 'block' : 'none';\n",
              "\n",
              "      async function convertToInteractive(key) {\n",
              "        const element = document.querySelector('#df-6a5d0548-f016-4fed-89aa-775f02fe8eb0');\n",
              "        const dataTable =\n",
              "          await google.colab.kernel.invokeFunction('convertToInteractive',\n",
              "                                                    [key], {});\n",
              "        if (!dataTable) return;\n",
              "\n",
              "        const docLinkHtml = 'Like what you see? Visit the ' +\n",
              "          '<a target=\"_blank\" href=https://colab.research.google.com/notebooks/data_table.ipynb>data table notebook</a>'\n",
              "          + ' to learn more about interactive tables.';\n",
              "        element.innerHTML = '';\n",
              "        dataTable['output_type'] = 'display_data';\n",
              "        await google.colab.output.renderOutput(dataTable, element);\n",
              "        const docLink = document.createElement('div');\n",
              "        docLink.innerHTML = docLinkHtml;\n",
              "        element.appendChild(docLink);\n",
              "      }\n",
              "    </script>\n",
              "  </div>\n",
              "\n",
              "\n",
              "    </div>\n",
              "  </div>\n"
            ],
            "application/vnd.google.colaboratory.intrinsic+json": {
              "type": "dataframe",
              "variable_name": "movies"
            }
          },
          "metadata": {},
          "execution_count": 9
        }
      ],
      "source": [
        "movies.head(1)"
      ]
    },
    {
      "cell_type": "code",
      "execution_count": 10,
      "metadata": {
        "colab": {
          "base_uri": "https://localhost:8080/"
        },
        "id": "L7OMppWVg1ff",
        "outputId": "160e98ef-8899-4398-fa6c-d8ae3694f2c8"
      },
      "outputs": [
        {
          "output_type": "stream",
          "name": "stdout",
          "text": [
            "<class 'pandas.core.frame.DataFrame'>\n",
            "RangeIndex: 846 entries, 0 to 845\n",
            "Data columns (total 23 columns):\n",
            " #   Column                Non-Null Count  Dtype  \n",
            "---  ------                --------------  -----  \n",
            " 0   budget                846 non-null    int64  \n",
            " 1   genres                846 non-null    object \n",
            " 2   homepage              466 non-null    object \n",
            " 3   id                    846 non-null    int64  \n",
            " 4   keywords              846 non-null    object \n",
            " 5   original_language     846 non-null    object \n",
            " 6   original_title        846 non-null    object \n",
            " 7   overview              846 non-null    object \n",
            " 8   popularity            846 non-null    float64\n",
            " 9   production_companies  846 non-null    object \n",
            " 10  production_countries  846 non-null    object \n",
            " 11  release_date          846 non-null    object \n",
            " 12  revenue               846 non-null    int64  \n",
            " 13  runtime               846 non-null    float64\n",
            " 14  spoken_languages      846 non-null    object \n",
            " 15  status                846 non-null    object \n",
            " 16  tagline               817 non-null    object \n",
            " 17  title                 846 non-null    object \n",
            " 18  vote_average          846 non-null    float64\n",
            " 19  vote_count            846 non-null    int64  \n",
            " 20  movie_id              846 non-null    int64  \n",
            " 21  cast                  846 non-null    object \n",
            " 22  crew                  846 non-null    object \n",
            "dtypes: float64(3), int64(5), object(15)\n",
            "memory usage: 152.1+ KB\n"
          ]
        }
      ],
      "source": [
        "movies.info()"
      ]
    },
    {
      "cell_type": "code",
      "execution_count": 11,
      "metadata": {
        "id": "qMqjKE9ng5Db"
      },
      "outputs": [],
      "source": [
        "movies=movies[['movie_id','title','overview','genres','keywords','cast','crew']]"
      ]
    },
    {
      "cell_type": "code",
      "execution_count": 12,
      "metadata": {
        "colab": {
          "base_uri": "https://localhost:8080/"
        },
        "id": "MQ2BwG_qg_qO",
        "outputId": "339bbbe0-10ff-4ef5-86f9-a88fb34abb89"
      },
      "outputs": [
        {
          "output_type": "stream",
          "name": "stdout",
          "text": [
            "<class 'pandas.core.frame.DataFrame'>\n",
            "RangeIndex: 846 entries, 0 to 845\n",
            "Data columns (total 7 columns):\n",
            " #   Column    Non-Null Count  Dtype \n",
            "---  ------    --------------  ----- \n",
            " 0   movie_id  846 non-null    int64 \n",
            " 1   title     846 non-null    object\n",
            " 2   overview  846 non-null    object\n",
            " 3   genres    846 non-null    object\n",
            " 4   keywords  846 non-null    object\n",
            " 5   cast      846 non-null    object\n",
            " 6   crew      846 non-null    object\n",
            "dtypes: int64(1), object(6)\n",
            "memory usage: 46.4+ KB\n"
          ]
        }
      ],
      "source": [
        "movies.info()"
      ]
    },
    {
      "cell_type": "code",
      "execution_count": 13,
      "metadata": {
        "colab": {
          "base_uri": "https://localhost:8080/",
          "height": 303
        },
        "id": "iFuXsa8ChDSc",
        "outputId": "83390d2f-168b-4b38-f844-0deee5369ffa"
      },
      "outputs": [
        {
          "output_type": "execute_result",
          "data": {
            "text/plain": [
              "movie_id    0\n",
              "title       0\n",
              "overview    0\n",
              "genres      0\n",
              "keywords    0\n",
              "cast        0\n",
              "crew        0\n",
              "dtype: int64"
            ],
            "text/html": [
              "<div>\n",
              "<style scoped>\n",
              "    .dataframe tbody tr th:only-of-type {\n",
              "        vertical-align: middle;\n",
              "    }\n",
              "\n",
              "    .dataframe tbody tr th {\n",
              "        vertical-align: top;\n",
              "    }\n",
              "\n",
              "    .dataframe thead th {\n",
              "        text-align: right;\n",
              "    }\n",
              "</style>\n",
              "<table border=\"1\" class=\"dataframe\">\n",
              "  <thead>\n",
              "    <tr style=\"text-align: right;\">\n",
              "      <th></th>\n",
              "      <th>0</th>\n",
              "    </tr>\n",
              "  </thead>\n",
              "  <tbody>\n",
              "    <tr>\n",
              "      <th>movie_id</th>\n",
              "      <td>0</td>\n",
              "    </tr>\n",
              "    <tr>\n",
              "      <th>title</th>\n",
              "      <td>0</td>\n",
              "    </tr>\n",
              "    <tr>\n",
              "      <th>overview</th>\n",
              "      <td>0</td>\n",
              "    </tr>\n",
              "    <tr>\n",
              "      <th>genres</th>\n",
              "      <td>0</td>\n",
              "    </tr>\n",
              "    <tr>\n",
              "      <th>keywords</th>\n",
              "      <td>0</td>\n",
              "    </tr>\n",
              "    <tr>\n",
              "      <th>cast</th>\n",
              "      <td>0</td>\n",
              "    </tr>\n",
              "    <tr>\n",
              "      <th>crew</th>\n",
              "      <td>0</td>\n",
              "    </tr>\n",
              "  </tbody>\n",
              "</table>\n",
              "</div><br><label><b>dtype:</b> int64</label>"
            ]
          },
          "metadata": {},
          "execution_count": 13
        }
      ],
      "source": [
        "movies.isnull().sum()"
      ]
    },
    {
      "cell_type": "code",
      "execution_count": 14,
      "metadata": {
        "colab": {
          "base_uri": "https://localhost:8080/"
        },
        "id": "wEqyEuv2hJx_",
        "outputId": "5e5f9a27-951a-4f22-feb2-86bb55252e0e"
      },
      "outputs": [
        {
          "output_type": "stream",
          "name": "stderr",
          "text": [
            "<ipython-input-14-4d2d825739df>:1: SettingWithCopyWarning: \n",
            "A value is trying to be set on a copy of a slice from a DataFrame\n",
            "\n",
            "See the caveats in the documentation: https://pandas.pydata.org/pandas-docs/stable/user_guide/indexing.html#returning-a-view-versus-a-copy\n",
            "  movies.dropna(inplace=True)\n"
          ]
        }
      ],
      "source": [
        "movies.dropna(inplace=True)"
      ]
    },
    {
      "cell_type": "code",
      "execution_count": 15,
      "metadata": {
        "colab": {
          "base_uri": "https://localhost:8080/"
        },
        "id": "6TnodwLohPGo",
        "outputId": "e9468c17-76c4-40d4-9c44-17242c0637df"
      },
      "outputs": [
        {
          "output_type": "execute_result",
          "data": {
            "text/plain": [
              "0"
            ]
          },
          "metadata": {},
          "execution_count": 15
        }
      ],
      "source": [
        "movies.duplicated().sum()"
      ]
    },
    {
      "cell_type": "code",
      "execution_count": 16,
      "metadata": {
        "id": "ewb_xdFqhTjo"
      },
      "outputs": [],
      "source": [
        "import ast\n",
        "def convert(obj):\n",
        "  l=[]\n",
        "  for i in ast.literal_eval(obj):\n",
        "    l.append(i[\"name\"])\n",
        "  return l"
      ]
    },
    {
      "cell_type": "code",
      "execution_count": 17,
      "metadata": {
        "id": "rnjnEkUChhsu"
      },
      "outputs": [],
      "source": [
        "movies[\"genres\"]=movies[\"genres\"].apply(convert)"
      ]
    },
    {
      "cell_type": "code",
      "execution_count": 18,
      "metadata": {
        "colab": {
          "base_uri": "https://localhost:8080/"
        },
        "id": "Bn7v7mhiiBRR",
        "outputId": "00a086ca-6736-4257-8c36-7cd5071d3899"
      },
      "outputs": [
        {
          "output_type": "execute_result",
          "data": {
            "text/plain": [
              "['Action', 'Adventure', 'Fantasy', 'Science Fiction']"
            ]
          },
          "metadata": {},
          "execution_count": 18
        }
      ],
      "source": [
        "movies[\"genres\"][0]"
      ]
    },
    {
      "cell_type": "code",
      "execution_count": 19,
      "metadata": {
        "id": "acKvNUH0iUGR"
      },
      "outputs": [],
      "source": [
        "movies[\"keywords\"]=movies[\"keywords\"].apply(convert)"
      ]
    },
    {
      "cell_type": "code",
      "execution_count": 20,
      "metadata": {
        "colab": {
          "base_uri": "https://localhost:8080/"
        },
        "id": "PHo_qj1XiZ3L",
        "outputId": "ca59473f-dcf0-4446-c39a-3baf683653f3"
      },
      "outputs": [
        {
          "output_type": "execute_result",
          "data": {
            "text/plain": [
              "['culture clash',\n",
              " 'future',\n",
              " 'space war',\n",
              " 'space colony',\n",
              " 'society',\n",
              " 'space travel',\n",
              " 'futuristic',\n",
              " 'romance',\n",
              " 'space',\n",
              " 'alien',\n",
              " 'tribe',\n",
              " 'alien planet',\n",
              " 'cgi',\n",
              " 'marine',\n",
              " 'soldier',\n",
              " 'battle',\n",
              " 'love affair',\n",
              " 'anti war',\n",
              " 'power relations',\n",
              " 'mind and soul',\n",
              " '3d']"
            ]
          },
          "metadata": {},
          "execution_count": 20
        }
      ],
      "source": [
        "movies[\"keywords\"][0]"
      ]
    },
    {
      "cell_type": "code",
      "execution_count": 21,
      "metadata": {
        "id": "c24jpnMkivem"
      },
      "outputs": [],
      "source": [
        "import ast\n",
        "def convert3(obj):\n",
        "  l=[]\n",
        "  count=0\n",
        "  for i in ast.literal_eval(obj):\n",
        "    if count<3:\n",
        "      l.append(i[\"name\"])\n",
        "      count+=1\n",
        "    else:\n",
        "      break\n",
        "  return l\n"
      ]
    },
    {
      "cell_type": "code",
      "execution_count": 22,
      "metadata": {
        "id": "uFT5HXkwjsev"
      },
      "outputs": [],
      "source": [
        "movies[\"cast\"]=movies[\"cast\"].apply(convert3)"
      ]
    },
    {
      "cell_type": "code",
      "execution_count": 23,
      "metadata": {
        "colab": {
          "base_uri": "https://localhost:8080/"
        },
        "id": "znx0uUS7kPL-",
        "outputId": "fd961c1d-41bc-42e7-ebc5-cf5553a5147e"
      },
      "outputs": [
        {
          "output_type": "execute_result",
          "data": {
            "text/plain": [
              "['Sam Worthington', 'Zoe Saldana', 'Sigourney Weaver']"
            ]
          },
          "metadata": {},
          "execution_count": 23
        }
      ],
      "source": [
        "movies[\"cast\"][0]"
      ]
    },
    {
      "cell_type": "code",
      "execution_count": 24,
      "metadata": {
        "id": "ktq5jdj0k9GF"
      },
      "outputs": [],
      "source": [
        "import ast\n",
        "def convert4(obj):\n",
        "  l=[]\n",
        "  for i in ast.literal_eval(obj):\n",
        "    if i[\"job\"]==\"Director\":\n",
        "      l.append(i[\"name\"])\n",
        "      break\n",
        "  return l"
      ]
    },
    {
      "cell_type": "code",
      "execution_count": 25,
      "metadata": {
        "id": "5aHyK4DTlbxg"
      },
      "outputs": [],
      "source": [
        "movies[\"crew\"]=movies[\"crew\"].apply(convert4)"
      ]
    },
    {
      "cell_type": "code",
      "execution_count": 26,
      "metadata": {
        "colab": {
          "base_uri": "https://localhost:8080/"
        },
        "id": "3wJMteexltGY",
        "outputId": "608ea8a6-97db-47b5-bad1-59aaa37c3b6d"
      },
      "outputs": [
        {
          "output_type": "execute_result",
          "data": {
            "text/plain": [
              "['James Cameron']"
            ]
          },
          "metadata": {},
          "execution_count": 26
        }
      ],
      "source": [
        "movies[\"crew\"][0]"
      ]
    },
    {
      "cell_type": "code",
      "execution_count": 27,
      "metadata": {
        "colab": {
          "base_uri": "https://localhost:8080/",
          "height": 466
        },
        "id": "qJE0zsrll6VL",
        "outputId": "ebd2b6f5-34f0-43f4-f6ad-ed7f9d64276b"
      },
      "outputs": [
        {
          "output_type": "execute_result",
          "data": {
            "text/plain": [
              "   movie_id                                     title  \\\n",
              "0     19995                                    Avatar   \n",
              "1       285  Pirates of the Caribbean: At World's End   \n",
              "2    206647                                   Spectre   \n",
              "3     49026                     The Dark Knight Rises   \n",
              "4     49529                               John Carter   \n",
              "\n",
              "                                            overview  \\\n",
              "0  In the 22nd century, a paraplegic Marine is di...   \n",
              "1  Captain Barbossa, long believed to be dead, ha...   \n",
              "2  A cryptic message from Bond’s past sends him o...   \n",
              "3  Following the death of District Attorney Harve...   \n",
              "4  John Carter is a war-weary, former military ca...   \n",
              "\n",
              "                                          genres  \\\n",
              "0  [Action, Adventure, Fantasy, Science Fiction]   \n",
              "1                   [Adventure, Fantasy, Action]   \n",
              "2                     [Action, Adventure, Crime]   \n",
              "3               [Action, Crime, Drama, Thriller]   \n",
              "4           [Action, Adventure, Science Fiction]   \n",
              "\n",
              "                                            keywords  \\\n",
              "0  [culture clash, future, space war, space colon...   \n",
              "1  [ocean, drug abuse, exotic island, east india ...   \n",
              "2  [spy, based on novel, secret agent, sequel, mi...   \n",
              "3  [dc comics, crime fighter, terrorist, secret i...   \n",
              "4  [based on novel, mars, medallion, space travel...   \n",
              "\n",
              "                                               cast                 crew  \n",
              "0  [Sam Worthington, Zoe Saldana, Sigourney Weaver]      [James Cameron]  \n",
              "1     [Johnny Depp, Orlando Bloom, Keira Knightley]     [Gore Verbinski]  \n",
              "2      [Daniel Craig, Christoph Waltz, Léa Seydoux]         [Sam Mendes]  \n",
              "3      [Christian Bale, Michael Caine, Gary Oldman]  [Christopher Nolan]  \n",
              "4    [Taylor Kitsch, Lynn Collins, Samantha Morton]     [Andrew Stanton]  "
            ],
            "text/html": [
              "\n",
              "  <div id=\"df-e836ee3e-6a04-4e85-b5fb-82f1bf80a300\" class=\"colab-df-container\">\n",
              "    <div>\n",
              "<style scoped>\n",
              "    .dataframe tbody tr th:only-of-type {\n",
              "        vertical-align: middle;\n",
              "    }\n",
              "\n",
              "    .dataframe tbody tr th {\n",
              "        vertical-align: top;\n",
              "    }\n",
              "\n",
              "    .dataframe thead th {\n",
              "        text-align: right;\n",
              "    }\n",
              "</style>\n",
              "<table border=\"1\" class=\"dataframe\">\n",
              "  <thead>\n",
              "    <tr style=\"text-align: right;\">\n",
              "      <th></th>\n",
              "      <th>movie_id</th>\n",
              "      <th>title</th>\n",
              "      <th>overview</th>\n",
              "      <th>genres</th>\n",
              "      <th>keywords</th>\n",
              "      <th>cast</th>\n",
              "      <th>crew</th>\n",
              "    </tr>\n",
              "  </thead>\n",
              "  <tbody>\n",
              "    <tr>\n",
              "      <th>0</th>\n",
              "      <td>19995</td>\n",
              "      <td>Avatar</td>\n",
              "      <td>In the 22nd century, a paraplegic Marine is di...</td>\n",
              "      <td>[Action, Adventure, Fantasy, Science Fiction]</td>\n",
              "      <td>[culture clash, future, space war, space colon...</td>\n",
              "      <td>[Sam Worthington, Zoe Saldana, Sigourney Weaver]</td>\n",
              "      <td>[James Cameron]</td>\n",
              "    </tr>\n",
              "    <tr>\n",
              "      <th>1</th>\n",
              "      <td>285</td>\n",
              "      <td>Pirates of the Caribbean: At World's End</td>\n",
              "      <td>Captain Barbossa, long believed to be dead, ha...</td>\n",
              "      <td>[Adventure, Fantasy, Action]</td>\n",
              "      <td>[ocean, drug abuse, exotic island, east india ...</td>\n",
              "      <td>[Johnny Depp, Orlando Bloom, Keira Knightley]</td>\n",
              "      <td>[Gore Verbinski]</td>\n",
              "    </tr>\n",
              "    <tr>\n",
              "      <th>2</th>\n",
              "      <td>206647</td>\n",
              "      <td>Spectre</td>\n",
              "      <td>A cryptic message from Bond’s past sends him o...</td>\n",
              "      <td>[Action, Adventure, Crime]</td>\n",
              "      <td>[spy, based on novel, secret agent, sequel, mi...</td>\n",
              "      <td>[Daniel Craig, Christoph Waltz, Léa Seydoux]</td>\n",
              "      <td>[Sam Mendes]</td>\n",
              "    </tr>\n",
              "    <tr>\n",
              "      <th>3</th>\n",
              "      <td>49026</td>\n",
              "      <td>The Dark Knight Rises</td>\n",
              "      <td>Following the death of District Attorney Harve...</td>\n",
              "      <td>[Action, Crime, Drama, Thriller]</td>\n",
              "      <td>[dc comics, crime fighter, terrorist, secret i...</td>\n",
              "      <td>[Christian Bale, Michael Caine, Gary Oldman]</td>\n",
              "      <td>[Christopher Nolan]</td>\n",
              "    </tr>\n",
              "    <tr>\n",
              "      <th>4</th>\n",
              "      <td>49529</td>\n",
              "      <td>John Carter</td>\n",
              "      <td>John Carter is a war-weary, former military ca...</td>\n",
              "      <td>[Action, Adventure, Science Fiction]</td>\n",
              "      <td>[based on novel, mars, medallion, space travel...</td>\n",
              "      <td>[Taylor Kitsch, Lynn Collins, Samantha Morton]</td>\n",
              "      <td>[Andrew Stanton]</td>\n",
              "    </tr>\n",
              "  </tbody>\n",
              "</table>\n",
              "</div>\n",
              "    <div class=\"colab-df-buttons\">\n",
              "\n",
              "  <div class=\"colab-df-container\">\n",
              "    <button class=\"colab-df-convert\" onclick=\"convertToInteractive('df-e836ee3e-6a04-4e85-b5fb-82f1bf80a300')\"\n",
              "            title=\"Convert this dataframe to an interactive table.\"\n",
              "            style=\"display:none;\">\n",
              "\n",
              "  <svg xmlns=\"http://www.w3.org/2000/svg\" height=\"24px\" viewBox=\"0 -960 960 960\">\n",
              "    <path d=\"M120-120v-720h720v720H120Zm60-500h600v-160H180v160Zm220 220h160v-160H400v160Zm0 220h160v-160H400v160ZM180-400h160v-160H180v160Zm440 0h160v-160H620v160ZM180-180h160v-160H180v160Zm440 0h160v-160H620v160Z\"/>\n",
              "  </svg>\n",
              "    </button>\n",
              "\n",
              "  <style>\n",
              "    .colab-df-container {\n",
              "      display:flex;\n",
              "      gap: 12px;\n",
              "    }\n",
              "\n",
              "    .colab-df-convert {\n",
              "      background-color: #E8F0FE;\n",
              "      border: none;\n",
              "      border-radius: 50%;\n",
              "      cursor: pointer;\n",
              "      display: none;\n",
              "      fill: #1967D2;\n",
              "      height: 32px;\n",
              "      padding: 0 0 0 0;\n",
              "      width: 32px;\n",
              "    }\n",
              "\n",
              "    .colab-df-convert:hover {\n",
              "      background-color: #E2EBFA;\n",
              "      box-shadow: 0px 1px 2px rgba(60, 64, 67, 0.3), 0px 1px 3px 1px rgba(60, 64, 67, 0.15);\n",
              "      fill: #174EA6;\n",
              "    }\n",
              "\n",
              "    .colab-df-buttons div {\n",
              "      margin-bottom: 4px;\n",
              "    }\n",
              "\n",
              "    [theme=dark] .colab-df-convert {\n",
              "      background-color: #3B4455;\n",
              "      fill: #D2E3FC;\n",
              "    }\n",
              "\n",
              "    [theme=dark] .colab-df-convert:hover {\n",
              "      background-color: #434B5C;\n",
              "      box-shadow: 0px 1px 3px 1px rgba(0, 0, 0, 0.15);\n",
              "      filter: drop-shadow(0px 1px 2px rgba(0, 0, 0, 0.3));\n",
              "      fill: #FFFFFF;\n",
              "    }\n",
              "  </style>\n",
              "\n",
              "    <script>\n",
              "      const buttonEl =\n",
              "        document.querySelector('#df-e836ee3e-6a04-4e85-b5fb-82f1bf80a300 button.colab-df-convert');\n",
              "      buttonEl.style.display =\n",
              "        google.colab.kernel.accessAllowed ? 'block' : 'none';\n",
              "\n",
              "      async function convertToInteractive(key) {\n",
              "        const element = document.querySelector('#df-e836ee3e-6a04-4e85-b5fb-82f1bf80a300');\n",
              "        const dataTable =\n",
              "          await google.colab.kernel.invokeFunction('convertToInteractive',\n",
              "                                                    [key], {});\n",
              "        if (!dataTable) return;\n",
              "\n",
              "        const docLinkHtml = 'Like what you see? Visit the ' +\n",
              "          '<a target=\"_blank\" href=https://colab.research.google.com/notebooks/data_table.ipynb>data table notebook</a>'\n",
              "          + ' to learn more about interactive tables.';\n",
              "        element.innerHTML = '';\n",
              "        dataTable['output_type'] = 'display_data';\n",
              "        await google.colab.output.renderOutput(dataTable, element);\n",
              "        const docLink = document.createElement('div');\n",
              "        docLink.innerHTML = docLinkHtml;\n",
              "        element.appendChild(docLink);\n",
              "      }\n",
              "    </script>\n",
              "  </div>\n",
              "\n",
              "\n",
              "<div id=\"df-8b4b39ef-ef14-4b08-b629-5aaabb234bc7\">\n",
              "  <button class=\"colab-df-quickchart\" onclick=\"quickchart('df-8b4b39ef-ef14-4b08-b629-5aaabb234bc7')\"\n",
              "            title=\"Suggest charts\"\n",
              "            style=\"display:none;\">\n",
              "\n",
              "<svg xmlns=\"http://www.w3.org/2000/svg\" height=\"24px\"viewBox=\"0 0 24 24\"\n",
              "     width=\"24px\">\n",
              "    <g>\n",
              "        <path d=\"M19 3H5c-1.1 0-2 .9-2 2v14c0 1.1.9 2 2 2h14c1.1 0 2-.9 2-2V5c0-1.1-.9-2-2-2zM9 17H7v-7h2v7zm4 0h-2V7h2v10zm4 0h-2v-4h2v4z\"/>\n",
              "    </g>\n",
              "</svg>\n",
              "  </button>\n",
              "\n",
              "<style>\n",
              "  .colab-df-quickchart {\n",
              "      --bg-color: #E8F0FE;\n",
              "      --fill-color: #1967D2;\n",
              "      --hover-bg-color: #E2EBFA;\n",
              "      --hover-fill-color: #174EA6;\n",
              "      --disabled-fill-color: #AAA;\n",
              "      --disabled-bg-color: #DDD;\n",
              "  }\n",
              "\n",
              "  [theme=dark] .colab-df-quickchart {\n",
              "      --bg-color: #3B4455;\n",
              "      --fill-color: #D2E3FC;\n",
              "      --hover-bg-color: #434B5C;\n",
              "      --hover-fill-color: #FFFFFF;\n",
              "      --disabled-bg-color: #3B4455;\n",
              "      --disabled-fill-color: #666;\n",
              "  }\n",
              "\n",
              "  .colab-df-quickchart {\n",
              "    background-color: var(--bg-color);\n",
              "    border: none;\n",
              "    border-radius: 50%;\n",
              "    cursor: pointer;\n",
              "    display: none;\n",
              "    fill: var(--fill-color);\n",
              "    height: 32px;\n",
              "    padding: 0;\n",
              "    width: 32px;\n",
              "  }\n",
              "\n",
              "  .colab-df-quickchart:hover {\n",
              "    background-color: var(--hover-bg-color);\n",
              "    box-shadow: 0 1px 2px rgba(60, 64, 67, 0.3), 0 1px 3px 1px rgba(60, 64, 67, 0.15);\n",
              "    fill: var(--button-hover-fill-color);\n",
              "  }\n",
              "\n",
              "  .colab-df-quickchart-complete:disabled,\n",
              "  .colab-df-quickchart-complete:disabled:hover {\n",
              "    background-color: var(--disabled-bg-color);\n",
              "    fill: var(--disabled-fill-color);\n",
              "    box-shadow: none;\n",
              "  }\n",
              "\n",
              "  .colab-df-spinner {\n",
              "    border: 2px solid var(--fill-color);\n",
              "    border-color: transparent;\n",
              "    border-bottom-color: var(--fill-color);\n",
              "    animation:\n",
              "      spin 1s steps(1) infinite;\n",
              "  }\n",
              "\n",
              "  @keyframes spin {\n",
              "    0% {\n",
              "      border-color: transparent;\n",
              "      border-bottom-color: var(--fill-color);\n",
              "      border-left-color: var(--fill-color);\n",
              "    }\n",
              "    20% {\n",
              "      border-color: transparent;\n",
              "      border-left-color: var(--fill-color);\n",
              "      border-top-color: var(--fill-color);\n",
              "    }\n",
              "    30% {\n",
              "      border-color: transparent;\n",
              "      border-left-color: var(--fill-color);\n",
              "      border-top-color: var(--fill-color);\n",
              "      border-right-color: var(--fill-color);\n",
              "    }\n",
              "    40% {\n",
              "      border-color: transparent;\n",
              "      border-right-color: var(--fill-color);\n",
              "      border-top-color: var(--fill-color);\n",
              "    }\n",
              "    60% {\n",
              "      border-color: transparent;\n",
              "      border-right-color: var(--fill-color);\n",
              "    }\n",
              "    80% {\n",
              "      border-color: transparent;\n",
              "      border-right-color: var(--fill-color);\n",
              "      border-bottom-color: var(--fill-color);\n",
              "    }\n",
              "    90% {\n",
              "      border-color: transparent;\n",
              "      border-bottom-color: var(--fill-color);\n",
              "    }\n",
              "  }\n",
              "</style>\n",
              "\n",
              "  <script>\n",
              "    async function quickchart(key) {\n",
              "      const quickchartButtonEl =\n",
              "        document.querySelector('#' + key + ' button');\n",
              "      quickchartButtonEl.disabled = true;  // To prevent multiple clicks.\n",
              "      quickchartButtonEl.classList.add('colab-df-spinner');\n",
              "      try {\n",
              "        const charts = await google.colab.kernel.invokeFunction(\n",
              "            'suggestCharts', [key], {});\n",
              "      } catch (error) {\n",
              "        console.error('Error during call to suggestCharts:', error);\n",
              "      }\n",
              "      quickchartButtonEl.classList.remove('colab-df-spinner');\n",
              "      quickchartButtonEl.classList.add('colab-df-quickchart-complete');\n",
              "    }\n",
              "    (() => {\n",
              "      let quickchartButtonEl =\n",
              "        document.querySelector('#df-8b4b39ef-ef14-4b08-b629-5aaabb234bc7 button');\n",
              "      quickchartButtonEl.style.display =\n",
              "        google.colab.kernel.accessAllowed ? 'block' : 'none';\n",
              "    })();\n",
              "  </script>\n",
              "</div>\n",
              "\n",
              "    </div>\n",
              "  </div>\n"
            ],
            "application/vnd.google.colaboratory.intrinsic+json": {
              "type": "dataframe",
              "variable_name": "movies",
              "summary": "{\n  \"name\": \"movies\",\n  \"rows\": 846,\n  \"fields\": [\n    {\n      \"column\": \"movie_id\",\n      \"properties\": {\n        \"dtype\": \"number\",\n        \"std\": 72055,\n        \"min\": 12,\n        \"max\": 417859,\n        \"num_unique_values\": 846,\n        \"samples\": [\n          20526,\n          2567,\n          29193\n        ],\n        \"semantic_type\": \"\",\n        \"description\": \"\"\n      }\n    },\n    {\n      \"column\": \"title\",\n      \"properties\": {\n        \"dtype\": \"string\",\n        \"num_unique_values\": 846,\n        \"samples\": [\n          \"TRON: Legacy\",\n          \"The Aviator\",\n          \"The Spanish Prisoner\"\n        ],\n        \"semantic_type\": \"\",\n        \"description\": \"\"\n      }\n    },\n    {\n      \"column\": \"overview\",\n      \"properties\": {\n        \"dtype\": \"string\",\n        \"num_unique_values\": 846,\n        \"samples\": [\n          \"Sam Flynn, the tech-savvy and daring son of Kevin Flynn, investigates his father's disappearance and is pulled into The Grid. With the help of a mysterious program named Quorra, Sam quests to stop evil dictator Clu from crossing into the real world.\",\n          \"A biopic depicting the life of filmmaker and aviation pioneer Howard Hughes from 1927 to 1947, during which time he became a successful film producer and an aviation magnate, while simultaneously growing more unstable due to severe obsessive-compulsive disorder.\",\n          \"An employee of a corporation with a lucrative secret process is tempted to betray it. But there's more to it than that.\"\n        ],\n        \"semantic_type\": \"\",\n        \"description\": \"\"\n      }\n    },\n    {\n      \"column\": \"genres\",\n      \"properties\": {\n        \"dtype\": \"object\",\n        \"semantic_type\": \"\",\n        \"description\": \"\"\n      }\n    },\n    {\n      \"column\": \"keywords\",\n      \"properties\": {\n        \"dtype\": \"object\",\n        \"semantic_type\": \"\",\n        \"description\": \"\"\n      }\n    },\n    {\n      \"column\": \"cast\",\n      \"properties\": {\n        \"dtype\": \"object\",\n        \"semantic_type\": \"\",\n        \"description\": \"\"\n      }\n    },\n    {\n      \"column\": \"crew\",\n      \"properties\": {\n        \"dtype\": \"object\",\n        \"semantic_type\": \"\",\n        \"description\": \"\"\n      }\n    }\n  ]\n}"
            }
          },
          "metadata": {},
          "execution_count": 27
        }
      ],
      "source": [
        "movies.head()"
      ]
    },
    {
      "cell_type": "code",
      "execution_count": 28,
      "metadata": {
        "id": "lIRCoGlOnoDK"
      },
      "outputs": [],
      "source": [
        "movies[\"overview\"]=movies[\"overview\"].apply(lambda x:x.split())"
      ]
    },
    {
      "cell_type": "code",
      "execution_count": 29,
      "metadata": {
        "colab": {
          "base_uri": "https://localhost:8080/"
        },
        "id": "eAMSyvNJobie",
        "outputId": "30f19b37-f41f-4015-c8e7-ec7791f2144e"
      },
      "outputs": [
        {
          "output_type": "execute_result",
          "data": {
            "text/plain": [
              "['In',\n",
              " 'the',\n",
              " '22nd',\n",
              " 'century,',\n",
              " 'a',\n",
              " 'paraplegic',\n",
              " 'Marine',\n",
              " 'is',\n",
              " 'dispatched',\n",
              " 'to',\n",
              " 'the',\n",
              " 'moon',\n",
              " 'Pandora',\n",
              " 'on',\n",
              " 'a',\n",
              " 'unique',\n",
              " 'mission,',\n",
              " 'but',\n",
              " 'becomes',\n",
              " 'torn',\n",
              " 'between',\n",
              " 'following',\n",
              " 'orders',\n",
              " 'and',\n",
              " 'protecting',\n",
              " 'an',\n",
              " 'alien',\n",
              " 'civilization.']"
            ]
          },
          "metadata": {},
          "execution_count": 29
        }
      ],
      "source": [
        "movies[\"overview\"][0]"
      ]
    },
    {
      "cell_type": "code",
      "execution_count": 30,
      "metadata": {
        "id": "ktiR7sDAohGu"
      },
      "outputs": [],
      "source": [
        "movies[\"genres\"]=movies[\"genres\"].apply(lambda x: [i.replace(\" \",\"\") for i in x])\n"
      ]
    },
    {
      "cell_type": "code",
      "execution_count": 31,
      "metadata": {
        "colab": {
          "base_uri": "https://localhost:8080/"
        },
        "id": "uIK8t3N-s3m9",
        "outputId": "7b4fd771-80ad-419e-905f-5aca374878d8"
      },
      "outputs": [
        {
          "output_type": "execute_result",
          "data": {
            "text/plain": [
              "['Action', 'Adventure', 'Fantasy', 'ScienceFiction']"
            ]
          },
          "metadata": {},
          "execution_count": 31
        }
      ],
      "source": [
        "movies[\"genres\"][0]"
      ]
    },
    {
      "cell_type": "code",
      "execution_count": 32,
      "metadata": {
        "id": "cyxxhgEFptPV"
      },
      "outputs": [],
      "source": [
        "movies[\"keywords\"]=movies[\"keywords\"].apply(lambda x: [i.replace(\" \",\"\") for i in x])\n"
      ]
    },
    {
      "cell_type": "code",
      "execution_count": 33,
      "metadata": {
        "colab": {
          "base_uri": "https://localhost:8080/"
        },
        "id": "cBWxw-b6tEBC",
        "outputId": "0e9e15e3-1e8e-491d-cfe2-d9082e0c3658"
      },
      "outputs": [
        {
          "output_type": "execute_result",
          "data": {
            "text/plain": [
              "['cultureclash',\n",
              " 'future',\n",
              " 'spacewar',\n",
              " 'spacecolony',\n",
              " 'society',\n",
              " 'spacetravel',\n",
              " 'futuristic',\n",
              " 'romance',\n",
              " 'space',\n",
              " 'alien',\n",
              " 'tribe',\n",
              " 'alienplanet',\n",
              " 'cgi',\n",
              " 'marine',\n",
              " 'soldier',\n",
              " 'battle',\n",
              " 'loveaffair',\n",
              " 'antiwar',\n",
              " 'powerrelations',\n",
              " 'mindandsoul',\n",
              " '3d']"
            ]
          },
          "metadata": {},
          "execution_count": 33
        }
      ],
      "source": [
        "movies[\"keywords\"][0]"
      ]
    },
    {
      "cell_type": "code",
      "execution_count": 34,
      "metadata": {
        "id": "6UEmOCidsI7O"
      },
      "outputs": [],
      "source": [
        "movies[\"cast\"]=movies[\"cast\"].apply(lambda x: [i.replace(\" \",\"\") for i in x])\n",
        "movies[\"crew\"]=movies[\"crew\"].apply(lambda x: [i.replace(\" \",\"\") for i in x])"
      ]
    },
    {
      "cell_type": "code",
      "execution_count": 35,
      "metadata": {
        "colab": {
          "base_uri": "https://localhost:8080/"
        },
        "id": "xcFHZ8LcrN1y",
        "outputId": "b22eff7a-e9b7-4c44-d78a-8c8b612854d8"
      },
      "outputs": [
        {
          "output_type": "execute_result",
          "data": {
            "text/plain": [
              "['In',\n",
              " 'the',\n",
              " '22nd',\n",
              " 'century,',\n",
              " 'a',\n",
              " 'paraplegic',\n",
              " 'Marine',\n",
              " 'is',\n",
              " 'dispatched',\n",
              " 'to',\n",
              " 'the',\n",
              " 'moon',\n",
              " 'Pandora',\n",
              " 'on',\n",
              " 'a',\n",
              " 'unique',\n",
              " 'mission,',\n",
              " 'but',\n",
              " 'becomes',\n",
              " 'torn',\n",
              " 'between',\n",
              " 'following',\n",
              " 'orders',\n",
              " 'and',\n",
              " 'protecting',\n",
              " 'an',\n",
              " 'alien',\n",
              " 'civilization.',\n",
              " 'Action',\n",
              " 'Adventure',\n",
              " 'Fantasy',\n",
              " 'ScienceFiction',\n",
              " 'cultureclash',\n",
              " 'future',\n",
              " 'spacewar',\n",
              " 'spacecolony',\n",
              " 'society',\n",
              " 'spacetravel',\n",
              " 'futuristic',\n",
              " 'romance',\n",
              " 'space',\n",
              " 'alien',\n",
              " 'tribe',\n",
              " 'alienplanet',\n",
              " 'cgi',\n",
              " 'marine',\n",
              " 'soldier',\n",
              " 'battle',\n",
              " 'loveaffair',\n",
              " 'antiwar',\n",
              " 'powerrelations',\n",
              " 'mindandsoul',\n",
              " '3d',\n",
              " 'SamWorthington',\n",
              " 'ZoeSaldana',\n",
              " 'SigourneyWeaver',\n",
              " 'JamesCameron']"
            ]
          },
          "metadata": {},
          "execution_count": 35
        }
      ],
      "source": [
        "movies[\"tags\"]=movies[\"overview\"]+movies[\"genres\"]+movies[\"keywords\"]+movies[\"cast\"]+movies[\"crew\"]\n",
        "movies[\"tags\"][0]"
      ]
    },
    {
      "cell_type": "code",
      "execution_count": 36,
      "metadata": {
        "colab": {
          "base_uri": "https://localhost:8080/",
          "height": 590
        },
        "id": "CJ4-7IZmseFa",
        "outputId": "de38bb8b-9f41-4b9d-99d7-c999512e7c32"
      },
      "outputs": [
        {
          "output_type": "execute_result",
          "data": {
            "text/plain": [
              "   movie_id                                     title  \\\n",
              "0     19995                                    Avatar   \n",
              "1       285  Pirates of the Caribbean: At World's End   \n",
              "2    206647                                   Spectre   \n",
              "3     49026                     The Dark Knight Rises   \n",
              "4     49529                               John Carter   \n",
              "\n",
              "                                            overview  \\\n",
              "0  [In, the, 22nd, century,, a, paraplegic, Marin...   \n",
              "1  [Captain, Barbossa,, long, believed, to, be, d...   \n",
              "2  [A, cryptic, message, from, Bond’s, past, send...   \n",
              "3  [Following, the, death, of, District, Attorney...   \n",
              "4  [John, Carter, is, a, war-weary,, former, mili...   \n",
              "\n",
              "                                         genres  \\\n",
              "0  [Action, Adventure, Fantasy, ScienceFiction]   \n",
              "1                  [Adventure, Fantasy, Action]   \n",
              "2                    [Action, Adventure, Crime]   \n",
              "3              [Action, Crime, Drama, Thriller]   \n",
              "4           [Action, Adventure, ScienceFiction]   \n",
              "\n",
              "                                            keywords  \\\n",
              "0  [cultureclash, future, spacewar, spacecolony, ...   \n",
              "1  [ocean, drugabuse, exoticisland, eastindiatrad...   \n",
              "2  [spy, basedonnovel, secretagent, sequel, mi6, ...   \n",
              "3  [dccomics, crimefighter, terrorist, secretiden...   \n",
              "4  [basedonnovel, mars, medallion, spacetravel, p...   \n",
              "\n",
              "                                            cast                crew  \\\n",
              "0  [SamWorthington, ZoeSaldana, SigourneyWeaver]      [JamesCameron]   \n",
              "1     [JohnnyDepp, OrlandoBloom, KeiraKnightley]     [GoreVerbinski]   \n",
              "2      [DanielCraig, ChristophWaltz, LéaSeydoux]         [SamMendes]   \n",
              "3      [ChristianBale, MichaelCaine, GaryOldman]  [ChristopherNolan]   \n",
              "4    [TaylorKitsch, LynnCollins, SamanthaMorton]     [AndrewStanton]   \n",
              "\n",
              "                                                tags  \n",
              "0  [In, the, 22nd, century,, a, paraplegic, Marin...  \n",
              "1  [Captain, Barbossa,, long, believed, to, be, d...  \n",
              "2  [A, cryptic, message, from, Bond’s, past, send...  \n",
              "3  [Following, the, death, of, District, Attorney...  \n",
              "4  [John, Carter, is, a, war-weary,, former, mili...  "
            ],
            "text/html": [
              "\n",
              "  <div id=\"df-6ac54874-dc5e-4343-b230-300f444e38b6\" class=\"colab-df-container\">\n",
              "    <div>\n",
              "<style scoped>\n",
              "    .dataframe tbody tr th:only-of-type {\n",
              "        vertical-align: middle;\n",
              "    }\n",
              "\n",
              "    .dataframe tbody tr th {\n",
              "        vertical-align: top;\n",
              "    }\n",
              "\n",
              "    .dataframe thead th {\n",
              "        text-align: right;\n",
              "    }\n",
              "</style>\n",
              "<table border=\"1\" class=\"dataframe\">\n",
              "  <thead>\n",
              "    <tr style=\"text-align: right;\">\n",
              "      <th></th>\n",
              "      <th>movie_id</th>\n",
              "      <th>title</th>\n",
              "      <th>overview</th>\n",
              "      <th>genres</th>\n",
              "      <th>keywords</th>\n",
              "      <th>cast</th>\n",
              "      <th>crew</th>\n",
              "      <th>tags</th>\n",
              "    </tr>\n",
              "  </thead>\n",
              "  <tbody>\n",
              "    <tr>\n",
              "      <th>0</th>\n",
              "      <td>19995</td>\n",
              "      <td>Avatar</td>\n",
              "      <td>[In, the, 22nd, century,, a, paraplegic, Marin...</td>\n",
              "      <td>[Action, Adventure, Fantasy, ScienceFiction]</td>\n",
              "      <td>[cultureclash, future, spacewar, spacecolony, ...</td>\n",
              "      <td>[SamWorthington, ZoeSaldana, SigourneyWeaver]</td>\n",
              "      <td>[JamesCameron]</td>\n",
              "      <td>[In, the, 22nd, century,, a, paraplegic, Marin...</td>\n",
              "    </tr>\n",
              "    <tr>\n",
              "      <th>1</th>\n",
              "      <td>285</td>\n",
              "      <td>Pirates of the Caribbean: At World's End</td>\n",
              "      <td>[Captain, Barbossa,, long, believed, to, be, d...</td>\n",
              "      <td>[Adventure, Fantasy, Action]</td>\n",
              "      <td>[ocean, drugabuse, exoticisland, eastindiatrad...</td>\n",
              "      <td>[JohnnyDepp, OrlandoBloom, KeiraKnightley]</td>\n",
              "      <td>[GoreVerbinski]</td>\n",
              "      <td>[Captain, Barbossa,, long, believed, to, be, d...</td>\n",
              "    </tr>\n",
              "    <tr>\n",
              "      <th>2</th>\n",
              "      <td>206647</td>\n",
              "      <td>Spectre</td>\n",
              "      <td>[A, cryptic, message, from, Bond’s, past, send...</td>\n",
              "      <td>[Action, Adventure, Crime]</td>\n",
              "      <td>[spy, basedonnovel, secretagent, sequel, mi6, ...</td>\n",
              "      <td>[DanielCraig, ChristophWaltz, LéaSeydoux]</td>\n",
              "      <td>[SamMendes]</td>\n",
              "      <td>[A, cryptic, message, from, Bond’s, past, send...</td>\n",
              "    </tr>\n",
              "    <tr>\n",
              "      <th>3</th>\n",
              "      <td>49026</td>\n",
              "      <td>The Dark Knight Rises</td>\n",
              "      <td>[Following, the, death, of, District, Attorney...</td>\n",
              "      <td>[Action, Crime, Drama, Thriller]</td>\n",
              "      <td>[dccomics, crimefighter, terrorist, secretiden...</td>\n",
              "      <td>[ChristianBale, MichaelCaine, GaryOldman]</td>\n",
              "      <td>[ChristopherNolan]</td>\n",
              "      <td>[Following, the, death, of, District, Attorney...</td>\n",
              "    </tr>\n",
              "    <tr>\n",
              "      <th>4</th>\n",
              "      <td>49529</td>\n",
              "      <td>John Carter</td>\n",
              "      <td>[John, Carter, is, a, war-weary,, former, mili...</td>\n",
              "      <td>[Action, Adventure, ScienceFiction]</td>\n",
              "      <td>[basedonnovel, mars, medallion, spacetravel, p...</td>\n",
              "      <td>[TaylorKitsch, LynnCollins, SamanthaMorton]</td>\n",
              "      <td>[AndrewStanton]</td>\n",
              "      <td>[John, Carter, is, a, war-weary,, former, mili...</td>\n",
              "    </tr>\n",
              "  </tbody>\n",
              "</table>\n",
              "</div>\n",
              "    <div class=\"colab-df-buttons\">\n",
              "\n",
              "  <div class=\"colab-df-container\">\n",
              "    <button class=\"colab-df-convert\" onclick=\"convertToInteractive('df-6ac54874-dc5e-4343-b230-300f444e38b6')\"\n",
              "            title=\"Convert this dataframe to an interactive table.\"\n",
              "            style=\"display:none;\">\n",
              "\n",
              "  <svg xmlns=\"http://www.w3.org/2000/svg\" height=\"24px\" viewBox=\"0 -960 960 960\">\n",
              "    <path d=\"M120-120v-720h720v720H120Zm60-500h600v-160H180v160Zm220 220h160v-160H400v160Zm0 220h160v-160H400v160ZM180-400h160v-160H180v160Zm440 0h160v-160H620v160ZM180-180h160v-160H180v160Zm440 0h160v-160H620v160Z\"/>\n",
              "  </svg>\n",
              "    </button>\n",
              "\n",
              "  <style>\n",
              "    .colab-df-container {\n",
              "      display:flex;\n",
              "      gap: 12px;\n",
              "    }\n",
              "\n",
              "    .colab-df-convert {\n",
              "      background-color: #E8F0FE;\n",
              "      border: none;\n",
              "      border-radius: 50%;\n",
              "      cursor: pointer;\n",
              "      display: none;\n",
              "      fill: #1967D2;\n",
              "      height: 32px;\n",
              "      padding: 0 0 0 0;\n",
              "      width: 32px;\n",
              "    }\n",
              "\n",
              "    .colab-df-convert:hover {\n",
              "      background-color: #E2EBFA;\n",
              "      box-shadow: 0px 1px 2px rgba(60, 64, 67, 0.3), 0px 1px 3px 1px rgba(60, 64, 67, 0.15);\n",
              "      fill: #174EA6;\n",
              "    }\n",
              "\n",
              "    .colab-df-buttons div {\n",
              "      margin-bottom: 4px;\n",
              "    }\n",
              "\n",
              "    [theme=dark] .colab-df-convert {\n",
              "      background-color: #3B4455;\n",
              "      fill: #D2E3FC;\n",
              "    }\n",
              "\n",
              "    [theme=dark] .colab-df-convert:hover {\n",
              "      background-color: #434B5C;\n",
              "      box-shadow: 0px 1px 3px 1px rgba(0, 0, 0, 0.15);\n",
              "      filter: drop-shadow(0px 1px 2px rgba(0, 0, 0, 0.3));\n",
              "      fill: #FFFFFF;\n",
              "    }\n",
              "  </style>\n",
              "\n",
              "    <script>\n",
              "      const buttonEl =\n",
              "        document.querySelector('#df-6ac54874-dc5e-4343-b230-300f444e38b6 button.colab-df-convert');\n",
              "      buttonEl.style.display =\n",
              "        google.colab.kernel.accessAllowed ? 'block' : 'none';\n",
              "\n",
              "      async function convertToInteractive(key) {\n",
              "        const element = document.querySelector('#df-6ac54874-dc5e-4343-b230-300f444e38b6');\n",
              "        const dataTable =\n",
              "          await google.colab.kernel.invokeFunction('convertToInteractive',\n",
              "                                                    [key], {});\n",
              "        if (!dataTable) return;\n",
              "\n",
              "        const docLinkHtml = 'Like what you see? Visit the ' +\n",
              "          '<a target=\"_blank\" href=https://colab.research.google.com/notebooks/data_table.ipynb>data table notebook</a>'\n",
              "          + ' to learn more about interactive tables.';\n",
              "        element.innerHTML = '';\n",
              "        dataTable['output_type'] = 'display_data';\n",
              "        await google.colab.output.renderOutput(dataTable, element);\n",
              "        const docLink = document.createElement('div');\n",
              "        docLink.innerHTML = docLinkHtml;\n",
              "        element.appendChild(docLink);\n",
              "      }\n",
              "    </script>\n",
              "  </div>\n",
              "\n",
              "\n",
              "<div id=\"df-6373b0b4-d841-4e3a-a269-72d2ea4f9e7b\">\n",
              "  <button class=\"colab-df-quickchart\" onclick=\"quickchart('df-6373b0b4-d841-4e3a-a269-72d2ea4f9e7b')\"\n",
              "            title=\"Suggest charts\"\n",
              "            style=\"display:none;\">\n",
              "\n",
              "<svg xmlns=\"http://www.w3.org/2000/svg\" height=\"24px\"viewBox=\"0 0 24 24\"\n",
              "     width=\"24px\">\n",
              "    <g>\n",
              "        <path d=\"M19 3H5c-1.1 0-2 .9-2 2v14c0 1.1.9 2 2 2h14c1.1 0 2-.9 2-2V5c0-1.1-.9-2-2-2zM9 17H7v-7h2v7zm4 0h-2V7h2v10zm4 0h-2v-4h2v4z\"/>\n",
              "    </g>\n",
              "</svg>\n",
              "  </button>\n",
              "\n",
              "<style>\n",
              "  .colab-df-quickchart {\n",
              "      --bg-color: #E8F0FE;\n",
              "      --fill-color: #1967D2;\n",
              "      --hover-bg-color: #E2EBFA;\n",
              "      --hover-fill-color: #174EA6;\n",
              "      --disabled-fill-color: #AAA;\n",
              "      --disabled-bg-color: #DDD;\n",
              "  }\n",
              "\n",
              "  [theme=dark] .colab-df-quickchart {\n",
              "      --bg-color: #3B4455;\n",
              "      --fill-color: #D2E3FC;\n",
              "      --hover-bg-color: #434B5C;\n",
              "      --hover-fill-color: #FFFFFF;\n",
              "      --disabled-bg-color: #3B4455;\n",
              "      --disabled-fill-color: #666;\n",
              "  }\n",
              "\n",
              "  .colab-df-quickchart {\n",
              "    background-color: var(--bg-color);\n",
              "    border: none;\n",
              "    border-radius: 50%;\n",
              "    cursor: pointer;\n",
              "    display: none;\n",
              "    fill: var(--fill-color);\n",
              "    height: 32px;\n",
              "    padding: 0;\n",
              "    width: 32px;\n",
              "  }\n",
              "\n",
              "  .colab-df-quickchart:hover {\n",
              "    background-color: var(--hover-bg-color);\n",
              "    box-shadow: 0 1px 2px rgba(60, 64, 67, 0.3), 0 1px 3px 1px rgba(60, 64, 67, 0.15);\n",
              "    fill: var(--button-hover-fill-color);\n",
              "  }\n",
              "\n",
              "  .colab-df-quickchart-complete:disabled,\n",
              "  .colab-df-quickchart-complete:disabled:hover {\n",
              "    background-color: var(--disabled-bg-color);\n",
              "    fill: var(--disabled-fill-color);\n",
              "    box-shadow: none;\n",
              "  }\n",
              "\n",
              "  .colab-df-spinner {\n",
              "    border: 2px solid var(--fill-color);\n",
              "    border-color: transparent;\n",
              "    border-bottom-color: var(--fill-color);\n",
              "    animation:\n",
              "      spin 1s steps(1) infinite;\n",
              "  }\n",
              "\n",
              "  @keyframes spin {\n",
              "    0% {\n",
              "      border-color: transparent;\n",
              "      border-bottom-color: var(--fill-color);\n",
              "      border-left-color: var(--fill-color);\n",
              "    }\n",
              "    20% {\n",
              "      border-color: transparent;\n",
              "      border-left-color: var(--fill-color);\n",
              "      border-top-color: var(--fill-color);\n",
              "    }\n",
              "    30% {\n",
              "      border-color: transparent;\n",
              "      border-left-color: var(--fill-color);\n",
              "      border-top-color: var(--fill-color);\n",
              "      border-right-color: var(--fill-color);\n",
              "    }\n",
              "    40% {\n",
              "      border-color: transparent;\n",
              "      border-right-color: var(--fill-color);\n",
              "      border-top-color: var(--fill-color);\n",
              "    }\n",
              "    60% {\n",
              "      border-color: transparent;\n",
              "      border-right-color: var(--fill-color);\n",
              "    }\n",
              "    80% {\n",
              "      border-color: transparent;\n",
              "      border-right-color: var(--fill-color);\n",
              "      border-bottom-color: var(--fill-color);\n",
              "    }\n",
              "    90% {\n",
              "      border-color: transparent;\n",
              "      border-bottom-color: var(--fill-color);\n",
              "    }\n",
              "  }\n",
              "</style>\n",
              "\n",
              "  <script>\n",
              "    async function quickchart(key) {\n",
              "      const quickchartButtonEl =\n",
              "        document.querySelector('#' + key + ' button');\n",
              "      quickchartButtonEl.disabled = true;  // To prevent multiple clicks.\n",
              "      quickchartButtonEl.classList.add('colab-df-spinner');\n",
              "      try {\n",
              "        const charts = await google.colab.kernel.invokeFunction(\n",
              "            'suggestCharts', [key], {});\n",
              "      } catch (error) {\n",
              "        console.error('Error during call to suggestCharts:', error);\n",
              "      }\n",
              "      quickchartButtonEl.classList.remove('colab-df-spinner');\n",
              "      quickchartButtonEl.classList.add('colab-df-quickchart-complete');\n",
              "    }\n",
              "    (() => {\n",
              "      let quickchartButtonEl =\n",
              "        document.querySelector('#df-6373b0b4-d841-4e3a-a269-72d2ea4f9e7b button');\n",
              "      quickchartButtonEl.style.display =\n",
              "        google.colab.kernel.accessAllowed ? 'block' : 'none';\n",
              "    })();\n",
              "  </script>\n",
              "</div>\n",
              "\n",
              "    </div>\n",
              "  </div>\n"
            ],
            "application/vnd.google.colaboratory.intrinsic+json": {
              "type": "dataframe",
              "variable_name": "movies",
              "summary": "{\n  \"name\": \"movies\",\n  \"rows\": 846,\n  \"fields\": [\n    {\n      \"column\": \"movie_id\",\n      \"properties\": {\n        \"dtype\": \"number\",\n        \"std\": 72055,\n        \"min\": 12,\n        \"max\": 417859,\n        \"num_unique_values\": 846,\n        \"samples\": [\n          20526,\n          2567,\n          29193\n        ],\n        \"semantic_type\": \"\",\n        \"description\": \"\"\n      }\n    },\n    {\n      \"column\": \"title\",\n      \"properties\": {\n        \"dtype\": \"string\",\n        \"num_unique_values\": 846,\n        \"samples\": [\n          \"TRON: Legacy\",\n          \"The Aviator\",\n          \"The Spanish Prisoner\"\n        ],\n        \"semantic_type\": \"\",\n        \"description\": \"\"\n      }\n    },\n    {\n      \"column\": \"overview\",\n      \"properties\": {\n        \"dtype\": \"object\",\n        \"semantic_type\": \"\",\n        \"description\": \"\"\n      }\n    },\n    {\n      \"column\": \"genres\",\n      \"properties\": {\n        \"dtype\": \"object\",\n        \"semantic_type\": \"\",\n        \"description\": \"\"\n      }\n    },\n    {\n      \"column\": \"keywords\",\n      \"properties\": {\n        \"dtype\": \"object\",\n        \"semantic_type\": \"\",\n        \"description\": \"\"\n      }\n    },\n    {\n      \"column\": \"cast\",\n      \"properties\": {\n        \"dtype\": \"object\",\n        \"semantic_type\": \"\",\n        \"description\": \"\"\n      }\n    },\n    {\n      \"column\": \"crew\",\n      \"properties\": {\n        \"dtype\": \"object\",\n        \"semantic_type\": \"\",\n        \"description\": \"\"\n      }\n    },\n    {\n      \"column\": \"tags\",\n      \"properties\": {\n        \"dtype\": \"object\",\n        \"semantic_type\": \"\",\n        \"description\": \"\"\n      }\n    }\n  ]\n}"
            }
          },
          "metadata": {},
          "execution_count": 36
        }
      ],
      "source": [
        "movies.head()"
      ]
    },
    {
      "cell_type": "code",
      "execution_count": 37,
      "metadata": {
        "id": "UsHJe4wiupGc"
      },
      "outputs": [],
      "source": [
        "new_df=movies[[\"movie_id\",\"title\",\"tags\"]]\n"
      ]
    },
    {
      "cell_type": "code",
      "execution_count": 38,
      "metadata": {
        "colab": {
          "base_uri": "https://localhost:8080/",
          "height": 206
        },
        "id": "3J5KwFrhvFhL",
        "outputId": "abd1d946-a885-4cad-9eaa-dfbd11797ead"
      },
      "outputs": [
        {
          "output_type": "execute_result",
          "data": {
            "text/plain": [
              "   movie_id                                     title  \\\n",
              "0     19995                                    Avatar   \n",
              "1       285  Pirates of the Caribbean: At World's End   \n",
              "2    206647                                   Spectre   \n",
              "3     49026                     The Dark Knight Rises   \n",
              "4     49529                               John Carter   \n",
              "\n",
              "                                                tags  \n",
              "0  [In, the, 22nd, century,, a, paraplegic, Marin...  \n",
              "1  [Captain, Barbossa,, long, believed, to, be, d...  \n",
              "2  [A, cryptic, message, from, Bond’s, past, send...  \n",
              "3  [Following, the, death, of, District, Attorney...  \n",
              "4  [John, Carter, is, a, war-weary,, former, mili...  "
            ],
            "text/html": [
              "\n",
              "  <div id=\"df-dbdc3b52-9525-4556-bedb-0abb4475fd74\" class=\"colab-df-container\">\n",
              "    <div>\n",
              "<style scoped>\n",
              "    .dataframe tbody tr th:only-of-type {\n",
              "        vertical-align: middle;\n",
              "    }\n",
              "\n",
              "    .dataframe tbody tr th {\n",
              "        vertical-align: top;\n",
              "    }\n",
              "\n",
              "    .dataframe thead th {\n",
              "        text-align: right;\n",
              "    }\n",
              "</style>\n",
              "<table border=\"1\" class=\"dataframe\">\n",
              "  <thead>\n",
              "    <tr style=\"text-align: right;\">\n",
              "      <th></th>\n",
              "      <th>movie_id</th>\n",
              "      <th>title</th>\n",
              "      <th>tags</th>\n",
              "    </tr>\n",
              "  </thead>\n",
              "  <tbody>\n",
              "    <tr>\n",
              "      <th>0</th>\n",
              "      <td>19995</td>\n",
              "      <td>Avatar</td>\n",
              "      <td>[In, the, 22nd, century,, a, paraplegic, Marin...</td>\n",
              "    </tr>\n",
              "    <tr>\n",
              "      <th>1</th>\n",
              "      <td>285</td>\n",
              "      <td>Pirates of the Caribbean: At World's End</td>\n",
              "      <td>[Captain, Barbossa,, long, believed, to, be, d...</td>\n",
              "    </tr>\n",
              "    <tr>\n",
              "      <th>2</th>\n",
              "      <td>206647</td>\n",
              "      <td>Spectre</td>\n",
              "      <td>[A, cryptic, message, from, Bond’s, past, send...</td>\n",
              "    </tr>\n",
              "    <tr>\n",
              "      <th>3</th>\n",
              "      <td>49026</td>\n",
              "      <td>The Dark Knight Rises</td>\n",
              "      <td>[Following, the, death, of, District, Attorney...</td>\n",
              "    </tr>\n",
              "    <tr>\n",
              "      <th>4</th>\n",
              "      <td>49529</td>\n",
              "      <td>John Carter</td>\n",
              "      <td>[John, Carter, is, a, war-weary,, former, mili...</td>\n",
              "    </tr>\n",
              "  </tbody>\n",
              "</table>\n",
              "</div>\n",
              "    <div class=\"colab-df-buttons\">\n",
              "\n",
              "  <div class=\"colab-df-container\">\n",
              "    <button class=\"colab-df-convert\" onclick=\"convertToInteractive('df-dbdc3b52-9525-4556-bedb-0abb4475fd74')\"\n",
              "            title=\"Convert this dataframe to an interactive table.\"\n",
              "            style=\"display:none;\">\n",
              "\n",
              "  <svg xmlns=\"http://www.w3.org/2000/svg\" height=\"24px\" viewBox=\"0 -960 960 960\">\n",
              "    <path d=\"M120-120v-720h720v720H120Zm60-500h600v-160H180v160Zm220 220h160v-160H400v160Zm0 220h160v-160H400v160ZM180-400h160v-160H180v160Zm440 0h160v-160H620v160ZM180-180h160v-160H180v160Zm440 0h160v-160H620v160Z\"/>\n",
              "  </svg>\n",
              "    </button>\n",
              "\n",
              "  <style>\n",
              "    .colab-df-container {\n",
              "      display:flex;\n",
              "      gap: 12px;\n",
              "    }\n",
              "\n",
              "    .colab-df-convert {\n",
              "      background-color: #E8F0FE;\n",
              "      border: none;\n",
              "      border-radius: 50%;\n",
              "      cursor: pointer;\n",
              "      display: none;\n",
              "      fill: #1967D2;\n",
              "      height: 32px;\n",
              "      padding: 0 0 0 0;\n",
              "      width: 32px;\n",
              "    }\n",
              "\n",
              "    .colab-df-convert:hover {\n",
              "      background-color: #E2EBFA;\n",
              "      box-shadow: 0px 1px 2px rgba(60, 64, 67, 0.3), 0px 1px 3px 1px rgba(60, 64, 67, 0.15);\n",
              "      fill: #174EA6;\n",
              "    }\n",
              "\n",
              "    .colab-df-buttons div {\n",
              "      margin-bottom: 4px;\n",
              "    }\n",
              "\n",
              "    [theme=dark] .colab-df-convert {\n",
              "      background-color: #3B4455;\n",
              "      fill: #D2E3FC;\n",
              "    }\n",
              "\n",
              "    [theme=dark] .colab-df-convert:hover {\n",
              "      background-color: #434B5C;\n",
              "      box-shadow: 0px 1px 3px 1px rgba(0, 0, 0, 0.15);\n",
              "      filter: drop-shadow(0px 1px 2px rgba(0, 0, 0, 0.3));\n",
              "      fill: #FFFFFF;\n",
              "    }\n",
              "  </style>\n",
              "\n",
              "    <script>\n",
              "      const buttonEl =\n",
              "        document.querySelector('#df-dbdc3b52-9525-4556-bedb-0abb4475fd74 button.colab-df-convert');\n",
              "      buttonEl.style.display =\n",
              "        google.colab.kernel.accessAllowed ? 'block' : 'none';\n",
              "\n",
              "      async function convertToInteractive(key) {\n",
              "        const element = document.querySelector('#df-dbdc3b52-9525-4556-bedb-0abb4475fd74');\n",
              "        const dataTable =\n",
              "          await google.colab.kernel.invokeFunction('convertToInteractive',\n",
              "                                                    [key], {});\n",
              "        if (!dataTable) return;\n",
              "\n",
              "        const docLinkHtml = 'Like what you see? Visit the ' +\n",
              "          '<a target=\"_blank\" href=https://colab.research.google.com/notebooks/data_table.ipynb>data table notebook</a>'\n",
              "          + ' to learn more about interactive tables.';\n",
              "        element.innerHTML = '';\n",
              "        dataTable['output_type'] = 'display_data';\n",
              "        await google.colab.output.renderOutput(dataTable, element);\n",
              "        const docLink = document.createElement('div');\n",
              "        docLink.innerHTML = docLinkHtml;\n",
              "        element.appendChild(docLink);\n",
              "      }\n",
              "    </script>\n",
              "  </div>\n",
              "\n",
              "\n",
              "<div id=\"df-81f72c89-b640-46c1-a211-853027f5def4\">\n",
              "  <button class=\"colab-df-quickchart\" onclick=\"quickchart('df-81f72c89-b640-46c1-a211-853027f5def4')\"\n",
              "            title=\"Suggest charts\"\n",
              "            style=\"display:none;\">\n",
              "\n",
              "<svg xmlns=\"http://www.w3.org/2000/svg\" height=\"24px\"viewBox=\"0 0 24 24\"\n",
              "     width=\"24px\">\n",
              "    <g>\n",
              "        <path d=\"M19 3H5c-1.1 0-2 .9-2 2v14c0 1.1.9 2 2 2h14c1.1 0 2-.9 2-2V5c0-1.1-.9-2-2-2zM9 17H7v-7h2v7zm4 0h-2V7h2v10zm4 0h-2v-4h2v4z\"/>\n",
              "    </g>\n",
              "</svg>\n",
              "  </button>\n",
              "\n",
              "<style>\n",
              "  .colab-df-quickchart {\n",
              "      --bg-color: #E8F0FE;\n",
              "      --fill-color: #1967D2;\n",
              "      --hover-bg-color: #E2EBFA;\n",
              "      --hover-fill-color: #174EA6;\n",
              "      --disabled-fill-color: #AAA;\n",
              "      --disabled-bg-color: #DDD;\n",
              "  }\n",
              "\n",
              "  [theme=dark] .colab-df-quickchart {\n",
              "      --bg-color: #3B4455;\n",
              "      --fill-color: #D2E3FC;\n",
              "      --hover-bg-color: #434B5C;\n",
              "      --hover-fill-color: #FFFFFF;\n",
              "      --disabled-bg-color: #3B4455;\n",
              "      --disabled-fill-color: #666;\n",
              "  }\n",
              "\n",
              "  .colab-df-quickchart {\n",
              "    background-color: var(--bg-color);\n",
              "    border: none;\n",
              "    border-radius: 50%;\n",
              "    cursor: pointer;\n",
              "    display: none;\n",
              "    fill: var(--fill-color);\n",
              "    height: 32px;\n",
              "    padding: 0;\n",
              "    width: 32px;\n",
              "  }\n",
              "\n",
              "  .colab-df-quickchart:hover {\n",
              "    background-color: var(--hover-bg-color);\n",
              "    box-shadow: 0 1px 2px rgba(60, 64, 67, 0.3), 0 1px 3px 1px rgba(60, 64, 67, 0.15);\n",
              "    fill: var(--button-hover-fill-color);\n",
              "  }\n",
              "\n",
              "  .colab-df-quickchart-complete:disabled,\n",
              "  .colab-df-quickchart-complete:disabled:hover {\n",
              "    background-color: var(--disabled-bg-color);\n",
              "    fill: var(--disabled-fill-color);\n",
              "    box-shadow: none;\n",
              "  }\n",
              "\n",
              "  .colab-df-spinner {\n",
              "    border: 2px solid var(--fill-color);\n",
              "    border-color: transparent;\n",
              "    border-bottom-color: var(--fill-color);\n",
              "    animation:\n",
              "      spin 1s steps(1) infinite;\n",
              "  }\n",
              "\n",
              "  @keyframes spin {\n",
              "    0% {\n",
              "      border-color: transparent;\n",
              "      border-bottom-color: var(--fill-color);\n",
              "      border-left-color: var(--fill-color);\n",
              "    }\n",
              "    20% {\n",
              "      border-color: transparent;\n",
              "      border-left-color: var(--fill-color);\n",
              "      border-top-color: var(--fill-color);\n",
              "    }\n",
              "    30% {\n",
              "      border-color: transparent;\n",
              "      border-left-color: var(--fill-color);\n",
              "      border-top-color: var(--fill-color);\n",
              "      border-right-color: var(--fill-color);\n",
              "    }\n",
              "    40% {\n",
              "      border-color: transparent;\n",
              "      border-right-color: var(--fill-color);\n",
              "      border-top-color: var(--fill-color);\n",
              "    }\n",
              "    60% {\n",
              "      border-color: transparent;\n",
              "      border-right-color: var(--fill-color);\n",
              "    }\n",
              "    80% {\n",
              "      border-color: transparent;\n",
              "      border-right-color: var(--fill-color);\n",
              "      border-bottom-color: var(--fill-color);\n",
              "    }\n",
              "    90% {\n",
              "      border-color: transparent;\n",
              "      border-bottom-color: var(--fill-color);\n",
              "    }\n",
              "  }\n",
              "</style>\n",
              "\n",
              "  <script>\n",
              "    async function quickchart(key) {\n",
              "      const quickchartButtonEl =\n",
              "        document.querySelector('#' + key + ' button');\n",
              "      quickchartButtonEl.disabled = true;  // To prevent multiple clicks.\n",
              "      quickchartButtonEl.classList.add('colab-df-spinner');\n",
              "      try {\n",
              "        const charts = await google.colab.kernel.invokeFunction(\n",
              "            'suggestCharts', [key], {});\n",
              "      } catch (error) {\n",
              "        console.error('Error during call to suggestCharts:', error);\n",
              "      }\n",
              "      quickchartButtonEl.classList.remove('colab-df-spinner');\n",
              "      quickchartButtonEl.classList.add('colab-df-quickchart-complete');\n",
              "    }\n",
              "    (() => {\n",
              "      let quickchartButtonEl =\n",
              "        document.querySelector('#df-81f72c89-b640-46c1-a211-853027f5def4 button');\n",
              "      quickchartButtonEl.style.display =\n",
              "        google.colab.kernel.accessAllowed ? 'block' : 'none';\n",
              "    })();\n",
              "  </script>\n",
              "</div>\n",
              "\n",
              "    </div>\n",
              "  </div>\n"
            ],
            "application/vnd.google.colaboratory.intrinsic+json": {
              "type": "dataframe",
              "variable_name": "new_df",
              "summary": "{\n  \"name\": \"new_df\",\n  \"rows\": 846,\n  \"fields\": [\n    {\n      \"column\": \"movie_id\",\n      \"properties\": {\n        \"dtype\": \"number\",\n        \"std\": 72055,\n        \"min\": 12,\n        \"max\": 417859,\n        \"num_unique_values\": 846,\n        \"samples\": [\n          20526,\n          2567,\n          29193\n        ],\n        \"semantic_type\": \"\",\n        \"description\": \"\"\n      }\n    },\n    {\n      \"column\": \"title\",\n      \"properties\": {\n        \"dtype\": \"string\",\n        \"num_unique_values\": 846,\n        \"samples\": [\n          \"TRON: Legacy\",\n          \"The Aviator\",\n          \"The Spanish Prisoner\"\n        ],\n        \"semantic_type\": \"\",\n        \"description\": \"\"\n      }\n    },\n    {\n      \"column\": \"tags\",\n      \"properties\": {\n        \"dtype\": \"object\",\n        \"semantic_type\": \"\",\n        \"description\": \"\"\n      }\n    }\n  ]\n}"
            }
          },
          "metadata": {},
          "execution_count": 38
        }
      ],
      "source": [
        "new_df.head()"
      ]
    },
    {
      "cell_type": "code",
      "execution_count": 39,
      "metadata": {
        "colab": {
          "base_uri": "https://localhost:8080/"
        },
        "id": "OAO6Y5OZv_Li",
        "outputId": "3c417a72-3b1c-42c1-bade-f480400af235"
      },
      "outputs": [
        {
          "output_type": "stream",
          "name": "stderr",
          "text": [
            "<ipython-input-39-37ed165900d1>:1: SettingWithCopyWarning: \n",
            "A value is trying to be set on a copy of a slice from a DataFrame.\n",
            "Try using .loc[row_indexer,col_indexer] = value instead\n",
            "\n",
            "See the caveats in the documentation: https://pandas.pydata.org/pandas-docs/stable/user_guide/indexing.html#returning-a-view-versus-a-copy\n",
            "  new_df[\"tags\"]=new_df[\"tags\"].apply(lambda x:\" \".join(x))\n"
          ]
        }
      ],
      "source": [
        "new_df[\"tags\"]=new_df[\"tags\"].apply(lambda x:\" \".join(x))"
      ]
    },
    {
      "cell_type": "code",
      "execution_count": 40,
      "metadata": {
        "colab": {
          "base_uri": "https://localhost:8080/",
          "height": 104
        },
        "id": "esofxksTxBfq",
        "outputId": "6e598655-87e3-4dbe-bf9a-70ac67dd9e32"
      },
      "outputs": [
        {
          "output_type": "execute_result",
          "data": {
            "text/plain": [
              "'In the 22nd century, a paraplegic Marine is dispatched to the moon Pandora on a unique mission, but becomes torn between following orders and protecting an alien civilization. Action Adventure Fantasy ScienceFiction cultureclash future spacewar spacecolony society spacetravel futuristic romance space alien tribe alienplanet cgi marine soldier battle loveaffair antiwar powerrelations mindandsoul 3d SamWorthington ZoeSaldana SigourneyWeaver JamesCameron'"
            ],
            "application/vnd.google.colaboratory.intrinsic+json": {
              "type": "string"
            }
          },
          "metadata": {},
          "execution_count": 40
        }
      ],
      "source": [
        "new_df[\"tags\"][0]"
      ]
    },
    {
      "cell_type": "code",
      "execution_count": 41,
      "metadata": {
        "colab": {
          "base_uri": "https://localhost:8080/",
          "height": 458
        },
        "id": "GtgnzpOixTU7",
        "outputId": "c6db6a2d-fbae-4885-e53e-65d51e902332"
      },
      "outputs": [
        {
          "output_type": "execute_result",
          "data": {
            "text/plain": [
              "0      in the 22nd century, a paraplegic marine is di...\n",
              "1      captain barbossa, long believed to be dead, ha...\n",
              "2      a cryptic message from bond’s past sends him o...\n",
              "3      following the death of district attorney harve...\n",
              "4      john carter is a war-weary, former military ca...\n",
              "                             ...                        \n",
              "841    sir robert beaumont is behind schedule on a ra...\n",
              "842    a young peruvian bear with a passion for all t...\n",
              "843    four everyday suburban guys come together as a...\n",
              "844    in the wilderness of british columbia, two hun...\n",
              "845    dr. ethan powell, an anthropologist, is in afr...\n",
              "Name: tags, Length: 846, dtype: object"
            ],
            "text/html": [
              "<div>\n",
              "<style scoped>\n",
              "    .dataframe tbody tr th:only-of-type {\n",
              "        vertical-align: middle;\n",
              "    }\n",
              "\n",
              "    .dataframe tbody tr th {\n",
              "        vertical-align: top;\n",
              "    }\n",
              "\n",
              "    .dataframe thead th {\n",
              "        text-align: right;\n",
              "    }\n",
              "</style>\n",
              "<table border=\"1\" class=\"dataframe\">\n",
              "  <thead>\n",
              "    <tr style=\"text-align: right;\">\n",
              "      <th></th>\n",
              "      <th>tags</th>\n",
              "    </tr>\n",
              "  </thead>\n",
              "  <tbody>\n",
              "    <tr>\n",
              "      <th>0</th>\n",
              "      <td>in the 22nd century, a paraplegic marine is di...</td>\n",
              "    </tr>\n",
              "    <tr>\n",
              "      <th>1</th>\n",
              "      <td>captain barbossa, long believed to be dead, ha...</td>\n",
              "    </tr>\n",
              "    <tr>\n",
              "      <th>2</th>\n",
              "      <td>a cryptic message from bond’s past sends him o...</td>\n",
              "    </tr>\n",
              "    <tr>\n",
              "      <th>3</th>\n",
              "      <td>following the death of district attorney harve...</td>\n",
              "    </tr>\n",
              "    <tr>\n",
              "      <th>4</th>\n",
              "      <td>john carter is a war-weary, former military ca...</td>\n",
              "    </tr>\n",
              "    <tr>\n",
              "      <th>...</th>\n",
              "      <td>...</td>\n",
              "    </tr>\n",
              "    <tr>\n",
              "      <th>841</th>\n",
              "      <td>sir robert beaumont is behind schedule on a ra...</td>\n",
              "    </tr>\n",
              "    <tr>\n",
              "      <th>842</th>\n",
              "      <td>a young peruvian bear with a passion for all t...</td>\n",
              "    </tr>\n",
              "    <tr>\n",
              "      <th>843</th>\n",
              "      <td>four everyday suburban guys come together as a...</td>\n",
              "    </tr>\n",
              "    <tr>\n",
              "      <th>844</th>\n",
              "      <td>in the wilderness of british columbia, two hun...</td>\n",
              "    </tr>\n",
              "    <tr>\n",
              "      <th>845</th>\n",
              "      <td>dr. ethan powell, an anthropologist, is in afr...</td>\n",
              "    </tr>\n",
              "  </tbody>\n",
              "</table>\n",
              "<p>846 rows × 1 columns</p>\n",
              "</div><br><label><b>dtype:</b> object</label>"
            ]
          },
          "metadata": {},
          "execution_count": 41
        }
      ],
      "source": [
        "new_df[\"tags\"].apply(lambda x:x.lower())"
      ]
    },
    {
      "cell_type": "code",
      "execution_count": 42,
      "metadata": {
        "colab": {
          "base_uri": "https://localhost:8080/",
          "height": 104
        },
        "id": "0fOn-N_BxhHC",
        "outputId": "6cc0c463-3a91-4302-8282-2422994a2602"
      },
      "outputs": [
        {
          "output_type": "execute_result",
          "data": {
            "text/plain": [
              "'In the 22nd century, a paraplegic Marine is dispatched to the moon Pandora on a unique mission, but becomes torn between following orders and protecting an alien civilization. Action Adventure Fantasy ScienceFiction cultureclash future spacewar spacecolony society spacetravel futuristic romance space alien tribe alienplanet cgi marine soldier battle loveaffair antiwar powerrelations mindandsoul 3d SamWorthington ZoeSaldana SigourneyWeaver JamesCameron'"
            ],
            "application/vnd.google.colaboratory.intrinsic+json": {
              "type": "string"
            }
          },
          "metadata": {},
          "execution_count": 42
        }
      ],
      "source": [
        "new_df[\"tags\"][0]"
      ]
    },
    {
      "cell_type": "code",
      "execution_count": 43,
      "metadata": {
        "id": "JcwkzlqcFag2"
      },
      "outputs": [],
      "source": [
        "from nltk.stem import PorterStemmer\n",
        "ps=PorterStemmer()"
      ]
    },
    {
      "cell_type": "code",
      "execution_count": 44,
      "metadata": {
        "id": "TaPmZ4aPFpCt"
      },
      "outputs": [],
      "source": [
        "def stem(obj):\n",
        "  l=[]\n",
        "  for i in obj.split():\n",
        "    k=ps.stem(i)\n",
        "    l.append(k)\n",
        "  return \" \".join(l)\n"
      ]
    },
    {
      "cell_type": "code",
      "execution_count": 45,
      "metadata": {
        "colab": {
          "base_uri": "https://localhost:8080/",
          "height": 87
        },
        "id": "V94AbErKGGg1",
        "outputId": "7d0697d4-a3be-416f-a4fe-22e942287d9c"
      },
      "outputs": [
        {
          "output_type": "execute_result",
          "data": {
            "text/plain": [
              "'in the 22nd century, a parapleg marin is dispatch to the moon pandora on a uniqu mission, but becom torn between follow order and protect an alien civilization. action adventur fantasi sciencefict cultureclash futur spacewar spacecoloni societi spacetravel futurist romanc space alien tribe alienplanet cgi marin soldier battl loveaffair antiwar powerrel mindandsoul 3d samworthington zoesaldana sigourneyweav jamescameron'"
            ],
            "application/vnd.google.colaboratory.intrinsic+json": {
              "type": "string"
            }
          },
          "metadata": {},
          "execution_count": 45
        }
      ],
      "source": [
        "new_df[\"tags\"].apply(stem)[0]\n"
      ]
    },
    {
      "cell_type": "code",
      "execution_count": 46,
      "metadata": {
        "colab": {
          "base_uri": "https://localhost:8080/",
          "height": 104
        },
        "id": "z2vOciw5H5cC",
        "outputId": "f561d55c-152c-4c28-bd9f-c26c84589ae5"
      },
      "outputs": [
        {
          "output_type": "execute_result",
          "data": {
            "text/plain": [
              "'In the 22nd century, a paraplegic Marine is dispatched to the moon Pandora on a unique mission, but becomes torn between following orders and protecting an alien civilization. Action Adventure Fantasy ScienceFiction cultureclash future spacewar spacecolony society spacetravel futuristic romance space alien tribe alienplanet cgi marine soldier battle loveaffair antiwar powerrelations mindandsoul 3d SamWorthington ZoeSaldana SigourneyWeaver JamesCameron'"
            ],
            "application/vnd.google.colaboratory.intrinsic+json": {
              "type": "string"
            }
          },
          "metadata": {},
          "execution_count": 46
        }
      ],
      "source": [
        "new_df[\"tags\"][0]"
      ]
    },
    {
      "cell_type": "code",
      "execution_count": 46,
      "metadata": {
        "id": "TtxLFDuTX3BY"
      },
      "outputs": [],
      "source": []
    },
    {
      "cell_type": "code",
      "execution_count": 46,
      "metadata": {
        "id": "TL0ASzH0X4kz"
      },
      "outputs": [],
      "source": []
    },
    {
      "cell_type": "code",
      "execution_count": 47,
      "metadata": {
        "id": "7E5u5094_1Lr"
      },
      "outputs": [],
      "source": [
        "from sklearn.feature_extraction.text import CountVectorizer\n",
        "cv=CountVectorizer(max_features=5000,stop_words=\"english\")\n",
        "\n"
      ]
    },
    {
      "cell_type": "code",
      "execution_count": 48,
      "metadata": {
        "id": "CRUaxgNdAyQC"
      },
      "outputs": [],
      "source": [
        "vectors=cv.fit_transform(new_df[\"tags\"]).toarray()\n",
        "\n"
      ]
    },
    {
      "cell_type": "code",
      "execution_count": 49,
      "metadata": {
        "colab": {
          "base_uri": "https://localhost:8080/"
        },
        "id": "EbCEZHVICa_C",
        "outputId": "9173394b-2c09-4c34-ea83-cedee4b8274c"
      },
      "outputs": [
        {
          "output_type": "execute_result",
          "data": {
            "text/plain": [
              "array([[0, 0, 0, ..., 0, 0, 0],\n",
              "       [0, 0, 0, ..., 0, 0, 0],\n",
              "       [0, 0, 0, ..., 0, 0, 0],\n",
              "       ...,\n",
              "       [0, 0, 0, ..., 0, 0, 0],\n",
              "       [0, 0, 0, ..., 0, 0, 0],\n",
              "       [0, 0, 0, ..., 0, 0, 0]])"
            ]
          },
          "metadata": {},
          "execution_count": 49
        }
      ],
      "source": [
        "vectors"
      ]
    },
    {
      "cell_type": "code",
      "execution_count": 50,
      "metadata": {
        "colab": {
          "base_uri": "https://localhost:8080/"
        },
        "id": "w536MEPTDBMP",
        "outputId": "429d0daf-e5cd-4be5-8995-2bbdcdf77ebe"
      },
      "outputs": [
        {
          "output_type": "execute_result",
          "data": {
            "text/plain": [
              "array(['000', '007', '10', ..., 'zooeydeschanel', 'zookeeper', 'zorro'],\n",
              "      dtype=object)"
            ]
          },
          "metadata": {},
          "execution_count": 50
        }
      ],
      "source": [
        "cv.get_feature_names_out()"
      ]
    },
    {
      "cell_type": "code",
      "execution_count": 51,
      "metadata": {
        "colab": {
          "base_uri": "https://localhost:8080/"
        },
        "id": "f5mRyfhSX6x0",
        "outputId": "8e7a877f-4088-404f-b74e-d54a1ff44bb4"
      },
      "outputs": [
        {
          "output_type": "execute_result",
          "data": {
            "text/plain": [
              "(846, 5000)"
            ]
          },
          "metadata": {},
          "execution_count": 51
        }
      ],
      "source": [
        "vectors.shape"
      ]
    },
    {
      "cell_type": "code",
      "execution_count": 52,
      "metadata": {
        "id": "gkxs6WUwdLIV"
      },
      "outputs": [],
      "source": [
        "from sklearn.metrics.pairwise import cosine_similarity\n",
        "similarity=cosine_similarity(vectors)"
      ]
    },
    {
      "cell_type": "code",
      "execution_count": 53,
      "metadata": {
        "colab": {
          "base_uri": "https://localhost:8080/"
        },
        "id": "MbJNlMLpdmqk",
        "outputId": "1d472767-f98f-4918-d4d4-798400c0bc5e"
      },
      "outputs": [
        {
          "output_type": "execute_result",
          "data": {
            "text/plain": [
              "[(539, 0.2410522128025111),\n",
              " (507, 0.22178140560001575),\n",
              " (260, 0.22086305214969307),\n",
              " (582, 0.2186870084203477),\n",
              " (61, 0.20447945297729914)]"
            ]
          },
          "metadata": {},
          "execution_count": 53
        }
      ],
      "source": [
        "sorted(list(enumerate(similarity[0])),reverse=True,key=lambda s:s[1])[1:6]"
      ]
    },
    {
      "cell_type": "code",
      "execution_count": 54,
      "metadata": {
        "id": "CE1_0Gn6epGE"
      },
      "outputs": [],
      "source": [
        "def recommend(movie):\n",
        "  index=new_df[new_df[\"title\"]==movie].index[0]\n",
        "  distances=similarity[index]\n",
        "  movie_list=sorted(list(enumerate(distances)),reverse=True,key=lambda s:s[1])[1:6]\n",
        "  for i in movie_list:\n",
        "    print(new_df.iloc[i[0]].title)\n",
        "\n",
        "\n",
        "\n",
        "\n"
      ]
    },
    {
      "cell_type": "code",
      "execution_count": 55,
      "metadata": {
        "colab": {
          "base_uri": "https://localhost:8080/"
        },
        "id": "qrbK6LdZev4j",
        "outputId": "f65fbd68-1884-4219-b34a-35814cca12f2"
      },
      "outputs": [
        {
          "output_type": "stream",
          "name": "stdout",
          "text": [
            "The Dark Knight\n",
            "The Dark Knight Rises\n",
            "Batman & Robin\n",
            "Batman v Superman: Dawn of Justice\n",
            "Batman Forever\n"
          ]
        }
      ],
      "source": [
        "recommend(\"Batman Begins\")"
      ]
    },
    {
      "cell_type": "code",
      "execution_count": 56,
      "metadata": {
        "colab": {
          "base_uri": "https://localhost:8080/",
          "height": 178
        },
        "id": "lqcx018Gs5-k",
        "outputId": "191e8e9f-bd5d-4458-c4f7-e9fdf7873d4a"
      },
      "outputs": [
        {
          "output_type": "execute_result",
          "data": {
            "text/plain": [
              "0                                      Avatar\n",
              "1    Pirates of the Caribbean: At World's End\n",
              "2                                     Spectre\n",
              "Name: title, dtype: object"
            ],
            "text/html": [
              "<div>\n",
              "<style scoped>\n",
              "    .dataframe tbody tr th:only-of-type {\n",
              "        vertical-align: middle;\n",
              "    }\n",
              "\n",
              "    .dataframe tbody tr th {\n",
              "        vertical-align: top;\n",
              "    }\n",
              "\n",
              "    .dataframe thead th {\n",
              "        text-align: right;\n",
              "    }\n",
              "</style>\n",
              "<table border=\"1\" class=\"dataframe\">\n",
              "  <thead>\n",
              "    <tr style=\"text-align: right;\">\n",
              "      <th></th>\n",
              "      <th>title</th>\n",
              "    </tr>\n",
              "  </thead>\n",
              "  <tbody>\n",
              "    <tr>\n",
              "      <th>0</th>\n",
              "      <td>Avatar</td>\n",
              "    </tr>\n",
              "    <tr>\n",
              "      <th>1</th>\n",
              "      <td>Pirates of the Caribbean: At World's End</td>\n",
              "    </tr>\n",
              "    <tr>\n",
              "      <th>2</th>\n",
              "      <td>Spectre</td>\n",
              "    </tr>\n",
              "  </tbody>\n",
              "</table>\n",
              "</div><br><label><b>dtype:</b> object</label>"
            ]
          },
          "metadata": {},
          "execution_count": 56
        }
      ],
      "source": [
        "new_df[\"title\"].head(3)"
      ]
    },
    {
      "cell_type": "code",
      "execution_count": 57,
      "metadata": {
        "colab": {
          "base_uri": "https://localhost:8080/"
        },
        "id": "T5Qdw6L3uJa3",
        "outputId": "85fe4935-f422-4c44-d890-a6ba5345723a"
      },
      "outputs": [
        {
          "output_type": "stream",
          "name": "stdout",
          "text": [
            "Requirement already satisfied: pip in /usr/local/lib/python3.10/dist-packages (24.2)\n"
          ]
        }
      ],
      "source": [
        "!pip install --upgrade pip\n",
        "\n"
      ]
    },
    {
      "cell_type": "code",
      "execution_count": 58,
      "metadata": {
        "colab": {
          "base_uri": "https://localhost:8080/"
        },
        "id": "XlgH2na5r4CB",
        "outputId": "b433c8c1-f980-49e4-b523-835b6b55c2ef"
      },
      "outputs": [
        {
          "output_type": "stream",
          "name": "stdout",
          "text": [
            "Requirement already satisfied: setuptools in /usr/local/lib/python3.10/dist-packages (75.2.0)\n"
          ]
        }
      ],
      "source": [
        "\n",
        "!pip install --upgrade setuptools"
      ]
    },
    {
      "cell_type": "code",
      "execution_count": 63,
      "metadata": {
        "colab": {
          "base_uri": "https://localhost:8080/",
          "height": 35
        },
        "id": "9i69BAdxP6KA",
        "outputId": "ceab41b2-7089-464d-e617-b382133c2d26"
      },
      "outputs": [
        {
          "output_type": "execute_result",
          "data": {
            "text/plain": [
              "'Life of Pi'"
            ],
            "application/vnd.google.colaboratory.intrinsic+json": {
              "type": "string"
            }
          },
          "metadata": {},
          "execution_count": 63
        }
      ],
      "source": [
        "new_df.iloc[216].title"
      ]
    },
    {
      "cell_type": "code",
      "execution_count": 60,
      "metadata": {
        "id": "AVbQ2dTSRsYD"
      },
      "outputs": [],
      "source": [
        "import pickle"
      ]
    },
    {
      "cell_type": "code",
      "execution_count": 62,
      "metadata": {
        "id": "Ze0S1Bn3R8IZ"
      },
      "outputs": [],
      "source": [
        "pickle.dump(new_df,open(\"movies.pkl\",\"wb\"))"
      ]
    },
    {
      "cell_type": "code",
      "source": [
        "pickle.dump(new_df.to_dict(),open(\"movies_dict.pkl\",\"wb\"))"
      ],
      "metadata": {
        "id": "SE6V0WBhyFdP"
      },
      "execution_count": 66,
      "outputs": []
    },
    {
      "cell_type": "code",
      "source": [
        "pickle.dump(similarity,open(\"similarity.pkl\",\"wb\"))"
      ],
      "metadata": {
        "id": "imd51U7_3TBy"
      },
      "execution_count": 67,
      "outputs": []
    }
  ],
  "metadata": {
    "colab": {
      "provenance": []
    },
    "kernelspec": {
      "display_name": "Python 3",
      "name": "python3"
    },
    "language_info": {
      "name": "python"
    }
  },
  "nbformat": 4,
  "nbformat_minor": 0
}